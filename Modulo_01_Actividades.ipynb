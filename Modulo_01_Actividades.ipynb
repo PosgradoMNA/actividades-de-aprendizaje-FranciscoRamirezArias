{
 "cells": [
  {
   "cell_type": "markdown",
   "id": "3f072c0f-fd74-4330-88fb-93ee564b1994",
   "metadata": {},
   "source": [
    "Actividades o Apunte Modulo #1: Python IBM       Francisco Javier Ramírez Arias "
   ]
  },
  {
   "cell_type": "code",
   "execution_count": 1,
   "id": "b19eb2b0-45bf-4c9b-867a-60f14c2a9f63",
   "metadata": {},
   "outputs": [
    {
     "name": "stdout",
     "output_type": "stream",
     "text": [
      "Hello World\n"
     ]
    }
   ],
   "source": [
    "#Mi primer programa\n",
    "print(\"Hello World\")"
   ]
  },
  {
   "cell_type": "code",
   "execution_count": 36,
   "id": "2ee11109-e9fe-4ab2-8942-a03c1c369e08",
   "metadata": {},
   "outputs": [
    {
     "name": "stdout",
     "output_type": "stream",
     "text": [
      "Hello \n",
      "World\n"
     ]
    }
   ],
   "source": [
    "print(\"Hello \\nWorld\")"
   ]
  },
  {
   "cell_type": "code",
   "execution_count": 37,
   "id": "b9f8d873-5afc-437f-9acb-50cf23ac5f02",
   "metadata": {},
   "outputs": [],
   "source": [
    "#Esto es un comentario"
   ]
  },
  {
   "cell_type": "markdown",
   "id": "07b02968-3a03-4f14-ae97-9cb40bd69373",
   "metadata": {},
   "source": [
    "Actividades Tipo de Datos y Conversiones"
   ]
  },
  {
   "cell_type": "code",
   "execution_count": 38,
   "id": "805a5338-91fd-44e4-9dda-2c2c2b42eb70",
   "metadata": {},
   "outputs": [
    {
     "data": {
      "text/plain": [
       "str"
      ]
     },
     "execution_count": 38,
     "metadata": {},
     "output_type": "execute_result"
    }
   ],
   "source": [
    "type(\"Hello World\")"
   ]
  },
  {
   "cell_type": "code",
   "execution_count": 39,
   "id": "64fe216c-2a46-43d0-82d4-ad5ab47e0b9b",
   "metadata": {},
   "outputs": [
    {
     "data": {
      "text/plain": [
       "str"
      ]
     },
     "execution_count": 39,
     "metadata": {},
     "output_type": "execute_result"
    }
   ],
   "source": [
    "type(\"1.1\")"
   ]
  },
  {
   "cell_type": "code",
   "execution_count": 40,
   "id": "4e62e7d5-ed35-4253-9a8a-1772b008f69a",
   "metadata": {},
   "outputs": [
    {
     "name": "stdout",
     "output_type": "stream",
     "text": [
      "1\n",
      "True\n"
     ]
    }
   ],
   "source": [
    "print(int(\"1\"))\n",
    "print(bool(\"1\"))"
   ]
  },
  {
   "cell_type": "markdown",
   "id": "777669ad-c966-40bc-9944-7af9e3883589",
   "metadata": {},
   "source": [
    "Actividades de Escribiendo tu Primer Codigo en Phyton"
   ]
  },
  {
   "cell_type": "code",
   "execution_count": 41,
   "id": "ed280f6a-d91d-4e67-bbec-fc61c20a81ad",
   "metadata": {},
   "outputs": [
    {
     "name": "stdout",
     "output_type": "stream",
     "text": [
      "Hello, Python!\n"
     ]
    }
   ],
   "source": [
    "print('Hello, Python!')"
   ]
  },
  {
   "cell_type": "code",
   "execution_count": 42,
   "id": "ba319cb5-aec2-4497-bd01-d26a5fbb593f",
   "metadata": {},
   "outputs": [
    {
     "name": "stdout",
     "output_type": "stream",
     "text": [
      "3.7.12 | packaged by conda-forge | (default, Oct 26 2021, 06:08:53) \n",
      "[GCC 9.4.0]\n"
     ]
    }
   ],
   "source": [
    "#Version de Python\n",
    "import sys\n",
    "print(sys.version)"
   ]
  },
  {
   "cell_type": "code",
   "execution_count": 43,
   "id": "62535780-fb35-47f8-8474-d55a7176025f",
   "metadata": {},
   "outputs": [
    {
     "name": "stdout",
     "output_type": "stream",
     "text": [
      "Hello, Python!\n"
     ]
    }
   ],
   "source": [
    "#Practica de comentarios\n",
    "print('Hello, Python!') # Esta linea imprime un string\n",
    "# print('Hola')"
   ]
  },
  {
   "cell_type": "code",
   "execution_count": 44,
   "id": "7bdb5a84-3247-47e9-b849-20a1e9746f8b",
   "metadata": {},
   "outputs": [
    {
     "ename": "NameError",
     "evalue": "name 'frint' is not defined",
     "output_type": "error",
     "traceback": [
      "\u001b[0;31m---------------------------------------------------------------------------\u001b[0m",
      "\u001b[0;31mNameError\u001b[0m                                 Traceback (most recent call last)",
      "\u001b[0;32m/tmp/ipykernel_69/684738871.py\u001b[0m in \u001b[0;36m<module>\u001b[0;34m\u001b[0m\n\u001b[1;32m      1\u001b[0m \u001b[0;31m#Esta es un error de impresion\u001b[0m\u001b[0;34m\u001b[0m\u001b[0;34m\u001b[0m\u001b[0;34m\u001b[0m\u001b[0m\n\u001b[0;32m----> 2\u001b[0;31m \u001b[0mfrint\u001b[0m\u001b[0;34m(\u001b[0m\u001b[0;34m\"Hello, Python!\"\u001b[0m\u001b[0;34m)\u001b[0m\u001b[0;34m\u001b[0m\u001b[0;34m\u001b[0m\u001b[0m\n\u001b[0m",
      "\u001b[0;31mNameError\u001b[0m: name 'frint' is not defined"
     ]
    }
   ],
   "source": [
    "#Esta es un error de impresion\n",
    "frint(\"Hello, Python!\")"
   ]
  },
  {
   "cell_type": "code",
   "execution_count": 45,
   "id": "a7642fac-1fbe-45ef-a58f-40dd6ecdbdfe",
   "metadata": {},
   "outputs": [
    {
     "name": "stdout",
     "output_type": "stream",
     "text": [
      "Hello, Python!\n"
     ]
    }
   ],
   "source": [
    "#Aqui ta se cambio\n",
    "print(\"Hello, Python!\")"
   ]
  },
  {
   "cell_type": "code",
   "execution_count": 46,
   "id": "91e17599-d0a9-4ee4-8ab2-d2d402319c24",
   "metadata": {},
   "outputs": [
    {
     "name": "stdout",
     "output_type": "stream",
     "text": [
      "This will be printed\n"
     ]
    },
    {
     "ename": "NameError",
     "evalue": "name 'frint' is not defined",
     "output_type": "error",
     "traceback": [
      "\u001b[0;31m---------------------------------------------------------------------------\u001b[0m",
      "\u001b[0;31mNameError\u001b[0m                                 Traceback (most recent call last)",
      "\u001b[0;32m/tmp/ipykernel_69/3195787479.py\u001b[0m in \u001b[0;36m<module>\u001b[0;34m\u001b[0m\n\u001b[1;32m      1\u001b[0m \u001b[0;31m#Imprimir string y errores para ver el orden de ejecucion\u001b[0m\u001b[0;34m\u001b[0m\u001b[0;34m\u001b[0m\u001b[0;34m\u001b[0m\u001b[0m\n\u001b[1;32m      2\u001b[0m \u001b[0mprint\u001b[0m\u001b[0;34m(\u001b[0m\u001b[0;34m\"This will be printed\"\u001b[0m\u001b[0;34m)\u001b[0m\u001b[0;34m\u001b[0m\u001b[0;34m\u001b[0m\u001b[0m\n\u001b[0;32m----> 3\u001b[0;31m \u001b[0mfrint\u001b[0m\u001b[0;34m(\u001b[0m\u001b[0;34m\"This will cause an error\"\u001b[0m\u001b[0;34m)\u001b[0m\u001b[0;34m\u001b[0m\u001b[0;34m\u001b[0m\u001b[0m\n\u001b[0m\u001b[1;32m      4\u001b[0m \u001b[0mprint\u001b[0m\u001b[0;34m(\u001b[0m\u001b[0;34m\"This will NOT be printed\"\u001b[0m\u001b[0;34m)\u001b[0m\u001b[0;34m\u001b[0m\u001b[0;34m\u001b[0m\u001b[0m\n",
      "\u001b[0;31mNameError\u001b[0m: name 'frint' is not defined"
     ]
    }
   ],
   "source": [
    "#Imprimir string y errores para ver el orden de ejecucion\n",
    "print(\"This will be printed\")\n",
    "frint(\"This will cause an error\")\n",
    "print(\"This will NOT be printed\")"
   ]
  },
  {
   "cell_type": "code",
   "execution_count": 47,
   "id": "bc8ac174-1e11-43ca-916f-46197c6bf2e2",
   "metadata": {},
   "outputs": [
    {
     "name": "stdout",
     "output_type": "stream",
     "text": [
      "Hola, Mundo!\n"
     ]
    }
   ],
   "source": [
    "#Primer Programa: Imprime Hola, Mundo!\n",
    "print(\"Hola, Mundo!\")"
   ]
  },
  {
   "cell_type": "code",
   "execution_count": 48,
   "id": "9be1614b-5428-4b48-8079-6df7fa599c34",
   "metadata": {},
   "outputs": [
    {
     "name": "stdout",
     "output_type": "stream",
     "text": [
      "Hola, Mundo!\n"
     ]
    }
   ],
   "source": [
    "print(\"Hola, Mundo!\") #Imprimiendo el tradicional Hola, Mundo!"
   ]
  },
  {
   "cell_type": "markdown",
   "id": "a3d47e4b-2995-4665-84d6-33701e488fad",
   "metadata": {},
   "source": [
    "##Tipos de Objetos en Python##\n"
   ]
  },
  {
   "cell_type": "code",
   "execution_count": 49,
   "id": "f03c4f35-0dd0-4d81-8c0a-da39f882d74c",
   "metadata": {},
   "outputs": [
    {
     "data": {
      "text/plain": [
       "11"
      ]
     },
     "execution_count": 49,
     "metadata": {},
     "output_type": "execute_result"
    }
   ],
   "source": [
    "#Entero\n",
    "11"
   ]
  },
  {
   "cell_type": "code",
   "execution_count": 50,
   "id": "00110a6a-1b36-4d47-8f9e-aedd10f49bd4",
   "metadata": {},
   "outputs": [
    {
     "data": {
      "text/plain": [
       "2.14"
      ]
     },
     "execution_count": 50,
     "metadata": {},
     "output_type": "execute_result"
    }
   ],
   "source": [
    "#Flotante\n",
    "2.14"
   ]
  },
  {
   "cell_type": "code",
   "execution_count": 51,
   "id": "431d18fd-6f30-4915-a0fe-da55aff81298",
   "metadata": {},
   "outputs": [
    {
     "data": {
      "text/plain": [
       "'Hola, Python 101!'"
      ]
     },
     "execution_count": 51,
     "metadata": {},
     "output_type": "execute_result"
    }
   ],
   "source": [
    "#String\n",
    "\"Hola, Python 101!\""
   ]
  },
  {
   "cell_type": "code",
   "execution_count": 52,
   "id": "0388e2c7-b69e-4723-b434-057b02decb21",
   "metadata": {},
   "outputs": [
    {
     "data": {
      "text/plain": [
       "int"
      ]
     },
     "execution_count": 52,
     "metadata": {},
     "output_type": "execute_result"
    }
   ],
   "source": [
    "#Pasa comocer el tipo de dato, utilizamos la funcion \"type\"\n",
    "\n",
    "type(12)"
   ]
  },
  {
   "cell_type": "code",
   "execution_count": 53,
   "id": "7b9411c1-7bcc-4aff-8fc4-6fca11654ad4",
   "metadata": {},
   "outputs": [
    {
     "data": {
      "text/plain": [
       "float"
      ]
     },
     "execution_count": 53,
     "metadata": {},
     "output_type": "execute_result"
    }
   ],
   "source": [
    "type(2.14)"
   ]
  },
  {
   "cell_type": "code",
   "execution_count": 54,
   "id": "77a33a2d-35e9-4019-8046-1a917baa4e8f",
   "metadata": {},
   "outputs": [
    {
     "data": {
      "text/plain": [
       "str"
      ]
     },
     "execution_count": 54,
     "metadata": {},
     "output_type": "execute_result"
    }
   ],
   "source": [
    "type(\"Hola, Python\")"
   ]
  },
  {
   "cell_type": "code",
   "execution_count": 55,
   "id": "df7f9a7a-8e6a-4c26-998e-aad7c4a3cb61",
   "metadata": {},
   "outputs": [
    {
     "data": {
      "text/plain": [
       "float"
      ]
     },
     "execution_count": 55,
     "metadata": {},
     "output_type": "execute_result"
    }
   ],
   "source": [
    "type(12.0)"
   ]
  },
  {
   "cell_type": "markdown",
   "id": "0dedb20e-f809-4e3e-bea8-c50177416683",
   "metadata": {},
   "source": [
    "Enteros"
   ]
  },
  {
   "cell_type": "code",
   "execution_count": 56,
   "id": "dbd7f07c-2a21-4639-bcdf-d70a433eb2b9",
   "metadata": {},
   "outputs": [
    {
     "data": {
      "text/plain": [
       "int"
      ]
     },
     "execution_count": 56,
     "metadata": {},
     "output_type": "execute_result"
    }
   ],
   "source": [
    "#Impirme el tipo de -1\n",
    "type(-1)"
   ]
  },
  {
   "cell_type": "code",
   "execution_count": 57,
   "id": "9f16792b-3713-4c7a-b7c8-6b98715419f3",
   "metadata": {},
   "outputs": [
    {
     "data": {
      "text/plain": [
       "int"
      ]
     },
     "execution_count": 57,
     "metadata": {},
     "output_type": "execute_result"
    }
   ],
   "source": [
    "#Imprime el tipo de 4\n",
    "type(4)"
   ]
  },
  {
   "cell_type": "code",
   "execution_count": 58,
   "id": "1f3a61ec-ccf3-487e-826a-bf9b3da1b4d2",
   "metadata": {},
   "outputs": [
    {
     "data": {
      "text/plain": [
       "int"
      ]
     },
     "execution_count": 58,
     "metadata": {},
     "output_type": "execute_result"
    }
   ],
   "source": [
    "#Imprime el tipo de 0\n",
    "type(0)"
   ]
  },
  {
   "cell_type": "markdown",
   "id": "16a7f8d5-a780-40a7-998d-8d9a924987dd",
   "metadata": {},
   "source": [
    "Flotantes"
   ]
  },
  {
   "cell_type": "code",
   "execution_count": 59,
   "id": "53b8dea2-ae32-4710-9c45-aeb5bd7e420b",
   "metadata": {},
   "outputs": [
    {
     "data": {
      "text/plain": [
       "float"
      ]
     },
     "execution_count": 59,
     "metadata": {},
     "output_type": "execute_result"
    }
   ],
   "source": [
    "#Imprime el tipo de 1.0\n",
    "type(1.0)"
   ]
  },
  {
   "cell_type": "code",
   "execution_count": 60,
   "id": "57968289-b183-42e0-af73-b928f2666940",
   "metadata": {},
   "outputs": [
    {
     "data": {
      "text/plain": [
       "float"
      ]
     },
     "execution_count": 60,
     "metadata": {},
     "output_type": "execute_result"
    }
   ],
   "source": [
    "#Imprime el tipo de 0.5\n",
    "type(0.5)"
   ]
  },
  {
   "cell_type": "code",
   "execution_count": 61,
   "id": "d8318706-5c89-4097-bef5-d30db371e4cc",
   "metadata": {},
   "outputs": [
    {
     "data": {
      "text/plain": [
       "float"
      ]
     },
     "execution_count": 61,
     "metadata": {},
     "output_type": "execute_result"
    }
   ],
   "source": [
    "#Imprime el tipo de 0.56\n",
    "type(0.56)"
   ]
  },
  {
   "cell_type": "code",
   "execution_count": 62,
   "id": "621152cf-50f0-4e28-8ded-4c1be1a9619a",
   "metadata": {},
   "outputs": [
    {
     "data": {
      "text/plain": [
       "sys.float_info(max=1.7976931348623157e+308, max_exp=1024, max_10_exp=308, min=2.2250738585072014e-308, min_exp=-1021, min_10_exp=-307, dig=15, mant_dig=53, epsilon=2.220446049250313e-16, radix=2, rounds=1)"
      ]
     },
     "execution_count": 62,
     "metadata": {},
     "output_type": "execute_result"
    }
   ],
   "source": [
    "#Ajustes del sistema sobre el tipo de flotantes\n",
    "sys.float_info"
   ]
  },
  {
   "cell_type": "markdown",
   "id": "1fcdd4fd-4833-4b52-a231-d52119174259",
   "metadata": {},
   "source": [
    "Convirtiendo de un tipo de objeto a otro diferente tipo de objeto"
   ]
  },
  {
   "cell_type": "code",
   "execution_count": 63,
   "id": "7d02f96b-e463-4004-8fe1-d60928eaf6d2",
   "metadata": {},
   "outputs": [
    {
     "data": {
      "text/plain": [
       "int"
      ]
     },
     "execution_count": 63,
     "metadata": {},
     "output_type": "execute_result"
    }
   ],
   "source": [
    "#Verifica si es un entero\n",
    "type(2)"
   ]
  },
  {
   "cell_type": "code",
   "execution_count": 64,
   "id": "671e5b58-0a3e-487f-8fdf-ad53dd8ac4fe",
   "metadata": {},
   "outputs": [
    {
     "data": {
      "text/plain": [
       "2.0"
      ]
     },
     "execution_count": 64,
     "metadata": {},
     "output_type": "execute_result"
    }
   ],
   "source": [
    "#Convierte 2 a flotante\n",
    "float(2)"
   ]
  },
  {
   "cell_type": "code",
   "execution_count": 65,
   "id": "578dc3d7-c7bf-4330-924a-807d9f8d52d8",
   "metadata": {},
   "outputs": [
    {
     "data": {
      "text/plain": [
       "float"
      ]
     },
     "execution_count": 65,
     "metadata": {},
     "output_type": "execute_result"
    }
   ],
   "source": [
    "#Convierte 2 a flotante y verifica su tipo\n",
    "type(float(2))"
   ]
  },
  {
   "cell_type": "code",
   "execution_count": 66,
   "id": "14fa8802-73eb-4b35-81b7-8403e1e53292",
   "metadata": {},
   "outputs": [
    {
     "data": {
      "text/plain": [
       "1"
      ]
     },
     "execution_count": 66,
     "metadata": {},
     "output_type": "execute_result"
    }
   ],
   "source": [
    "#Convierte 1.1 a un entero, en el resultado hat perdida de informacion\n",
    "int(1.1)"
   ]
  },
  {
   "cell_type": "markdown",
   "id": "10feaab0-7997-400f-b227-209347bb30d3",
   "metadata": {},
   "source": [
    "#Convirtiendo de string a entero o flotantes"
   ]
  },
  {
   "cell_type": "code",
   "execution_count": 67,
   "id": "926bcf03-a2bc-4c5b-81dc-ab9471f3bccf",
   "metadata": {},
   "outputs": [
    {
     "data": {
      "text/plain": [
       "1"
      ]
     },
     "execution_count": 67,
     "metadata": {},
     "output_type": "execute_result"
    }
   ],
   "source": [
    "#Convertir un string en entero\n",
    "int('1')"
   ]
  },
  {
   "cell_type": "code",
   "execution_count": 68,
   "id": "0247bc16-216b-48cb-a5fa-56d46d1fb8cf",
   "metadata": {},
   "outputs": [
    {
     "ename": "ValueError",
     "evalue": "invalid literal for int() with base 10: '1 o 2 personas'",
     "output_type": "error",
     "traceback": [
      "\u001b[0;31m---------------------------------------------------------------------------\u001b[0m",
      "\u001b[0;31mValueError\u001b[0m                                Traceback (most recent call last)",
      "\u001b[0;32m/tmp/ipykernel_69/3984673097.py\u001b[0m in \u001b[0;36m<module>\u001b[0;34m\u001b[0m\n\u001b[1;32m      1\u001b[0m \u001b[0;31m#Convertir un string a un entero con error\u001b[0m\u001b[0;34m\u001b[0m\u001b[0;34m\u001b[0m\u001b[0;34m\u001b[0m\u001b[0m\n\u001b[0;32m----> 2\u001b[0;31m \u001b[0mint\u001b[0m\u001b[0;34m(\u001b[0m\u001b[0;34m'1 o 2 personas'\u001b[0m\u001b[0;34m)\u001b[0m\u001b[0;34m\u001b[0m\u001b[0;34m\u001b[0m\u001b[0m\n\u001b[0m",
      "\u001b[0;31mValueError\u001b[0m: invalid literal for int() with base 10: '1 o 2 personas'"
     ]
    }
   ],
   "source": [
    "#Convertir un string a un entero con error\n",
    "int('1 o 2 personas')"
   ]
  },
  {
   "cell_type": "code",
   "execution_count": 70,
   "id": "288b2e6e-9b40-40e0-a776-f906a6128c48",
   "metadata": {},
   "outputs": [
    {
     "data": {
      "text/plain": [
       "1.2"
      ]
     },
     "execution_count": 70,
     "metadata": {},
     "output_type": "execute_result"
    }
   ],
   "source": [
    "#Convertir string \"1.2\" en un flotante\n",
    "float('1.2')"
   ]
  },
  {
   "cell_type": "markdown",
   "id": "2b446a3a-f44b-45c1-8c70-9bf784792e9f",
   "metadata": {},
   "source": [
    "Convirtiendo numeros a string"
   ]
  },
  {
   "cell_type": "code",
   "execution_count": 71,
   "id": "16af2136-537e-4650-9ce5-81df7e8f9943",
   "metadata": {},
   "outputs": [
    {
     "data": {
      "text/plain": [
       "'1'"
      ]
     },
     "execution_count": 71,
     "metadata": {},
     "output_type": "execute_result"
    }
   ],
   "source": [
    "#Convertir un entero a string\n",
    "str(1)"
   ]
  },
  {
   "cell_type": "code",
   "execution_count": 72,
   "id": "54fb7138-aa36-4330-94ba-f24f120c9ce1",
   "metadata": {},
   "outputs": [
    {
     "data": {
      "text/plain": [
       "'1.2'"
      ]
     },
     "execution_count": 72,
     "metadata": {},
     "output_type": "execute_result"
    }
   ],
   "source": [
    "#Convertir un flotante\n",
    "str(1.2)"
   ]
  },
  {
   "cell_type": "markdown",
   "id": "a9c408be-9d2b-4050-8b34-a8f47401581c",
   "metadata": {},
   "source": [
    "Tipo de Datos Booleanos"
   ]
  },
  {
   "cell_type": "code",
   "execution_count": 73,
   "id": "aa8d1d7b-be86-4ba2-b981-ab1b5d35dd2a",
   "metadata": {},
   "outputs": [
    {
     "data": {
      "text/plain": [
       "True"
      ]
     },
     "execution_count": 73,
     "metadata": {},
     "output_type": "execute_result"
    }
   ],
   "source": [
    "#Valor verdadero\n",
    "True"
   ]
  },
  {
   "cell_type": "code",
   "execution_count": 74,
   "id": "4ac7bfac-2b47-4d92-91ac-c3f17cb6a7bc",
   "metadata": {},
   "outputs": [
    {
     "data": {
      "text/plain": [
       "False"
      ]
     },
     "execution_count": 74,
     "metadata": {},
     "output_type": "execute_result"
    }
   ],
   "source": [
    "#Valor falso\n",
    "False"
   ]
  },
  {
   "cell_type": "code",
   "execution_count": 75,
   "id": "a8259ed4-401a-41db-85c4-627089f61a37",
   "metadata": {},
   "outputs": [
    {
     "data": {
      "text/plain": [
       "bool"
      ]
     },
     "execution_count": 75,
     "metadata": {},
     "output_type": "execute_result"
    }
   ],
   "source": [
    "#Tipo de datos Booleano\n",
    "type(True)"
   ]
  },
  {
   "cell_type": "code",
   "execution_count": 76,
   "id": "faff7f53-a916-4d71-a9e6-f50d3f6d6e9d",
   "metadata": {},
   "outputs": [
    {
     "data": {
      "text/plain": [
       "bool"
      ]
     },
     "execution_count": 76,
     "metadata": {},
     "output_type": "execute_result"
    }
   ],
   "source": [
    "#Tipo de dato falso\n",
    "\n",
    "type(False)"
   ]
  },
  {
   "cell_type": "code",
   "execution_count": 77,
   "id": "1320f050-8a46-4c2b-befe-c11f957993c2",
   "metadata": {},
   "outputs": [
    {
     "data": {
      "text/plain": [
       "1"
      ]
     },
     "execution_count": 77,
     "metadata": {},
     "output_type": "execute_result"
    }
   ],
   "source": [
    "#Convertir booleano a entero\n",
    "int(True)"
   ]
  },
  {
   "cell_type": "code",
   "execution_count": 78,
   "id": "e2c0217a-5ad4-40b8-841e-218e642dd3e6",
   "metadata": {},
   "outputs": [
    {
     "data": {
      "text/plain": [
       "True"
      ]
     },
     "execution_count": 78,
     "metadata": {},
     "output_type": "execute_result"
    }
   ],
   "source": [
    "#Convertir 1 a booleano\n",
    "bool(1)"
   ]
  },
  {
   "cell_type": "code",
   "execution_count": 79,
   "id": "e4c1550b-7921-49fe-9f1a-8af6b78e7b83",
   "metadata": {},
   "outputs": [
    {
     "data": {
      "text/plain": [
       "False"
      ]
     },
     "execution_count": 79,
     "metadata": {},
     "output_type": "execute_result"
    }
   ],
   "source": [
    "#Convertir 0 a booleano\n",
    "bool(0)"
   ]
  },
  {
   "cell_type": "code",
   "execution_count": 80,
   "id": "9a06161f-1daf-4a1f-b29f-80d0ebb16b4a",
   "metadata": {},
   "outputs": [
    {
     "data": {
      "text/plain": [
       "1.0"
      ]
     },
     "execution_count": 80,
     "metadata": {},
     "output_type": "execute_result"
    }
   ],
   "source": [
    "#Connvertir verdadero a flotante\n",
    "float(True)"
   ]
  },
  {
   "cell_type": "markdown",
   "id": "6dab5084-8ec0-4712-aae9-028b4cf8f836",
   "metadata": {},
   "source": [
    "Ejercicios de Tipos"
   ]
  },
  {
   "cell_type": "code",
   "execution_count": 81,
   "id": "a43003f3-f574-4fb0-ba73-dc5bb8070587",
   "metadata": {},
   "outputs": [
    {
     "data": {
      "text/plain": [
       "float"
      ]
     },
     "execution_count": 81,
     "metadata": {},
     "output_type": "execute_result"
    }
   ],
   "source": [
    "#Que tipo de dato es el resultado de 6/2\n",
    "type(6/2)"
   ]
  },
  {
   "cell_type": "code",
   "execution_count": null,
   "id": "57402f26-0973-4203-abe5-744756dac377",
   "metadata": {},
   "outputs": [],
   "source": [
    "#Que tipo de dato es el resultado de 6//2\n",
    "type(6//2)"
   ]
  },
  {
   "cell_type": "markdown",
   "id": "8152922b-7693-43ac-a6a4-f601c3491aff",
   "metadata": {},
   "source": [
    "Expresiones"
   ]
  },
  {
   "cell_type": "code",
   "execution_count": 83,
   "id": "7d0073c0-9d91-467c-ae4d-ba7db1d16c29",
   "metadata": {},
   "outputs": [
    {
     "data": {
      "text/plain": [
       "160"
      ]
     },
     "execution_count": 83,
     "metadata": {},
     "output_type": "execute_result"
    }
   ],
   "source": [
    "#Expresion de operacion de suma\n",
    "43 + 60 +16 +41"
   ]
  },
  {
   "cell_type": "code",
   "execution_count": 84,
   "id": "8393ee77-9bbd-4de8-b98d-450280e8b9e6",
   "metadata": {},
   "outputs": [
    {
     "data": {
      "text/plain": [
       "-10"
      ]
     },
     "execution_count": 84,
     "metadata": {},
     "output_type": "execute_result"
    }
   ],
   "source": [
    "##Expresion de operacion de sustraccion\n",
    "50 - 60"
   ]
  },
  {
   "cell_type": "code",
   "execution_count": 85,
   "id": "d571b20b-2432-4436-a3cf-c5f92ea79cd7",
   "metadata": {},
   "outputs": [
    {
     "data": {
      "text/plain": [
       "25"
      ]
     },
     "execution_count": 85,
     "metadata": {},
     "output_type": "execute_result"
    }
   ],
   "source": [
    "#Expresion de operacion de multiplicacion\n",
    "5 * 5"
   ]
  },
  {
   "cell_type": "code",
   "execution_count": 86,
   "id": "44d7f3f0-3d04-404e-80c2-d11bd9786fb4",
   "metadata": {},
   "outputs": [
    {
     "data": {
      "text/plain": [
       "5.0"
      ]
     },
     "execution_count": 86,
     "metadata": {},
     "output_type": "execute_result"
    }
   ],
   "source": [
    "#Expresion de operacion de division\n",
    "25 / 5"
   ]
  },
  {
   "cell_type": "code",
   "execution_count": 87,
   "id": "1c9e38a2-e6dc-4bd6-a8b0-e509c1ccde7b",
   "metadata": {},
   "outputs": [
    {
     "data": {
      "text/plain": [
       "4.166666666666667"
      ]
     },
     "execution_count": 87,
     "metadata": {},
     "output_type": "execute_result"
    }
   ],
   "source": [
    "#Expresion de operacion de division\n",
    "25 / 6"
   ]
  },
  {
   "cell_type": "code",
   "execution_count": 88,
   "id": "b59e7efd-156e-4e70-ac37-1d826644ea55",
   "metadata": {},
   "outputs": [
    {
     "data": {
      "text/plain": [
       "5"
      ]
     },
     "execution_count": 88,
     "metadata": {},
     "output_type": "execute_result"
    }
   ],
   "source": [
    "#Expresion de operacion de division entera\n",
    "25 // 5"
   ]
  },
  {
   "cell_type": "code",
   "execution_count": 89,
   "id": "0de8755c-94ba-4948-85d4-ec4f9381d4ee",
   "metadata": {},
   "outputs": [
    {
     "data": {
      "text/plain": [
       "4"
      ]
     },
     "execution_count": 89,
     "metadata": {},
     "output_type": "execute_result"
    }
   ],
   "source": [
    "#Expresion de operacion de division entera\n",
    "25 // 6"
   ]
  },
  {
   "cell_type": "markdown",
   "id": "c5b9da1f-3af6-480a-86cc-f983a380ab7d",
   "metadata": {},
   "source": [
    "Ejercicios de Expresiones"
   ]
  },
  {
   "cell_type": "code",
   "execution_count": 91,
   "id": "facf185e-6b7c-4554-8ff9-06d6847f430a",
   "metadata": {},
   "outputs": [
    {
     "data": {
      "text/plain": [
       "2.6666666666666665"
      ]
     },
     "execution_count": 91,
     "metadata": {},
     "output_type": "execute_result"
    }
   ],
   "source": [
    "#Escribe un expresion que calcule cuantas horas hay en 160 minutos\n",
    "hours = 160 / 60\n",
    "hours"
   ]
  },
  {
   "cell_type": "code",
   "execution_count": 92,
   "id": "70dfce87-302a-4da3-8742-e684e6ece907",
   "metadata": {},
   "outputs": [
    {
     "data": {
      "text/plain": [
       "2"
      ]
     },
     "execution_count": 92,
     "metadata": {},
     "output_type": "execute_result"
    }
   ],
   "source": [
    "hours = 160 // 60\n",
    "hours"
   ]
  },
  {
   "cell_type": "code",
   "execution_count": 93,
   "id": "c7970956-a8d9-40c6-a9e6-27585d199ec1",
   "metadata": {},
   "outputs": [
    {
     "data": {
      "text/plain": [
       "150"
      ]
     },
     "execution_count": 93,
     "metadata": {},
     "output_type": "execute_result"
    }
   ],
   "source": [
    "#Expresion matemática\n",
    "30 + 2 *60"
   ]
  },
  {
   "cell_type": "code",
   "execution_count": 94,
   "id": "efcdc4bb-b64a-480b-aca9-e1102f848bd1",
   "metadata": {},
   "outputs": [
    {
     "data": {
      "text/plain": [
       "1920"
      ]
     },
     "execution_count": 94,
     "metadata": {},
     "output_type": "execute_result"
    }
   ],
   "source": [
    "#Expresion matematica\n",
    "(30 + 2) * 60"
   ]
  },
  {
   "cell_type": "markdown",
   "id": "a1858139-5223-4013-ac53-660adaf7dda9",
   "metadata": {},
   "source": [
    "Variables"
   ]
  },
  {
   "cell_type": "code",
   "execution_count": 95,
   "id": "cac8fb99-5db8-4445-947a-880cfe831487",
   "metadata": {},
   "outputs": [],
   "source": [
    "#Almacena el valor en una variable\n",
    "x = 43 + 60 + 16 + 41"
   ]
  },
  {
   "cell_type": "code",
   "execution_count": 96,
   "id": "9b76e5aa-61c7-419f-92ae-dee9c7588272",
   "metadata": {},
   "outputs": [
    {
     "data": {
      "text/plain": [
       "160"
      ]
     },
     "execution_count": 96,
     "metadata": {},
     "output_type": "execute_result"
    }
   ],
   "source": [
    "#Imprime el valor de la variable\n",
    "x"
   ]
  },
  {
   "cell_type": "code",
   "execution_count": 98,
   "id": "c913cc58-cbf2-46bc-9da8-53575c737a32",
   "metadata": {},
   "outputs": [
    {
     "data": {
      "text/plain": [
       "2.6666666666666665"
      ]
     },
     "execution_count": 98,
     "metadata": {},
     "output_type": "execute_result"
    }
   ],
   "source": [
    "#Utiliza otra variable para almacenar el resultado de la oeracion entre variable y valor\n",
    "y = x / 60\n",
    "y"
   ]
  },
  {
   "cell_type": "code",
   "execution_count": 99,
   "id": "28c47950-bd43-49c2-bf5f-6fd4b285b832",
   "metadata": {},
   "outputs": [
    {
     "data": {
      "text/plain": [
       "2.6666666666666665"
      ]
     },
     "execution_count": 99,
     "metadata": {},
     "output_type": "execute_result"
    }
   ],
   "source": [
    "#Sobreescribe la variable con un nuevo valor\n",
    "x = x / 60\n",
    "x"
   ]
  },
  {
   "cell_type": "code",
   "execution_count": 100,
   "id": "bdf9672e-3c67-49bc-b041-caabae4563c7",
   "metadata": {},
   "outputs": [
    {
     "data": {
      "text/plain": [
       "142"
      ]
     },
     "execution_count": 100,
     "metadata": {},
     "output_type": "execute_result"
    }
   ],
   "source": [
    "#Nombre de variables significativas\n",
    "total_min = 43 + 42 +57\n",
    "total_min"
   ]
  },
  {
   "cell_type": "code",
   "execution_count": 102,
   "id": "7d3135eb-9f18-462f-a110-b776b14f3502",
   "metadata": {},
   "outputs": [
    {
     "data": {
      "text/plain": [
       "2.3666666666666667"
      ]
     },
     "execution_count": 102,
     "metadata": {},
     "output_type": "execute_result"
    }
   ],
   "source": [
    "#Nombre de variables significativas\n",
    "total_hours = total_min / 60\n",
    "total_hours"
   ]
  },
  {
   "cell_type": "code",
   "execution_count": 103,
   "id": "c573ea36-baf4-4511-a42f-cb591e32cefb",
   "metadata": {},
   "outputs": [
    {
     "data": {
      "text/plain": [
       "2.3666666666666667"
      ]
     },
     "execution_count": 103,
     "metadata": {},
     "output_type": "execute_result"
    }
   ],
   "source": [
    "#Expresiones complicadas\n",
    "total_hours = (43 + 42 + 57) / 60\n",
    "total_hours"
   ]
  },
  {
   "cell_type": "markdown",
   "id": "85e53850-12c2-413c-a3c3-09da4a8d24b6",
   "metadata": {},
   "source": [
    "Ejercicio de Expresiones y Variables en Python"
   ]
  },
  {
   "cell_type": "code",
   "execution_count": 107,
   "id": "3d4967c0-45db-405c-b0ae-632fdc759e30",
   "metadata": {},
   "outputs": [
    {
     "data": {
      "text/plain": [
       "7"
      ]
     },
     "execution_count": 107,
     "metadata": {},
     "output_type": "execute_result"
    }
   ],
   "source": [
    "#Cual es el valor de x, donde x = 3 + 2 * 2\n",
    "x = 3 + 2 * 2\n",
    "x"
   ]
  },
  {
   "cell_type": "code",
   "execution_count": 108,
   "id": "a5887727-81dd-4d5e-b3c6-3ac7e041a63a",
   "metadata": {},
   "outputs": [
    {
     "data": {
      "text/plain": [
       "10"
      ]
     },
     "execution_count": 108,
     "metadata": {},
     "output_type": "execute_result"
    }
   ],
   "source": [
    "#Cual es el valor de y, donde y = (3 + 2) * 2\n",
    "y = (3 + 2) * 2\n",
    "y"
   ]
  },
  {
   "cell_type": "code",
   "execution_count": 109,
   "id": "37b1dad2-89c0-4c65-86fd-df3dc5ad9ba7",
   "metadata": {},
   "outputs": [
    {
     "data": {
      "text/plain": [
       "17"
      ]
     },
     "execution_count": 109,
     "metadata": {},
     "output_type": "execute_result"
    }
   ],
   "source": [
    "#Cual es el valor de z, donde z = x + y\n",
    "z = x + y \n",
    "z"
   ]
  },
  {
   "cell_type": "markdown",
   "id": "1976ea10-ca6d-4e93-b9a1-1fec7a29e1d2",
   "metadata": {},
   "source": [
    "Operaciones de String"
   ]
  },
  {
   "cell_type": "code",
   "execution_count": 110,
   "id": "a7b3c4e6-fbba-4bf0-8e0f-0d907c43833b",
   "metadata": {},
   "outputs": [
    {
     "data": {
      "text/plain": [
       "'ABCD'"
      ]
     },
     "execution_count": 110,
     "metadata": {},
     "output_type": "execute_result"
    }
   ],
   "source": [
    "#Slicing\n",
    "Letters = \"ABCDEFGHIJK\"\n",
    "Letters[0:4]"
   ]
  },
  {
   "cell_type": "code",
   "execution_count": 111,
   "id": "7844f933-270b-4b10-ab55-ab4dd402aa6d",
   "metadata": {},
   "outputs": [
    {
     "data": {
      "text/plain": [
       "'Good'"
      ]
     },
     "execution_count": 111,
     "metadata": {},
     "output_type": "execute_result"
    }
   ],
   "source": [
    "#Strides\n",
    "Good=\"GsoAo+d\"\n",
    "Good[::2]"
   ]
  },
  {
   "cell_type": "code",
   "execution_count": 112,
   "id": "0eb22624-9bf6-467d-b273-13781ac7fbd5",
   "metadata": {},
   "outputs": [
    {
     "data": {
      "text/plain": [
       "'UPPERCASE'"
      ]
     },
     "execution_count": 112,
     "metadata": {},
     "output_type": "execute_result"
    }
   ],
   "source": [
    "#Uppercase\n",
    "\"uppercase\"\n",
    "\"uppercase\".upper()"
   ]
  },
  {
   "cell_type": "markdown",
   "id": "c567e98f-3676-4804-b2eb-a044d7eebce3",
   "metadata": {},
   "source": [
    "String Operations"
   ]
  },
  {
   "cell_type": "code",
   "execution_count": 113,
   "id": "bc0df825-1e9f-4434-bc9a-dc657fab0727",
   "metadata": {},
   "outputs": [
    {
     "data": {
      "text/plain": [
       "'Michael Jackson'"
      ]
     },
     "execution_count": 113,
     "metadata": {},
     "output_type": "execute_result"
    }
   ],
   "source": [
    "#String definido, doble comillas\n",
    "\"Michael Jackson\""
   ]
  },
  {
   "cell_type": "code",
   "execution_count": 114,
   "id": "71b655f3-9d45-4420-9e65-31848d1a9f0b",
   "metadata": {},
   "outputs": [
    {
     "data": {
      "text/plain": [
       "'Michael Jackson'"
      ]
     },
     "execution_count": 114,
     "metadata": {},
     "output_type": "execute_result"
    }
   ],
   "source": [
    "#String definido, comilla simple\n",
    "'Michael Jackson'"
   ]
  },
  {
   "cell_type": "code",
   "execution_count": 115,
   "id": "62330845-cd24-493d-a3a1-33a6980ffe66",
   "metadata": {},
   "outputs": [
    {
     "data": {
      "text/plain": [
       "'1 2 3 4 5 6 '"
      ]
     },
     "execution_count": 115,
     "metadata": {},
     "output_type": "execute_result"
    }
   ],
   "source": [
    "# Digitos y espacion en los strigns\n",
    "\n",
    "'1 2 3 4 5 6 '"
   ]
  },
  {
   "cell_type": "code",
   "execution_count": 116,
   "id": "cc53c48e-be63-4c31-8b63-3d5ef1d11ca9",
   "metadata": {},
   "outputs": [
    {
     "data": {
      "text/plain": [
       "'@#2_#]&*^%$'"
      ]
     },
     "execution_count": 116,
     "metadata": {},
     "output_type": "execute_result"
    }
   ],
   "source": [
    "# Caracteres especiales en el string\n",
    "\n",
    "'@#2_#]&*^%$'"
   ]
  },
  {
   "cell_type": "code",
   "execution_count": 117,
   "id": "e3b82ec9-b52f-4d04-bd67-31729346807a",
   "metadata": {},
   "outputs": [
    {
     "name": "stdout",
     "output_type": "stream",
     "text": [
      "hello!\n"
     ]
    }
   ],
   "source": [
    "# Imprime un string\n",
    "\n",
    "print(\"hello!\")"
   ]
  },
  {
   "cell_type": "code",
   "execution_count": 119,
   "id": "814e4ce8-559b-4fb0-ba15-7127a59b9c98",
   "metadata": {},
   "outputs": [
    {
     "data": {
      "text/plain": [
       "'Michael Jackson'"
      ]
     },
     "execution_count": 119,
     "metadata": {},
     "output_type": "execute_result"
    }
   ],
   "source": [
    "# Asigna el string a una variable\n",
    "\n",
    "name = \"Michael Jackson\"\n",
    "name"
   ]
  },
  {
   "cell_type": "markdown",
   "id": "8ea1a82d-3698-4d22-9290-cc420152a4c4",
   "metadata": {},
   "source": [
    "#Operacion de Indexado"
   ]
  },
  {
   "cell_type": "code",
   "execution_count": 120,
   "id": "598a785b-9402-4e18-b889-3fdf016ab57f",
   "metadata": {},
   "outputs": [
    {
     "name": "stdout",
     "output_type": "stream",
     "text": [
      "M\n"
     ]
    }
   ],
   "source": [
    "#Imprime el primer elemento del string\n",
    "print(name[0])"
   ]
  },
  {
   "cell_type": "code",
   "execution_count": 121,
   "id": "2f47d630-0f44-463c-b54c-5dcb149fd81e",
   "metadata": {},
   "outputs": [
    {
     "name": "stdout",
     "output_type": "stream",
     "text": [
      "l\n"
     ]
    }
   ],
   "source": [
    "#Imprime el elemento del indice 6\n",
    "print(name[6])"
   ]
  },
  {
   "cell_type": "code",
   "execution_count": 122,
   "id": "b6c4e858-0266-40a4-a605-3b47812ea2a7",
   "metadata": {},
   "outputs": [
    {
     "name": "stdout",
     "output_type": "stream",
     "text": [
      "o\n"
     ]
    }
   ],
   "source": [
    "#Imprime el elemento del indice 13\n",
    "print(name[13])"
   ]
  },
  {
   "cell_type": "markdown",
   "id": "306cd3db-56d2-4ef5-a179-399321715513",
   "metadata": {},
   "source": [
    "Indexado negativo"
   ]
  },
  {
   "cell_type": "code",
   "execution_count": 123,
   "id": "49e51f9b-fea6-4bba-94bd-40063ecf06fb",
   "metadata": {},
   "outputs": [
    {
     "name": "stdout",
     "output_type": "stream",
     "text": [
      "n\n"
     ]
    }
   ],
   "source": [
    "#Imprime el ultimo elemento del string\n",
    "print(name[-1])"
   ]
  },
  {
   "cell_type": "code",
   "execution_count": 124,
   "id": "8c260e7c-4811-4f2e-91d0-7f6e26558687",
   "metadata": {},
   "outputs": [
    {
     "name": "stdout",
     "output_type": "stream",
     "text": [
      "M\n"
     ]
    }
   ],
   "source": [
    "#Imprime el primer elemento del string\n",
    "print(name[-15])"
   ]
  },
  {
   "cell_type": "code",
   "execution_count": 125,
   "id": "78c7ec58-69cc-4c88-9c26-2760ff3b280a",
   "metadata": {},
   "outputs": [
    {
     "data": {
      "text/plain": [
       "15"
      ]
     },
     "execution_count": 125,
     "metadata": {},
     "output_type": "execute_result"
    }
   ],
   "source": [
    "# Encuentra la longitud del string\n",
    "len(\"Michael Jackson\")"
   ]
  },
  {
   "cell_type": "markdown",
   "id": "a0b0bed2-27fb-4a46-b324-b02fb8e4c0ce",
   "metadata": {},
   "source": [
    "Slicing"
   ]
  },
  {
   "cell_type": "code",
   "execution_count": 126,
   "id": "ec1d4371-a411-45e3-8fa2-1b4edaa73d99",
   "metadata": {},
   "outputs": [
    {
     "data": {
      "text/plain": [
       "'Mich'"
      ]
     },
     "execution_count": 126,
     "metadata": {},
     "output_type": "execute_result"
    }
   ],
   "source": [
    "#Pedazo del string del indice 0 al 3\n",
    "name[0:4]"
   ]
  },
  {
   "cell_type": "code",
   "execution_count": 127,
   "id": "9da5be40-4d69-48b2-bafb-3a28a5f2cbe3",
   "metadata": {},
   "outputs": [
    {
     "data": {
      "text/plain": [
       "'Jack'"
      ]
     },
     "execution_count": 127,
     "metadata": {},
     "output_type": "execute_result"
    }
   ],
   "source": [
    "#Pedazo del string del indice 8 al 11\n",
    "name[8:12]"
   ]
  },
  {
   "cell_type": "markdown",
   "id": "9801c5aa-7543-4639-9f37-c53f12098eee",
   "metadata": {},
   "source": [
    "Stride"
   ]
  },
  {
   "cell_type": "code",
   "execution_count": 128,
   "id": "6804aa1d-e2ce-4279-8c9a-d8b6694569da",
   "metadata": {},
   "outputs": [
    {
     "data": {
      "text/plain": [
       "'McalJcsn'"
      ]
     },
     "execution_count": 128,
     "metadata": {},
     "output_type": "execute_result"
    }
   ],
   "source": [
    "#Obtener cada segundo elemento\n",
    "name[::2]"
   ]
  },
  {
   "cell_type": "code",
   "execution_count": 129,
   "id": "2daecb8d-8101-4f95-9cc5-04ca19fccd99",
   "metadata": {},
   "outputs": [
    {
     "data": {
      "text/plain": [
       "'Mca'"
      ]
     },
     "execution_count": 129,
     "metadata": {},
     "output_type": "execute_result"
    }
   ],
   "source": [
    "#Obtener cada segundo elemento del indice 0 al 4\n",
    "name[0:5:2]"
   ]
  },
  {
   "cell_type": "markdown",
   "id": "43bf365c-f580-40cf-ae5e-a9c5eb069b87",
   "metadata": {},
   "source": [
    "Concatenar String"
   ]
  },
  {
   "cell_type": "code",
   "execution_count": 130,
   "id": "736a6787-b6f7-4648-adb8-2b9230e5fe5b",
   "metadata": {},
   "outputs": [
    {
     "data": {
      "text/plain": [
       "'Michael Jacksonis the best'"
      ]
     },
     "execution_count": 130,
     "metadata": {},
     "output_type": "execute_result"
    }
   ],
   "source": [
    "#Concatenar dos strings\n",
    "statement = name + \"is the best\"\n",
    "statement"
   ]
  },
  {
   "cell_type": "code",
   "execution_count": 131,
   "id": "5f31d32f-78ad-4251-b390-0c4b36044407",
   "metadata": {},
   "outputs": [
    {
     "data": {
      "text/plain": [
       "'Michael JacksonMichael JacksonMichael Jackson'"
      ]
     },
     "execution_count": 131,
     "metadata": {},
     "output_type": "execute_result"
    }
   ],
   "source": [
    "#Imprime la cadena 3 veces\n",
    "3 * \"Michael Jackson\""
   ]
  },
  {
   "cell_type": "code",
   "execution_count": 132,
   "id": "7ca61bdb-64e8-475a-8900-1718a025f6a3",
   "metadata": {},
   "outputs": [
    {
     "data": {
      "text/plain": [
       "'Michale Jackson is the best'"
      ]
     },
     "execution_count": 132,
     "metadata": {},
     "output_type": "execute_result"
    }
   ],
   "source": [
    "#Concatenate strings\n",
    "name = \"Michale Jackson\"\n",
    "name = name + \" is the best\"\n",
    "name"
   ]
  },
  {
   "cell_type": "markdown",
   "id": "ba92862c-e2e4-4c78-b00e-8decf089affb",
   "metadata": {},
   "source": [
    "Secuencias de Escape"
   ]
  },
  {
   "cell_type": "code",
   "execution_count": 134,
   "id": "91486245-2544-45b2-948c-30280f5e5883",
   "metadata": {},
   "outputs": [
    {
     "name": "stdout",
     "output_type": "stream",
     "text": [
      "Michael Jackson \n",
      " is the best\n"
     ]
    }
   ],
   "source": [
    "#Nueva linea\n",
    "print(\"Michael Jackson \\n is the best\")"
   ]
  },
  {
   "cell_type": "code",
   "execution_count": 135,
   "id": "db8e6d48-a126-47d3-b43f-a3418a17f547",
   "metadata": {},
   "outputs": [
    {
     "name": "stdout",
     "output_type": "stream",
     "text": [
      "Michael Jackson \t is the best\n"
     ]
    }
   ],
   "source": [
    "#Tabulador en la impresion\n",
    "print(\"Michael Jackson \\t is the best\")"
   ]
  },
  {
   "cell_type": "code",
   "execution_count": 136,
   "id": "f985bcd5-53e5-41d3-a97d-82223f73dbeb",
   "metadata": {},
   "outputs": [
    {
     "name": "stdout",
     "output_type": "stream",
     "text": [
      "Michael Jackson \\ is the best\n"
     ]
    }
   ],
   "source": [
    "#Incluye guion \n",
    "print(\"Michael Jackson \\\\ is the best\")"
   ]
  },
  {
   "cell_type": "code",
   "execution_count": 138,
   "id": "8a2116f2-d424-4fec-b046-3b49150e549e",
   "metadata": {},
   "outputs": [
    {
     "name": "stdout",
     "output_type": "stream",
     "text": [
      "Michael Jackson \\ is the best\n"
     ]
    }
   ],
   "source": [
    "#String raw\n",
    "print(r\"Michael Jackson \\ is the best\")"
   ]
  },
  {
   "cell_type": "markdown",
   "id": "a1e4af22-be44-4bd1-8a1d-4e99490a3723",
   "metadata": {},
   "source": [
    "Operaciones con strings"
   ]
  },
  {
   "cell_type": "code",
   "execution_count": 139,
   "id": "334bcc55-4c68-4bc5-ac23-d8d950975423",
   "metadata": {},
   "outputs": [
    {
     "name": "stdout",
     "output_type": "stream",
     "text": [
      "before upper: Thriller is the sixth studio album\n",
      "After upper: THRILLER IS THE SIXTH STUDIO ALBUM\n"
     ]
    }
   ],
   "source": [
    "#Convierte todos los caracteres en Mayusculas\n",
    "a = \"Thriller is the sixth studio album\"\n",
    "print(\"before upper:\", a)\n",
    "b = a.upper()\n",
    "print(\"After upper:\", b)"
   ]
  },
  {
   "cell_type": "code",
   "execution_count": 140,
   "id": "f3764316-4701-40c0-b46a-d4b5c6d49889",
   "metadata": {},
   "outputs": [
    {
     "data": {
      "text/plain": [
       "'Janet Jackson is the best'"
      ]
     },
     "execution_count": 140,
     "metadata": {},
     "output_type": "execute_result"
    }
   ],
   "source": [
    "#Reeemplza un segemento del string\n",
    "a = \"Michael Jackson is the best\"\n",
    "b = a.replace('Michael', 'Janet')\n",
    "b"
   ]
  },
  {
   "cell_type": "code",
   "execution_count": 141,
   "id": "c7e32fea-5752-463f-9b39-68003b70cf2b",
   "metadata": {},
   "outputs": [
    {
     "data": {
      "text/plain": [
       "5"
      ]
     },
     "execution_count": 141,
     "metadata": {},
     "output_type": "execute_result"
    }
   ],
   "source": [
    "#Encuentra un substring\n",
    "name = \"Michael Jackson\"\n",
    "name.find('el')"
   ]
  },
  {
   "cell_type": "code",
   "execution_count": 142,
   "id": "f8291514-b935-4461-8814-31730e9c3044",
   "metadata": {},
   "outputs": [
    {
     "data": {
      "text/plain": [
       "8"
      ]
     },
     "execution_count": 142,
     "metadata": {},
     "output_type": "execute_result"
    }
   ],
   "source": [
    "name.find('Jack')"
   ]
  },
  {
   "cell_type": "code",
   "execution_count": 144,
   "id": "81189489-262e-45a8-9ff3-64cdd0799cc9",
   "metadata": {},
   "outputs": [
    {
     "data": {
      "text/plain": [
       "-1"
      ]
     },
     "execution_count": 144,
     "metadata": {},
     "output_type": "execute_result"
    }
   ],
   "source": [
    "#En caso de que no encuentre el subconjunto\n",
    "name.find('Jasdfasdasdf')"
   ]
  },
  {
   "cell_type": "markdown",
   "id": "321402b6-f76b-40bc-9702-a5fb80df2618",
   "metadata": {},
   "source": [
    "Miniexamen de Strings"
   ]
  },
  {
   "cell_type": "code",
   "execution_count": 146,
   "id": "6a0efb71-6805-403a-8b7d-b00e088b1423",
   "metadata": {},
   "outputs": [
    {
     "data": {
      "text/plain": [
       "'1'"
      ]
     },
     "execution_count": 146,
     "metadata": {},
     "output_type": "execute_result"
    }
   ],
   "source": [
    "a= \"1\"\n",
    "a"
   ]
  },
  {
   "cell_type": "code",
   "execution_count": 148,
   "id": "7cfe23c8-8c31-4600-b80b-e4a8b2955899",
   "metadata": {},
   "outputs": [
    {
     "data": {
      "text/plain": [
       "'2'"
      ]
     },
     "execution_count": 148,
     "metadata": {},
     "output_type": "execute_result"
    }
   ],
   "source": [
    "b = \"2\"\n",
    "b"
   ]
  },
  {
   "cell_type": "code",
   "execution_count": 152,
   "id": "cd98065a-b132-4772-855b-296f6fc4289f",
   "metadata": {},
   "outputs": [
    {
     "data": {
      "text/plain": [
       "'12'"
      ]
     },
     "execution_count": 152,
     "metadata": {},
     "output_type": "execute_result"
    }
   ],
   "source": [
    "c = a + b\n",
    "c"
   ]
  },
  {
   "cell_type": "code",
   "execution_count": 153,
   "id": "ce972b3b-d9f9-4ac0-a244-04d7b606e6d5",
   "metadata": {},
   "outputs": [
    {
     "data": {
      "text/plain": [
       "'ABC'"
      ]
     },
     "execution_count": 153,
     "metadata": {},
     "output_type": "execute_result"
    }
   ],
   "source": [
    "d = \"ABCDEFG\"\n",
    "d[0:3]"
   ]
  },
  {
   "cell_type": "code",
   "execution_count": 154,
   "id": "1faf5718-8047-422d-8324-0b156f747a76",
   "metadata": {},
   "outputs": [
    {
     "data": {
      "text/plain": [
       "'correct'"
      ]
     },
     "execution_count": 154,
     "metadata": {},
     "output_type": "execute_result"
    }
   ],
   "source": [
    "e = 'clocrkr1e1c1t'\n",
    "e[::2]"
   ]
  },
  {
   "cell_type": "code",
   "execution_count": 157,
   "id": "727cab2e-2edd-4be9-b9b9-98818e1671cb",
   "metadata": {},
   "outputs": [
    {
     "name": "stdout",
     "output_type": "stream",
     "text": [
      "\\ \n"
     ]
    }
   ],
   "source": [
    "print(r\"\\ \")"
   ]
  },
  {
   "cell_type": "code",
   "execution_count": 158,
   "id": "c5f25c99-b559-40c9-8d8c-585155018251",
   "metadata": {},
   "outputs": [
    {
     "data": {
      "text/plain": [
       "'YOU ARE WRONG'"
      ]
     },
     "execution_count": 158,
     "metadata": {},
     "output_type": "execute_result"
    }
   ],
   "source": [
    "f = \"You are wrong\"\n",
    "f.upper()"
   ]
  },
  {
   "cell_type": "code",
   "execution_count": 159,
   "id": "eef6ceec-98e6-4999-a49b-de28cb2f7acb",
   "metadata": {},
   "outputs": [
    {
     "data": {
      "text/plain": [
       "95"
      ]
     },
     "execution_count": 159,
     "metadata": {},
     "output_type": "execute_result"
    }
   ],
   "source": [
    "g = \"Mary had a little lamb Little lamb, little lamb Mary had a little lamb \\\n",
    "Its fleece was white as snow And everywhere that Mary went Mary went, Mary went \\\n",
    "Everywhere that Mary went The lamb was sure to go\"\n",
    "g.find(\"snow\")"
   ]
  },
  {
   "cell_type": "code",
   "execution_count": 160,
   "id": "a6a9e520-01a5-4734-8682-5eb610349569",
   "metadata": {},
   "outputs": [
    {
     "data": {
      "text/plain": [
       "'Bob had a little lamb Little lamb, little lamb Bob had a little lamb Its fleece was white as snow And everywhere that Bob went Bob went, Bob went Everywhere that Bob went The lamb was sure to go'"
      ]
     },
     "execution_count": 160,
     "metadata": {},
     "output_type": "execute_result"
    }
   ],
   "source": [
    "g.replace(\"Mary\",\"Bob\")"
   ]
  },
  {
   "cell_type": "code",
   "execution_count": null,
   "id": "a6a3af21-06f2-4715-896b-ad08657c0826",
   "metadata": {},
   "outputs": [],
   "source": []
  }
 ],
 "metadata": {
  "kernelspec": {
   "display_name": "Python",
   "language": "python",
   "name": "conda-env-python-py"
  },
  "language_info": {
   "codemirror_mode": {
    "name": "ipython",
    "version": 3
   },
   "file_extension": ".py",
   "mimetype": "text/x-python",
   "name": "python",
   "nbconvert_exporter": "python",
   "pygments_lexer": "ipython3",
   "version": "3.7.12"
  }
 },
 "nbformat": 4,
 "nbformat_minor": 5
}
