{
  "nbformat": 4,
  "nbformat_minor": 0,
  "metadata": {
    "colab": {
      "name": "assignment01.ipynb",
      "provenance": []
    },
    "kernelspec": {
      "name": "python3",
      "display_name": "Python 3"
    },
    "language_info": {
      "name": "python"
    }
  },
  "cells": [
    {
      "cell_type": "markdown",
      "source": [
        "Modulo #02                                       Francisco Javier Ramirez Arias A01316379\n"
      ],
      "metadata": {
        "id": "PsYcnyPHKVqI"
      }
    },
    {
      "cell_type": "markdown",
      "source": [
        "Listas y Truples"
      ],
      "metadata": {
        "id": "MYpbdS79No0R"
      }
    },
    {
      "cell_type": "code",
      "source": [
        "#Creación de \"Truple\"\n",
        "A = (0,1,2,3)\n",
        "print(A)"
      ],
      "metadata": {
        "id": "HVVE9RCQKgUH",
        "outputId": "be4bce5f-4a83-462f-a789-0cdc0e5b4433",
        "colab": {
          "base_uri": "https://localhost:8080/"
        }
      },
      "execution_count": 3,
      "outputs": [
        {
          "output_type": "stream",
          "name": "stdout",
          "text": [
            "(0, 1, 2, 3)\n"
          ]
        }
      ]
    },
    {
      "cell_type": "code",
      "source": [
        "#Encontrar los elementos en una  \"Truple\"\n",
        "#Encontrar los os primeros elementos\n",
        "A[0:2]"
      ],
      "metadata": {
        "id": "Vw0PwSUALIcg",
        "outputId": "4aa6618f-f35d-452d-b609-becd631b7e18",
        "colab": {
          "base_uri": "https://localhost:8080/"
        }
      },
      "execution_count": 4,
      "outputs": [
        {
          "output_type": "execute_result",
          "data": {
            "text/plain": [
              "(0, 1)"
            ]
          },
          "metadata": {},
          "execution_count": 4
        }
      ]
    },
    {
      "cell_type": "code",
      "source": [
        "#Listas\n",
        "B=[\"a\",\"b\",\"c\"]\n",
        "\n",
        "#Encunetra los dos primeros elementos de B\n",
        "B[0:2]\n"
      ],
      "metadata": {
        "id": "gdFv_eonLy3_",
        "outputId": "66a33195-09f9-41bc-cece-430347dad747",
        "colab": {
          "base_uri": "https://localhost:8080/"
        }
      },
      "execution_count": 5,
      "outputs": [
        {
          "output_type": "execute_result",
          "data": {
            "text/plain": [
              "['a', 'b']"
            ]
          },
          "metadata": {},
          "execution_count": 5
        }
      ]
    },
    {
      "cell_type": "code",
      "source": [
        "#Cambia el primer elemento de la lista a mayuscula \"A\"\n",
        "B[0]=\"A\"\n",
        "print(B)"
      ],
      "metadata": {
        "id": "6mvLpcNEMYvf",
        "outputId": "b58a7074-9ab5-4feb-be12-c73e3e37e690",
        "colab": {
          "base_uri": "https://localhost:8080/"
        }
      },
      "execution_count": 8,
      "outputs": [
        {
          "output_type": "stream",
          "name": "stdout",
          "text": [
            "['A', 'b', 'c']\n"
          ]
        }
      ]
    },
    {
      "cell_type": "markdown",
      "source": [
        "Lab - Truples\n",
        "Operaciones a realizar: Indexing, Slicing and sorting"
      ],
      "metadata": {
        "id": "aGTeXc6ZNuHA"
      }
    },
    {
      "cell_type": "code",
      "source": [
        "#Creacion de la primer tuple\n",
        "tuple1 = (\"disco\",10,1.2)\n",
        "tuple1"
      ],
      "metadata": {
        "id": "8SpC8Qt0OG1m",
        "outputId": "7aecf3a0-c914-4dc3-ac70-f35c05c455b4",
        "colab": {
          "base_uri": "https://localhost:8080/"
        }
      },
      "execution_count": 9,
      "outputs": [
        {
          "output_type": "execute_result",
          "data": {
            "text/plain": [
              "('disco', 10, 1.2)"
            ]
          },
          "metadata": {},
          "execution_count": 9
        }
      ]
    },
    {
      "cell_type": "code",
      "source": [
        "#Imprime el tipo de tuple  creada\n",
        "type(tuple1)"
      ],
      "metadata": {
        "id": "7ZiM9IPIOnBP",
        "outputId": "8e295ae9-d9b4-4477-98fd-f76cc8115043",
        "colab": {
          "base_uri": "https://localhost:8080/"
        }
      },
      "execution_count": 10,
      "outputs": [
        {
          "output_type": "execute_result",
          "data": {
            "text/plain": [
              "tuple"
            ]
          },
          "metadata": {},
          "execution_count": 10
        }
      ]
    },
    {
      "cell_type": "code",
      "source": [
        "#Indexado\n",
        "\n",
        "#Imprime la variable de cada indice\n",
        "print(tuple1[0])\n",
        "print(tuple1[1])\n",
        "print(tuple1[2])"
      ],
      "metadata": {
        "id": "CiNrl73GOsEu",
        "outputId": "eb35e7f3-99b0-4e57-e917-cfe8b57a3552",
        "colab": {
          "base_uri": "https://localhost:8080/"
        }
      },
      "execution_count": 12,
      "outputs": [
        {
          "output_type": "stream",
          "name": "stdout",
          "text": [
            "disco\n",
            "10\n",
            "1.2\n"
          ]
        }
      ]
    },
    {
      "cell_type": "code",
      "source": [
        "#Imprime el tipo de valor de cada indice\n",
        "print(type(tuple1[0]))\n",
        "print(type(tuple1[1]))\n",
        "print(type(tuple1[2]))"
      ],
      "metadata": {
        "id": "RygtbwA3PGWO",
        "outputId": "e3936d18-0764-42af-bb25-1a295611cca5",
        "colab": {
          "base_uri": "https://localhost:8080/"
        }
      },
      "execution_count": 13,
      "outputs": [
        {
          "output_type": "stream",
          "name": "stdout",
          "text": [
            "<class 'str'>\n",
            "<class 'int'>\n",
            "<class 'float'>\n"
          ]
        }
      ]
    },
    {
      "cell_type": "code",
      "source": [
        "#Uso de indices negativos\n",
        "#Ultimo elemento\n",
        "tuple1[-1]"
      ],
      "metadata": {
        "id": "AWD8kvbnPeBO",
        "outputId": "c928775e-d39a-4818-abf5-8a7fe1b4b6a7",
        "colab": {
          "base_uri": "https://localhost:8080/"
        }
      },
      "execution_count": 16,
      "outputs": [
        {
          "output_type": "execute_result",
          "data": {
            "text/plain": [
              "1.2"
            ]
          },
          "metadata": {},
          "execution_count": 16
        }
      ]
    },
    {
      "cell_type": "code",
      "source": [
        "#Segundo elemento\n",
        "tuple1[-2]"
      ],
      "metadata": {
        "id": "QSh1FmkePvu-",
        "outputId": "309a8e7c-40bb-4e19-9e22-a0b9058119ea",
        "colab": {
          "base_uri": "https://localhost:8080/"
        }
      },
      "execution_count": 17,
      "outputs": [
        {
          "output_type": "execute_result",
          "data": {
            "text/plain": [
              "10"
            ]
          },
          "metadata": {},
          "execution_count": 17
        }
      ]
    },
    {
      "cell_type": "code",
      "source": [
        "#Primer elemento\n",
        "tuple1[-3]"
      ],
      "metadata": {
        "id": "9siIUEFkP69u",
        "outputId": "467033d0-f3bb-4e4f-ef32-320118dc231f",
        "colab": {
          "base_uri": "https://localhost:8080/",
          "height": 35
        }
      },
      "execution_count": 19,
      "outputs": [
        {
          "output_type": "execute_result",
          "data": {
            "text/plain": [
              "'disco'"
            ],
            "application/vnd.google.colaboratory.intrinsic+json": {
              "type": "string"
            }
          },
          "metadata": {},
          "execution_count": 19
        }
      ]
    },
    {
      "cell_type": "code",
      "source": [
        "#Concatenación de Tuple\n",
        "tuple2 = tuple1 + (\"hard rock\", 10)\n",
        "tuple2"
      ],
      "metadata": {
        "id": "uII8hOswP7nu",
        "outputId": "9be654cc-1482-45fb-d9a0-66279d7517a8",
        "colab": {
          "base_uri": "https://localhost:8080/"
        }
      },
      "execution_count": 20,
      "outputs": [
        {
          "output_type": "execute_result",
          "data": {
            "text/plain": [
              "('disco', 10, 1.2, 'hard rock', 10)"
            ]
          },
          "metadata": {},
          "execution_count": 20
        }
      ]
    },
    {
      "cell_type": "code",
      "source": [
        "#Slicing del indice 0 al 2\n",
        "tuple2[0:3]"
      ],
      "metadata": {
        "id": "Ec5O3G-qQa_u",
        "outputId": "856818dd-7cad-4d34-8671-6c1ca435cc8b",
        "colab": {
          "base_uri": "https://localhost:8080/"
        }
      },
      "execution_count": 21,
      "outputs": [
        {
          "output_type": "execute_result",
          "data": {
            "text/plain": [
              "('disco', 10, 1.2)"
            ]
          },
          "metadata": {},
          "execution_count": 21
        }
      ]
    },
    {
      "cell_type": "code",
      "source": [
        "#Slicing del indice 3 al 4\n",
        "tuple2[3:5]"
      ],
      "metadata": {
        "id": "yUyApcS6QnoO",
        "outputId": "58ee05da-983e-486c-bfee-190c13905475",
        "colab": {
          "base_uri": "https://localhost:8080/"
        }
      },
      "execution_count": 22,
      "outputs": [
        {
          "output_type": "execute_result",
          "data": {
            "text/plain": [
              "('hard rock', 10)"
            ]
          },
          "metadata": {},
          "execution_count": 22
        }
      ]
    },
    {
      "cell_type": "code",
      "source": [
        "#Obtener la longitud de la tuple\n",
        "len(tuple2)"
      ],
      "metadata": {
        "id": "yssr4KC3Qt_A",
        "outputId": "5dae1325-f29b-4026-cd5c-3e8e885782b7",
        "colab": {
          "base_uri": "https://localhost:8080/"
        }
      },
      "execution_count": 23,
      "outputs": [
        {
          "output_type": "execute_result",
          "data": {
            "text/plain": [
              "5"
            ]
          },
          "metadata": {},
          "execution_count": 23
        }
      ]
    },
    {
      "cell_type": "code",
      "source": [
        "#Sorting\n",
        "Ratings = (0, 9, 6, 5, 10, 8, 9, 6,2)"
      ],
      "metadata": {
        "id": "pnha7lXvQ-n-"
      },
      "execution_count": 24,
      "outputs": []
    },
    {
      "cell_type": "code",
      "source": [
        "#Sort la Tuple\n",
        "RatingSorted = sorted(Ratings)\n",
        "RatingSorted"
      ],
      "metadata": {
        "id": "L1IshafYRnHe",
        "outputId": "2b3059b4-911d-4d40-96da-a0e2c2bdf6ef",
        "colab": {
          "base_uri": "https://localhost:8080/"
        }
      },
      "execution_count": 25,
      "outputs": [
        {
          "output_type": "execute_result",
          "data": {
            "text/plain": [
              "[0, 2, 5, 6, 6, 8, 9, 9, 10]"
            ]
          },
          "metadata": {},
          "execution_count": 25
        }
      ]
    },
    {
      "cell_type": "code",
      "source": [
        "#Creación de una Tuple Nest\n",
        "NestedT = (1,2, (\"pop\", \"rock\"), (3,4),(\"disco\",(1,2)))\n",
        "#Imprime los elementos de cada indice\n",
        "print(\"Element 0 of Tuple: \",NestedT[0])\n",
        "print(\"Element 0 of Tuple: \",NestedT[1])\n",
        "print(\"Element 0 of Tuple: \",NestedT[2])\n",
        "print(\"Element 0 of Tuple: \",NestedT[3])\n",
        "print(\"Element 0 of Tuple: \",NestedT[4])\n"
      ],
      "metadata": {
        "id": "pt04CmUnRx6-",
        "outputId": "fd261a90-9442-4e20-ac1a-076ec0097066",
        "colab": {
          "base_uri": "https://localhost:8080/"
        }
      },
      "execution_count": 31,
      "outputs": [
        {
          "output_type": "stream",
          "name": "stdout",
          "text": [
            "Element 0 of Tuple:  1\n",
            "Element 0 of Tuple:  2\n",
            "Element 0 of Tuple:  ('pop', 'rock')\n",
            "Element 0 of Tuple:  (3, 4)\n",
            "Element 0 of Tuple:  ('disco', (1, 2))\n"
          ]
        }
      ]
    },
    {
      "cell_type": "code",
      "source": [
        "#Imprime los elementos de cada indice, incluidos los indices anidados\n",
        "print(\"Element 2, 0 of Tuple: \",NestedT[2][0])\n",
        "print(\"Element 2, 1 of Tuple: \",NestedT[2][1])\n",
        "print(\"Element 3, 0 of Tuple: \",NestedT[3][0])\n",
        "print(\"Element 3, 1 of Tuple: \",NestedT[3][1])\n",
        "print(\"Element 4, 0 of Tuple: \",NestedT[4][0])\n",
        "print(\"Element 4, 1 of Tuple: \",NestedT[4][1])"
      ],
      "metadata": {
        "id": "YpluLtH4SLft",
        "outputId": "da701868-4a49-4fb9-d9fa-9cffb6b7add9",
        "colab": {
          "base_uri": "https://localhost:8080/"
        }
      },
      "execution_count": 35,
      "outputs": [
        {
          "output_type": "stream",
          "name": "stdout",
          "text": [
            "Element 2, 0 of Tuple:  pop\n",
            "Element 2, 1 of Tuple:  rock\n",
            "Element 3, 0 of Tuple:  3\n",
            "Element 3, 1 of Tuple:  4\n",
            "Element 4, 0 of Tuple:  disco\n",
            "Element 4, 1 of Tuple:  (1, 2)\n"
          ]
        }
      ]
    },
    {
      "cell_type": "code",
      "source": [
        "#Imprime el primer elemeto de la segunta tuple anidada\n",
        "NestedT[2][1][0]"
      ],
      "metadata": {
        "id": "lJyZJuiES4uu",
        "outputId": "80b03158-435c-4af0-bcfc-b4586cc3c5ec",
        "colab": {
          "base_uri": "https://localhost:8080/",
          "height": 35
        }
      },
      "execution_count": 36,
      "outputs": [
        {
          "output_type": "execute_result",
          "data": {
            "text/plain": [
              "'r'"
            ],
            "application/vnd.google.colaboratory.intrinsic+json": {
              "type": "string"
            }
          },
          "metadata": {},
          "execution_count": 36
        }
      ]
    },
    {
      "cell_type": "code",
      "source": [
        "#Imprime el segundo elemento de la segunda tuple anidada\n",
        "NestedT[2][1][1]"
      ],
      "metadata": {
        "id": "MOdaFi-JTp43",
        "outputId": "28b46731-c576-4468-ffc6-fff6acbcb01b",
        "colab": {
          "base_uri": "https://localhost:8080/",
          "height": 35
        }
      },
      "execution_count": 37,
      "outputs": [
        {
          "output_type": "execute_result",
          "data": {
            "text/plain": [
              "'o'"
            ],
            "application/vnd.google.colaboratory.intrinsic+json": {
              "type": "string"
            }
          },
          "metadata": {},
          "execution_count": 37
        }
      ]
    },
    {
      "cell_type": "code",
      "source": [
        "#Imprime el primer elemento de la segunda tuple anidada\n",
        "NestedT[4][1][0]"
      ],
      "metadata": {
        "id": "AGVNFHOxTugd",
        "outputId": "7ba44b0b-1b68-4799-f865-b1b2f0280782",
        "colab": {
          "base_uri": "https://localhost:8080/"
        }
      },
      "execution_count": 38,
      "outputs": [
        {
          "output_type": "execute_result",
          "data": {
            "text/plain": [
              "1"
            ]
          },
          "metadata": {},
          "execution_count": 38
        }
      ]
    },
    {
      "cell_type": "code",
      "source": [
        "#Imprime el primer elemento de la segunda tuple anidada\n",
        "NestedT[4][1][1]"
      ],
      "metadata": {
        "id": "oE71z9rOUCqt",
        "outputId": "7a3494ed-1117-41cf-950d-47e2d3e223b7",
        "colab": {
          "base_uri": "https://localhost:8080/"
        }
      },
      "execution_count": 39,
      "outputs": [
        {
          "output_type": "execute_result",
          "data": {
            "text/plain": [
              "2"
            ]
          },
          "metadata": {},
          "execution_count": 39
        }
      ]
    },
    {
      "cell_type": "markdown",
      "source": [
        "Quiz on Tuples"
      ],
      "metadata": {
        "id": "ur1lg_BNULUY"
      }
    },
    {
      "cell_type": "code",
      "source": [
        "#Tuple muestra\n",
        "genres_tuple = (\"pop\", \"rock\", \"soul\", \"hard rock\", \"soft rock\", \\\n",
        "                \"R&B\", \"progressive rock\", \"disco\") \n",
        "genres_tuple"
      ],
      "metadata": {
        "id": "_Z5Wg0BXUPj2",
        "outputId": "9b1a0e5b-9c93-47b0-d5ac-48aa85067f91",
        "colab": {
          "base_uri": "https://localhost:8080/"
        }
      },
      "execution_count": 40,
      "outputs": [
        {
          "output_type": "execute_result",
          "data": {
            "text/plain": [
              "('pop',\n",
              " 'rock',\n",
              " 'soul',\n",
              " 'hard rock',\n",
              " 'soft rock',\n",
              " 'R&B',\n",
              " 'progressive rock',\n",
              " 'disco')"
            ]
          },
          "metadata": {},
          "execution_count": 40
        }
      ]
    },
    {
      "cell_type": "code",
      "source": [
        "#Encontrar la logitud de la tuple\n",
        "len(genres_tuple)"
      ],
      "metadata": {
        "id": "16cq7ai7UUbt",
        "outputId": "6d9802a5-d024-44bc-857f-5ee5816d2866",
        "colab": {
          "base_uri": "https://localhost:8080/"
        }
      },
      "execution_count": 41,
      "outputs": [
        {
          "output_type": "execute_result",
          "data": {
            "text/plain": [
              "8"
            ]
          },
          "metadata": {},
          "execution_count": 41
        }
      ]
    },
    {
      "cell_type": "code",
      "source": [
        "#Accesar al elemento del indice 3\n",
        "genres_tuple[3]"
      ],
      "metadata": {
        "id": "c59eOBegUerd",
        "outputId": "ad855629-2fc4-4ee1-8800-c652ff347ea1",
        "colab": {
          "base_uri": "https://localhost:8080/",
          "height": 35
        }
      },
      "execution_count": 42,
      "outputs": [
        {
          "output_type": "execute_result",
          "data": {
            "text/plain": [
              "'hard rock'"
            ],
            "application/vnd.google.colaboratory.intrinsic+json": {
              "type": "string"
            }
          },
          "metadata": {},
          "execution_count": 42
        }
      ]
    },
    {
      "cell_type": "code",
      "source": [
        "#Utiliza slicing para obtener los indices 3, 4 y 5\n",
        "genres_tuple[3:6]"
      ],
      "metadata": {
        "id": "TuTm05GqUwoN",
        "outputId": "f153d206-52f7-4935-da26-66d7d28be5d3",
        "colab": {
          "base_uri": "https://localhost:8080/"
        }
      },
      "execution_count": 43,
      "outputs": [
        {
          "output_type": "execute_result",
          "data": {
            "text/plain": [
              "('hard rock', 'soft rock', 'R&B')"
            ]
          },
          "metadata": {},
          "execution_count": 43
        }
      ]
    },
    {
      "cell_type": "code",
      "source": [
        "#Encuentra los dos primeros elementos de la tuple\n",
        "genres_tuple[0:2]"
      ],
      "metadata": {
        "id": "5DdyLoDjU-7N",
        "outputId": "e550fbad-ebe5-40c1-d409-cfb005375e29",
        "colab": {
          "base_uri": "https://localhost:8080/"
        }
      },
      "execution_count": 44,
      "outputs": [
        {
          "output_type": "execute_result",
          "data": {
            "text/plain": [
              "('pop', 'rock')"
            ]
          },
          "metadata": {},
          "execution_count": 44
        }
      ]
    },
    {
      "cell_type": "code",
      "source": [
        "#Encontrar el primer indice de \"disco\"\n",
        "genres_tuple[7][0]\n"
      ],
      "metadata": {
        "id": "iCEIvQAMVhy-",
        "outputId": "1890d433-eabf-46da-c276-af623992f34e",
        "colab": {
          "base_uri": "https://localhost:8080/",
          "height": 35
        }
      },
      "execution_count": 49,
      "outputs": [
        {
          "output_type": "execute_result",
          "data": {
            "text/plain": [
              "'d'"
            ],
            "application/vnd.google.colaboratory.intrinsic+json": {
              "type": "string"
            }
          },
          "metadata": {},
          "execution_count": 49
        }
      ]
    },
    {
      "cell_type": "code",
      "source": [
        "genres_tuple.index(\"disco\")"
      ],
      "metadata": {
        "id": "CM9BLrX7Vu7t",
        "outputId": "bd34349c-c2db-42f0-ac12-9aae64b7673a",
        "colab": {
          "base_uri": "https://localhost:8080/"
        }
      },
      "execution_count": 48,
      "outputs": [
        {
          "output_type": "execute_result",
          "data": {
            "text/plain": [
              "7"
            ]
          },
          "metadata": {},
          "execution_count": 48
        }
      ]
    },
    {
      "cell_type": "code",
      "source": [
        "#Genera una lista ordenada de la siguiente Tuple\n",
        "C_tuple=(-5, 1, -3)\n",
        "C_tuple"
      ],
      "metadata": {
        "id": "GP1ButWwWDS9",
        "outputId": "f6f2e952-a56f-4230-ec30-fa48d3bed524",
        "colab": {
          "base_uri": "https://localhost:8080/"
        }
      },
      "execution_count": 53,
      "outputs": [
        {
          "output_type": "execute_result",
          "data": {
            "text/plain": [
              "(-5, 1, -3)"
            ]
          },
          "metadata": {},
          "execution_count": 53
        }
      ]
    },
    {
      "cell_type": "code",
      "source": [
        "C_tuple_sorted = sorted(C_tuple)\n",
        "C_tuple_sorted"
      ],
      "metadata": {
        "id": "pjzyavFPWTvN",
        "outputId": "50fc4750-0250-481e-90d1-bc85b5b62536",
        "colab": {
          "base_uri": "https://localhost:8080/"
        }
      },
      "execution_count": 55,
      "outputs": [
        {
          "output_type": "execute_result",
          "data": {
            "text/plain": [
              "[-5, -3, 1]"
            ]
          },
          "metadata": {},
          "execution_count": 55
        }
      ]
    },
    {
      "cell_type": "markdown",
      "source": [
        "## Listas"
      ],
      "metadata": {
        "id": "NHjvTIi4W_Re"
      }
    },
    {
      "cell_type": "code",
      "source": [
        "#Indexado\n",
        "#Crea una lista\n",
        "L = [\"Michael Jackson\", 10.1, 1982]\n",
        "L"
      ],
      "metadata": {
        "id": "cMYHjMdBXFcu",
        "outputId": "3cdbfd50-fc4e-4ffb-b0fd-c6a75b4868ad",
        "colab": {
          "base_uri": "https://localhost:8080/"
        }
      },
      "execution_count": 56,
      "outputs": [
        {
          "output_type": "execute_result",
          "data": {
            "text/plain": [
              "['Michael Jackson', 10.1, 1982]"
            ]
          },
          "metadata": {},
          "execution_count": 56
        }
      ]
    },
    {
      "cell_type": "code",
      "source": [
        "#Imprime los elementos de cada indice\n",
        "print('the same element using negative and positive indexing:\\n Postive:',L[0],\n",
        "'\\n Negative:' , L[-3]  )\n",
        "print('the same element using negative and positive indexing:\\n Postive:',L[1],\n",
        "'\\n Negative:' , L[-2]  )\n",
        "print('the same element using negative and positive indexing:\\n Postive:',L[2],\n",
        "'\\n Negative:' , L[-1]  )"
      ],
      "metadata": {
        "id": "KT0Kn4U3XoiM",
        "outputId": "75219fe8-3114-42dc-bce5-60e898a56ea7",
        "colab": {
          "base_uri": "https://localhost:8080/"
        }
      },
      "execution_count": 57,
      "outputs": [
        {
          "output_type": "stream",
          "name": "stdout",
          "text": [
            "the same element using negative and positive indexing:\n",
            " Postive: Michael Jackson \n",
            " Negative: Michael Jackson\n",
            "the same element using negative and positive indexing:\n",
            " Postive: 10.1 \n",
            " Negative: 10.1\n",
            "the same element using negative and positive indexing:\n",
            " Postive: 1982 \n",
            " Negative: 1982\n"
          ]
        }
      ]
    },
    {
      "cell_type": "code",
      "source": [
        "#Lista de muestra\n",
        "[\"Michael Jackson\", 10.1, 1982, [1, 2], (\"A\", 1)]"
      ],
      "metadata": {
        "id": "sBxXKkB3Xwr8",
        "outputId": "98171ef1-7f4e-411b-d3df-bbbc61dae833",
        "colab": {
          "base_uri": "https://localhost:8080/"
        }
      },
      "execution_count": 58,
      "outputs": [
        {
          "output_type": "execute_result",
          "data": {
            "text/plain": [
              "['Michael Jackson', 10.1, 1982, [1, 2], ('A', 1)]"
            ]
          },
          "metadata": {},
          "execution_count": 58
        }
      ]
    },
    {
      "cell_type": "code",
      "source": [
        "#Lista muestra\n",
        "L = [\"Michael Jackson\", 10.1, 1982,\"MJ\",1]\n",
        "L"
      ],
      "metadata": {
        "id": "XzybBo-dX7Id",
        "outputId": "d2935c1b-7197-414d-dece-5d4a303727b5",
        "colab": {
          "base_uri": "https://localhost:8080/"
        }
      },
      "execution_count": 60,
      "outputs": [
        {
          "output_type": "execute_result",
          "data": {
            "text/plain": [
              "['Michael Jackson', 10.1, 1982, 'MJ', 1]"
            ]
          },
          "metadata": {},
          "execution_count": 60
        }
      ]
    },
    {
      "cell_type": "code",
      "source": [
        "#Slicing en listas\n",
        "L[3:5]"
      ],
      "metadata": {
        "id": "7AhJxji7YMd8",
        "outputId": "ab05af51-3273-4b51-9447-109dc97c9cd5",
        "colab": {
          "base_uri": "https://localhost:8080/"
        }
      },
      "execution_count": 61,
      "outputs": [
        {
          "output_type": "execute_result",
          "data": {
            "text/plain": [
              "['MJ', 1]"
            ]
          },
          "metadata": {},
          "execution_count": 61
        }
      ]
    },
    {
      "cell_type": "code",
      "source": [
        "#Lista exendida\n",
        "L = [ \"Michael Jackson\", 10.2]\n",
        "L.extend(['pop', 10])\n",
        "L"
      ],
      "metadata": {
        "id": "_k5BNJKlYYDM",
        "outputId": "858a3495-67ed-44f9-84fd-1092567237ec",
        "colab": {
          "base_uri": "https://localhost:8080/"
        }
      },
      "execution_count": 62,
      "outputs": [
        {
          "output_type": "execute_result",
          "data": {
            "text/plain": [
              "['Michael Jackson', 10.2, 'pop', 10]"
            ]
          },
          "metadata": {},
          "execution_count": 62
        }
      ]
    },
    {
      "cell_type": "code",
      "source": [
        "#Diferente metodo a extender una lista\n",
        "L = [ \"Michael Jackson\", 10.2]\n",
        "L.append(['pop', 10])\n",
        "L"
      ],
      "metadata": {
        "id": "X_TuKAxoYocc",
        "outputId": "3d6265a1-82f1-4c60-cb63-9e16076c40e1",
        "colab": {
          "base_uri": "https://localhost:8080/"
        }
      },
      "execution_count": 63,
      "outputs": [
        {
          "output_type": "execute_result",
          "data": {
            "text/plain": [
              "['Michael Jackson', 10.2, ['pop', 10]]"
            ]
          },
          "metadata": {},
          "execution_count": 63
        }
      ]
    },
    {
      "cell_type": "code",
      "source": [
        "L = [ \"Michael Jackson\", 10.2]\n",
        "L.extend(['pop', 10])\n",
        "L"
      ],
      "metadata": {
        "id": "USSik84-Yx1M",
        "outputId": "d779d5a3-26a8-464f-8e1d-97e4aa84cb32",
        "colab": {
          "base_uri": "https://localhost:8080/"
        }
      },
      "execution_count": 64,
      "outputs": [
        {
          "output_type": "execute_result",
          "data": {
            "text/plain": [
              "['Michael Jackson', 10.2, 'pop', 10]"
            ]
          },
          "metadata": {},
          "execution_count": 64
        }
      ]
    },
    {
      "cell_type": "code",
      "source": [
        "L.append(['a','b'])\n",
        "L"
      ],
      "metadata": {
        "id": "5QjPfy4CY-cc",
        "outputId": "a86c31b1-ad24-4ea7-a477-7fee5ef363d8",
        "colab": {
          "base_uri": "https://localhost:8080/"
        }
      },
      "execution_count": 65,
      "outputs": [
        {
          "output_type": "execute_result",
          "data": {
            "text/plain": [
              "['Michael Jackson', 10.2, 'pop', 10, ['a', 'b']]"
            ]
          },
          "metadata": {},
          "execution_count": 65
        }
      ]
    },
    {
      "cell_type": "code",
      "source": [
        "#Cambia los elementos basado en el indice\n",
        "A = [\"disco\", 10, 1.2]\n",
        "print('Before change:', A)\n",
        "A[0] = 'hard rock'\n",
        "print('After change:', A)"
      ],
      "metadata": {
        "id": "fJmhH8gTZBhs",
        "outputId": "fee2c8a4-ea0f-482a-8999-65206ae8780d",
        "colab": {
          "base_uri": "https://localhost:8080/"
        }
      },
      "execution_count": 66,
      "outputs": [
        {
          "output_type": "stream",
          "name": "stdout",
          "text": [
            "Before change: ['disco', 10, 1.2]\n",
            "After change: ['hard rock', 10, 1.2]\n"
          ]
        }
      ]
    },
    {
      "cell_type": "code",
      "source": [
        "#borra elementos\n",
        "print('Before change:', A)\n",
        "del(A[0])\n",
        "print('After change:', A)"
      ],
      "metadata": {
        "id": "k6NTDxmZZZps",
        "outputId": "371a59d8-0dce-41f5-ee5c-3c48c7d5ef65",
        "colab": {
          "base_uri": "https://localhost:8080/"
        }
      },
      "execution_count": 67,
      "outputs": [
        {
          "output_type": "stream",
          "name": "stdout",
          "text": [
            "Before change: ['hard rock', 10, 1.2]\n",
            "After change: [10, 1.2]\n"
          ]
        }
      ]
    },
    {
      "cell_type": "code",
      "source": [
        "#Divide la cadena por espacio\n",
        "'hard rock'.split()"
      ],
      "metadata": {
        "id": "p04yKWe6ZlWM",
        "outputId": "f16f30e1-b65f-45d0-c86a-945369a6ba5c",
        "colab": {
          "base_uri": "https://localhost:8080/"
        }
      },
      "execution_count": 68,
      "outputs": [
        {
          "output_type": "execute_result",
          "data": {
            "text/plain": [
              "['hard', 'rock']"
            ]
          },
          "metadata": {},
          "execution_count": 68
        }
      ]
    },
    {
      "cell_type": "code",
      "source": [
        "#Divide la cadena por coma\n",
        "'A,B,C,D'.split(',')"
      ],
      "metadata": {
        "id": "L2QrXQ_UZw5s",
        "outputId": "71383a58-ecde-45e5-e201-0e9d473e22f7",
        "colab": {
          "base_uri": "https://localhost:8080/"
        }
      },
      "execution_count": 69,
      "outputs": [
        {
          "output_type": "execute_result",
          "data": {
            "text/plain": [
              "['A', 'B', 'C', 'D']"
            ]
          },
          "metadata": {},
          "execution_count": 69
        }
      ]
    },
    {
      "cell_type": "code",
      "source": [
        "#Copiar y clonar listas\n",
        "A = [\"hard rock\", 10, 1.2]\n",
        "B = A\n",
        "print('A:', A)\n",
        "print('B:', B)"
      ],
      "metadata": {
        "id": "mhqOr3KeZ2E7",
        "outputId": "5fc5301f-772d-407d-c4b7-3dafbc1ff467",
        "colab": {
          "base_uri": "https://localhost:8080/"
        }
      },
      "execution_count": 70,
      "outputs": [
        {
          "output_type": "stream",
          "name": "stdout",
          "text": [
            "A: ['hard rock', 10, 1.2]\n",
            "B: ['hard rock', 10, 1.2]\n"
          ]
        }
      ]
    },
    {
      "cell_type": "code",
      "source": [
        "#Revisar la copia de la referencia\n",
        "print('B[0]:', B[0])\n",
        "A[0] = \"banana\"\n",
        "print('B[0]:', B[0])"
      ],
      "metadata": {
        "id": "J6clmfw3e0AK",
        "outputId": "2377d206-3a2c-4fc8-e433-c755cec8bbcf",
        "colab": {
          "base_uri": "https://localhost:8080/"
        }
      },
      "execution_count": 71,
      "outputs": [
        {
          "output_type": "stream",
          "name": "stdout",
          "text": [
            "B[0]: hard rock\n",
            "B[0]: banana\n"
          ]
        }
      ]
    },
    {
      "cell_type": "code",
      "source": [
        "#Clona por valor la lista A\n",
        "B =A[:]\n",
        "B"
      ],
      "metadata": {
        "id": "5ioZ9M-ve9xa",
        "outputId": "4c353744-d402-43c6-b072-804890ce0462",
        "colab": {
          "base_uri": "https://localhost:8080/"
        }
      },
      "execution_count": 74,
      "outputs": [
        {
          "output_type": "execute_result",
          "data": {
            "text/plain": [
              "['banana', 10, 1.2]"
            ]
          },
          "metadata": {},
          "execution_count": 74
        }
      ]
    },
    {
      "cell_type": "code",
      "source": [
        "print('B[0]:', B[0])\n",
        "A[0] = \"hard rock\"\n",
        "print('B[0]:', B[0])"
      ],
      "metadata": {
        "id": "8u35Sa7SfJ8a",
        "outputId": "43c8333c-c5e3-4d11-a883-90f3f42f2389",
        "colab": {
          "base_uri": "https://localhost:8080/"
        }
      },
      "execution_count": 75,
      "outputs": [
        {
          "output_type": "stream",
          "name": "stdout",
          "text": [
            "B[0]: banana\n",
            "B[0]: banana\n"
          ]
        }
      ]
    },
    {
      "cell_type": "markdown",
      "source": [
        "Cuestiona sobre Listas"
      ],
      "metadata": {
        "id": "ppLa_u1WflkV"
      }
    },
    {
      "cell_type": "code",
      "source": [
        "#Crea una lista con los siguientes elmentos 1 , hello, [1,2,3] y True\n",
        "a_list = [1, \"hello\", [1,2,3], True]\n",
        "a_list"
      ],
      "metadata": {
        "id": "jP7zyT-Jfrue",
        "outputId": "7b80dde3-9bad-4da6-d41f-4d471ad33c00",
        "colab": {
          "base_uri": "https://localhost:8080/"
        }
      },
      "execution_count": 76,
      "outputs": [
        {
          "output_type": "execute_result",
          "data": {
            "text/plain": [
              "[1, 'hello', [1, 2, 3], True]"
            ]
          },
          "metadata": {},
          "execution_count": 76
        }
      ]
    },
    {
      "cell_type": "code",
      "source": [
        "a_list[1]"
      ],
      "metadata": {
        "id": "HXlbGjA9gCA6",
        "outputId": "2f770e51-2f9a-447f-a630-c50e6503ee2c",
        "colab": {
          "base_uri": "https://localhost:8080/",
          "height": 35
        }
      },
      "execution_count": 79,
      "outputs": [
        {
          "output_type": "execute_result",
          "data": {
            "text/plain": [
              "'hello'"
            ],
            "application/vnd.google.colaboratory.intrinsic+json": {
              "type": "string"
            }
          },
          "metadata": {},
          "execution_count": 79
        }
      ]
    },
    {
      "cell_type": "code",
      "source": [
        "a_list[1:4]"
      ],
      "metadata": {
        "id": "3xofLstAgHx6",
        "outputId": "573fd6c7-bc4d-4e90-8cea-5a4c45e0a91f",
        "colab": {
          "base_uri": "https://localhost:8080/"
        }
      },
      "execution_count": 80,
      "outputs": [
        {
          "output_type": "execute_result",
          "data": {
            "text/plain": [
              "['hello', [1, 2, 3], True]"
            ]
          },
          "metadata": {},
          "execution_count": 80
        }
      ]
    },
    {
      "cell_type": "code",
      "source": [
        "#Concatna las siguientes listas\n",
        "# A =[1, 'a']  y  B= [2, 1,'d']\n",
        "A =[1, 'a'] \n",
        "B= [2, 1,'d']\n",
        "A+B"
      ],
      "metadata": {
        "id": "swMj0mRMgVu6",
        "outputId": "62dde888-d902-4640-f8d5-609048f60e18",
        "colab": {
          "base_uri": "https://localhost:8080/"
        }
      },
      "execution_count": 82,
      "outputs": [
        {
          "output_type": "execute_result",
          "data": {
            "text/plain": [
              "[1, 'a', 2, 1, 'd']"
            ]
          },
          "metadata": {},
          "execution_count": 82
        }
      ]
    },
    {
      "cell_type": "markdown",
      "source": [
        "# Convertir una Lista a un Conjunto"
      ],
      "metadata": {
        "id": "6oFDLTEljbtk"
      }
    },
    {
      "cell_type": "code",
      "source": [
        "#Convertir la siguiente lista a conjunto\n",
        "set(['A','B','C','A','B','C'])\n"
      ],
      "metadata": {
        "id": "AR7FIVv4jgSU",
        "outputId": "4e4c1aa6-cbde-4e22-d21e-49f37003dc6f",
        "colab": {
          "base_uri": "https://localhost:8080/"
        }
      },
      "execution_count": 84,
      "outputs": [
        {
          "output_type": "execute_result",
          "data": {
            "text/plain": [
              "{'A', 'B', 'C'}"
            ]
          },
          "metadata": {},
          "execution_count": 84
        }
      ]
    },
    {
      "cell_type": "code",
      "source": [
        "#Agregar elemento a un conjunto\n",
        "S={'A','B','C'}\n",
        "S.add('D')\n",
        "S"
      ],
      "metadata": {
        "id": "5RBAYJ-ljsoq",
        "outputId": "28a51623-8f02-477f-a1e8-fc4e6f0ea8db",
        "colab": {
          "base_uri": "https://localhost:8080/"
        }
      },
      "execution_count": 85,
      "outputs": [
        {
          "output_type": "execute_result",
          "data": {
            "text/plain": [
              "{'A', 'B', 'C', 'D'}"
            ]
          },
          "metadata": {},
          "execution_count": 85
        }
      ]
    },
    {
      "cell_type": "code",
      "source": [
        "#Intersección de conjuntos\n",
        "A={1,2,3,4,5}\n",
        "B={1,3,9, 12}\n",
        "A & B"
      ],
      "metadata": {
        "id": "u5Kig075kO8Z",
        "outputId": "9f4a626f-554f-44c9-d7b5-c72606f1217d",
        "colab": {
          "base_uri": "https://localhost:8080/"
        }
      },
      "execution_count": 88,
      "outputs": [
        {
          "output_type": "execute_result",
          "data": {
            "text/plain": [
              "{1, 3}"
            ]
          },
          "metadata": {},
          "execution_count": 88
        }
      ]
    },
    {
      "cell_type": "code",
      "source": [
        "S={'A','B','C'}\n",
        "U={'A','Z','C'}\n",
        "U.union(S)\n",
        "U"
      ],
      "metadata": {
        "id": "eR83TbPSkUFp",
        "outputId": "371ccba5-2cf7-4850-df6b-731a0a9c0116",
        "colab": {
          "base_uri": "https://localhost:8080/"
        }
      },
      "execution_count": 91,
      "outputs": [
        {
          "output_type": "execute_result",
          "data": {
            "text/plain": [
              "{'A', 'C', 'Z'}"
            ]
          },
          "metadata": {},
          "execution_count": 91
        }
      ]
    },
    {
      "cell_type": "markdown",
      "source": [
        "# Creacion de conjuntos"
      ],
      "metadata": {
        "id": "FpZW0nRbly0V"
      }
    },
    {
      "cell_type": "code",
      "source": [
        "#Creacion de un conjunto\n",
        "set1 = {\"pop\", \"rock\", \"soul\", \"hard rock\", \"rock\", \"R&B\", \"rock\", \"disco\"}\n",
        "set1"
      ],
      "metadata": {
        "id": "aQOQgKBWl3Mb",
        "outputId": "46273df7-7a42-42b4-ebfa-ff3ab85fa458",
        "colab": {
          "base_uri": "https://localhost:8080/"
        }
      },
      "execution_count": 92,
      "outputs": [
        {
          "output_type": "execute_result",
          "data": {
            "text/plain": [
              "{'R&B', 'disco', 'hard rock', 'pop', 'rock', 'soul'}"
            ]
          },
          "metadata": {},
          "execution_count": 92
        }
      ]
    },
    {
      "cell_type": "code",
      "source": [
        "#Conversion de lista a conjunto\n",
        "album_list = [ \"Michael Jackson\", \"Thriller\", 1982, \"00:42:19\", \\\n",
        "              \"Pop, Rock, R&B\", 46.0, 65, \"30-Nov-82\", None, 10.0]\n",
        "album_set = set(album_list)\n",
        "album_set\n",
        "                            "
      ],
      "metadata": {
        "id": "kvGaHS7pl6oZ",
        "outputId": "bb0a3770-e0be-4913-b2e1-95768b4f420d",
        "colab": {
          "base_uri": "https://localhost:8080/"
        }
      },
      "execution_count": 94,
      "outputs": [
        {
          "output_type": "execute_result",
          "data": {
            "text/plain": [
              "{'00:42:19',\n",
              " 10.0,\n",
              " 1982,\n",
              " '30-Nov-82',\n",
              " 46.0,\n",
              " 65,\n",
              " 'Michael Jackson',\n",
              " None,\n",
              " 'Pop, Rock, R&B',\n",
              " 'Thriller'}"
            ]
          },
          "metadata": {},
          "execution_count": 94
        }
      ]
    },
    {
      "cell_type": "code",
      "source": [
        "#Convierte la lista a conjunto\n",
        "music_genres = set([\"pop\", \"pop\", \"rock\", \"folk rock\", \"hard rock\", \"soul\", \\\n",
        "                    \"progressive rock\", \"soft rock\", \"R&B\", \"disco\"])\n",
        "music_genres"
      ],
      "metadata": {
        "id": "NAzmokC-mGsJ",
        "outputId": "65db4fd1-bbfb-4976-ab05-8a7fe2bcc5f7",
        "colab": {
          "base_uri": "https://localhost:8080/"
        }
      },
      "execution_count": 95,
      "outputs": [
        {
          "output_type": "execute_result",
          "data": {
            "text/plain": [
              "{'R&B',\n",
              " 'disco',\n",
              " 'folk rock',\n",
              " 'hard rock',\n",
              " 'pop',\n",
              " 'progressive rock',\n",
              " 'rock',\n",
              " 'soft rock',\n",
              " 'soul'}"
            ]
          },
          "metadata": {},
          "execution_count": 95
        }
      ]
    },
    {
      "cell_type": "code",
      "source": [
        "#Operaciones de Conjuntos\n",
        "A = set([\"Thriller\", \"Back in Black\", \"AC/DC\"])\n",
        "A"
      ],
      "metadata": {
        "id": "C_0G6rgOmZ76",
        "outputId": "61678500-09f3-462b-f722-ba6b3052f7ec",
        "colab": {
          "base_uri": "https://localhost:8080/"
        }
      },
      "execution_count": 96,
      "outputs": [
        {
          "output_type": "execute_result",
          "data": {
            "text/plain": [
              "{'AC/DC', 'Back in Black', 'Thriller'}"
            ]
          },
          "metadata": {},
          "execution_count": 96
        }
      ]
    },
    {
      "cell_type": "code",
      "source": [
        "#Agregar elemento al conjunto\n",
        "A.add(\"NSYNC\")\n",
        "A"
      ],
      "metadata": {
        "id": "oKf_YlLMmiNZ",
        "outputId": "28a18854-039d-4525-bcfe-0264c52681b8",
        "colab": {
          "base_uri": "https://localhost:8080/"
        }
      },
      "execution_count": 97,
      "outputs": [
        {
          "output_type": "execute_result",
          "data": {
            "text/plain": [
              "{'AC/DC', 'Back in Black', 'NSYNC', 'Thriller'}"
            ]
          },
          "metadata": {},
          "execution_count": 97
        }
      ]
    },
    {
      "cell_type": "code",
      "source": [
        "#Itento de duplicar el elemento en el conjunto\n",
        "A.add(\"NSYNC\")\n",
        "A"
      ],
      "metadata": {
        "id": "usv-Z0lXmpfZ",
        "outputId": "15c09c94-b692-4a20-c560-036fad5cd780",
        "colab": {
          "base_uri": "https://localhost:8080/"
        }
      },
      "execution_count": 98,
      "outputs": [
        {
          "output_type": "execute_result",
          "data": {
            "text/plain": [
              "{'AC/DC', 'Back in Black', 'NSYNC', 'Thriller'}"
            ]
          },
          "metadata": {},
          "execution_count": 98
        }
      ]
    },
    {
      "cell_type": "code",
      "source": [
        "#Remover el elemento del conjunto\n",
        "A.remove(\"NSYNC\")\n",
        "A"
      ],
      "metadata": {
        "id": "ClDaEoM5mxOp",
        "outputId": "b6bf77a0-675b-4ad3-fd12-d8458d183f8e",
        "colab": {
          "base_uri": "https://localhost:8080/"
        }
      },
      "execution_count": 99,
      "outputs": [
        {
          "output_type": "execute_result",
          "data": {
            "text/plain": [
              "{'AC/DC', 'Back in Black', 'Thriller'}"
            ]
          },
          "metadata": {},
          "execution_count": 99
        }
      ]
    },
    {
      "cell_type": "code",
      "source": [
        "#Verificar que el elemento este en el conjunto\n",
        "\"AC/DC\" in A"
      ],
      "metadata": {
        "id": "aGfIxE8Bm2Op",
        "outputId": "10c16ff7-fca9-4704-f249-61a5c55750c3",
        "colab": {
          "base_uri": "https://localhost:8080/"
        }
      },
      "execution_count": 100,
      "outputs": [
        {
          "output_type": "execute_result",
          "data": {
            "text/plain": [
              "True"
            ]
          },
          "metadata": {},
          "execution_count": 100
        }
      ]
    },
    {
      "cell_type": "code",
      "source": [
        "#Operaciones Logicas de Conjunto\n",
        "#Conjuntos Muestra\n",
        "album_set1 = set([\"Thriller\", 'AC/DC', 'Back in Black'])\n",
        "album_set2 = set([ \"AC/DC\", \"Back in Black\", \"The Dark Side of the Moon\"])"
      ],
      "metadata": {
        "id": "-0ZbDi9xm8L5"
      },
      "execution_count": 101,
      "outputs": []
    },
    {
      "cell_type": "code",
      "source": [
        "#Imprime los dos conjuntos\n",
        "album_set1, album_set2"
      ],
      "metadata": {
        "id": "_9cZl51pnG15",
        "outputId": "460851fb-32fa-481d-9a39-3e7d10e89c90",
        "colab": {
          "base_uri": "https://localhost:8080/"
        }
      },
      "execution_count": 102,
      "outputs": [
        {
          "output_type": "execute_result",
          "data": {
            "text/plain": [
              "({'AC/DC', 'Back in Black', 'Thriller'},\n",
              " {'AC/DC', 'Back in Black', 'The Dark Side of the Moon'})"
            ]
          },
          "metadata": {},
          "execution_count": 102
        }
      ]
    },
    {
      "cell_type": "code",
      "source": [
        "#Encuentra las intersecciones\n",
        "intersection = album_set1 & album_set2\n",
        "intersection"
      ],
      "metadata": {
        "id": "bF5Tq8fwnPFp",
        "outputId": "438467c6-b564-4eca-d6b8-ab5b7ee5bfea",
        "colab": {
          "base_uri": "https://localhost:8080/"
        }
      },
      "execution_count": 104,
      "outputs": [
        {
          "output_type": "execute_result",
          "data": {
            "text/plain": [
              "{'AC/DC', 'Back in Black'}"
            ]
          },
          "metadata": {},
          "execution_count": 104
        }
      ]
    },
    {
      "cell_type": "code",
      "source": [
        "#Encunetra la disferencias dentro del conjunto 1 pero no del 2\n",
        "album_set1.difference(album_set2)"
      ],
      "metadata": {
        "id": "90IWccw8nXop",
        "outputId": "931a09b6-153b-409f-da81-0aff25a6ba00",
        "colab": {
          "base_uri": "https://localhost:8080/"
        }
      },
      "execution_count": 105,
      "outputs": [
        {
          "output_type": "execute_result",
          "data": {
            "text/plain": [
              "{'Thriller'}"
            ]
          },
          "metadata": {},
          "execution_count": 105
        }
      ]
    },
    {
      "cell_type": "code",
      "source": [
        "#Las diferencias del conjunto 2 pero no del 1\n",
        "album_set2.difference(album_set1)"
      ],
      "metadata": {
        "id": "qhAB5b3innpp",
        "outputId": "f7154eac-97ad-43c7-df55-f21e074c70b2",
        "colab": {
          "base_uri": "https://localhost:8080/"
        }
      },
      "execution_count": 106,
      "outputs": [
        {
          "output_type": "execute_result",
          "data": {
            "text/plain": [
              "{'The Dark Side of the Moon'}"
            ]
          },
          "metadata": {},
          "execution_count": 106
        }
      ]
    },
    {
      "cell_type": "code",
      "source": [
        "#Utiliza el metodo de interseccion del album 1 y el album 2\n",
        "album_set1.intersection(album_set2)   "
      ],
      "metadata": {
        "id": "V_CcmRrlnx2p",
        "outputId": "95a398e9-44d9-4269-8435-e49c061e7c58",
        "colab": {
          "base_uri": "https://localhost:8080/"
        }
      },
      "execution_count": 107,
      "outputs": [
        {
          "output_type": "execute_result",
          "data": {
            "text/plain": [
              "{'AC/DC', 'Back in Black'}"
            ]
          },
          "metadata": {},
          "execution_count": 107
        }
      ]
    },
    {
      "cell_type": "code",
      "source": [
        "#La union de los conjuntos \n",
        "album_set1.union(album_set2)"
      ],
      "metadata": {
        "id": "aupmoje-oAf5",
        "outputId": "f4876f7f-0433-420b-cb74-1b8b10a529f8",
        "colab": {
          "base_uri": "https://localhost:8080/"
        }
      },
      "execution_count": 108,
      "outputs": [
        {
          "output_type": "execute_result",
          "data": {
            "text/plain": [
              "{'AC/DC', 'Back in Black', 'The Dark Side of the Moon', 'Thriller'}"
            ]
          },
          "metadata": {},
          "execution_count": 108
        }
      ]
    },
    {
      "cell_type": "code",
      "source": [
        "#Verificar si es un superconjunto\n",
        "set(album_set2).issubset(album_set1)     "
      ],
      "metadata": {
        "id": "iHjbU4AXoJqZ",
        "outputId": "ab68d4c5-5718-4ea8-e980-9dda17afa13d",
        "colab": {
          "base_uri": "https://localhost:8080/"
        }
      },
      "execution_count": 109,
      "outputs": [
        {
          "output_type": "execute_result",
          "data": {
            "text/plain": [
              "False"
            ]
          },
          "metadata": {},
          "execution_count": 109
        }
      ]
    },
    {
      "cell_type": "code",
      "source": [
        "set(album_set1).issuperset(album_set2)"
      ],
      "metadata": {
        "id": "ffXv0UT6oQ-p",
        "outputId": "89979b3c-6a10-43e0-8b64-da9f601fdd5d",
        "colab": {
          "base_uri": "https://localhost:8080/"
        }
      },
      "execution_count": 110,
      "outputs": [
        {
          "output_type": "execute_result",
          "data": {
            "text/plain": [
              "False"
            ]
          },
          "metadata": {},
          "execution_count": 110
        }
      ]
    },
    {
      "cell_type": "code",
      "source": [
        "#Verificar si es un subconjunto\n",
        "set({\"Back in Black\", \"AC/DC\"}).issubset(album_set1) "
      ],
      "metadata": {
        "id": "wsa9GXZjoXQ4",
        "outputId": "ea837819-77f5-464a-fd73-52aa8f3a862d",
        "colab": {
          "base_uri": "https://localhost:8080/"
        }
      },
      "execution_count": 111,
      "outputs": [
        {
          "output_type": "execute_result",
          "data": {
            "text/plain": [
              "True"
            ]
          },
          "metadata": {},
          "execution_count": 111
        }
      ]
    },
    {
      "cell_type": "code",
      "source": [
        "#Verifica si es un superconjunot\n",
        "album_set1.issuperset({\"Back in Black\", \"AC/DC\"}) "
      ],
      "metadata": {
        "id": "mnpIGtE-ofX4",
        "outputId": "023a8fef-6ee5-4208-d5d9-833fbbb17b8f",
        "colab": {
          "base_uri": "https://localhost:8080/"
        }
      },
      "execution_count": 112,
      "outputs": [
        {
          "output_type": "execute_result",
          "data": {
            "text/plain": [
              "True"
            ]
          },
          "metadata": {},
          "execution_count": 112
        }
      ]
    },
    {
      "cell_type": "markdown",
      "source": [
        "# Quiz de Conjuntos"
      ],
      "metadata": {
        "id": "8pt7dNJNpBvF"
      }
    },
    {
      "cell_type": "code",
      "source": [
        "#Convertir la lista asubconjunto\n",
        "set(['rap','house','electronic music', 'rap'])"
      ],
      "metadata": {
        "id": "kYTQgC25okhJ",
        "outputId": "c46b8854-a706-4da3-c894-e2be8625f8ed",
        "colab": {
          "base_uri": "https://localhost:8080/"
        }
      },
      "execution_count": 113,
      "outputs": [
        {
          "output_type": "execute_result",
          "data": {
            "text/plain": [
              "{'electronic music', 'house', 'rap'}"
            ]
          },
          "metadata": {},
          "execution_count": 113
        }
      ]
    },
    {
      "cell_type": "code",
      "source": [
        "#Verificar la igualdad  sum(A) == sum(B)?\n",
        "A = [1, 2, 2, 1]  \n",
        "B = set([1, 2, 2, 1])\n",
        "print(\"the sum of A is:\", sum(A))\n",
        "print(\"the sum of B is:\", sum(B))"
      ],
      "metadata": {
        "id": "rkG3L_TDoucJ",
        "outputId": "bdafd36d-185e-41a5-9770-f3032d61acc6",
        "colab": {
          "base_uri": "https://localhost:8080/"
        }
      },
      "execution_count": 114,
      "outputs": [
        {
          "output_type": "stream",
          "name": "stdout",
          "text": [
            "the sum of A is: 6\n",
            "the sum of B is: 3\n"
          ]
        }
      ]
    },
    {
      "cell_type": "code",
      "source": [
        "A == B"
      ],
      "metadata": {
        "id": "EIVnZRxdpGUp",
        "outputId": "d942cc52-b904-4695-e980-554d5af41fa7",
        "colab": {
          "base_uri": "https://localhost:8080/"
        }
      },
      "execution_count": 115,
      "outputs": [
        {
          "output_type": "execute_result",
          "data": {
            "text/plain": [
              "False"
            ]
          },
          "metadata": {},
          "execution_count": 115
        }
      ]
    },
    {
      "cell_type": "code",
      "source": [
        "#Crear unn nuevo conjunto que es la union del conjunto A y B\n",
        "album_set1 = set([\"Thriller\", 'AC/DC', 'Back in Black'])\n",
        "album_set2 = set([ \"AC/DC\", \"Back in Black\", \"The Dark Side of the Moon\"])\n",
        "album_set3 = album_set1.union(album_set2)\n",
        "album_set3"
      ],
      "metadata": {
        "id": "pv9yiFrgpI2J",
        "outputId": "bd63dd69-688e-4bb8-9f01-e8ca0a339300",
        "colab": {
          "base_uri": "https://localhost:8080/"
        }
      },
      "execution_count": 116,
      "outputs": [
        {
          "output_type": "execute_result",
          "data": {
            "text/plain": [
              "{'AC/DC', 'Back in Black', 'The Dark Side of the Moon', 'Thriller'}"
            ]
          },
          "metadata": {},
          "execution_count": 116
        }
      ]
    },
    {
      "cell_type": "code",
      "source": [
        "#Album A es un subconjunto del Album C\n",
        "album_set1.issubset(album_set3) "
      ],
      "metadata": {
        "id": "CP7li79ip-KY",
        "outputId": "d158b88a-4a2b-4d3c-8f23-3741f2320102",
        "colab": {
          "base_uri": "https://localhost:8080/"
        }
      },
      "execution_count": 117,
      "outputs": [
        {
          "output_type": "execute_result",
          "data": {
            "text/plain": [
              "True"
            ]
          },
          "metadata": {},
          "execution_count": 117
        }
      ]
    },
    {
      "cell_type": "markdown",
      "source": [
        "# Diccionarios"
      ],
      "metadata": {
        "id": "hYgnClXEsT0E"
      }
    },
    {
      "cell_type": "code",
      "source": [
        "#Diccionarios\n",
        "D = {'a':0,'b':1,'c':2}\n",
        "#Encunetra el valor de a\n",
        "D['a']\n"
      ],
      "metadata": {
        "id": "z4NeEA3Jqcs4",
        "outputId": "01933232-189f-499c-c660-dfc4d2330dfc",
        "colab": {
          "base_uri": "https://localhost:8080/"
        }
      },
      "execution_count": 123,
      "outputs": [
        {
          "output_type": "execute_result",
          "data": {
            "text/plain": [
              "0"
            ]
          },
          "metadata": {},
          "execution_count": 123
        }
      ]
    },
    {
      "cell_type": "code",
      "source": [
        "D['b']"
      ],
      "metadata": {
        "id": "3IoTFBMBrzXI",
        "outputId": "80d22b17-4d11-42cc-b1d2-38aa669b8154",
        "colab": {
          "base_uri": "https://localhost:8080/"
        }
      },
      "execution_count": 122,
      "outputs": [
        {
          "output_type": "execute_result",
          "data": {
            "text/plain": [
              "1"
            ]
          },
          "metadata": {},
          "execution_count": 122
        }
      ]
    },
    {
      "cell_type": "code",
      "source": [
        "#Regresa los valors de D\n",
        "D.values()"
      ],
      "metadata": {
        "id": "LiuHVNpusEy3",
        "outputId": "68911d01-630b-45de-e7b5-3f83fc60d60e",
        "colab": {
          "base_uri": "https://localhost:8080/"
        }
      },
      "execution_count": 125,
      "outputs": [
        {
          "output_type": "execute_result",
          "data": {
            "text/plain": [
              "dict_values([0, 1, 2])"
            ]
          },
          "metadata": {},
          "execution_count": 125
        }
      ]
    },
    {
      "cell_type": "code",
      "source": [
        "D.keys()"
      ],
      "metadata": {
        "id": "x5rXauWbsx0o",
        "outputId": "3ea3ad87-9bba-48d5-ec0d-ee73754f0590",
        "colab": {
          "base_uri": "https://localhost:8080/"
        }
      },
      "execution_count": 126,
      "outputs": [
        {
          "output_type": "execute_result",
          "data": {
            "text/plain": [
              "dict_keys(['a', 'b', 'c'])"
            ]
          },
          "metadata": {},
          "execution_count": 126
        }
      ]
    },
    {
      "cell_type": "code",
      "source": [
        "#Crea el diccionario\n",
        "Dict = {\"key1\": 1, \"key2\": \"2\", \"key3\": [3, 3, 3], \"key4\": (4, 4, 4), ('key5'): 5, (0, 1): 6}\n",
        "Dict"
      ],
      "metadata": {
        "id": "W24epsbBtRxJ",
        "outputId": "1cd388e3-de23-4801-8c0d-cd719ee29f7f",
        "colab": {
          "base_uri": "https://localhost:8080/"
        }
      },
      "execution_count": 127,
      "outputs": [
        {
          "output_type": "execute_result",
          "data": {
            "text/plain": [
              "{'key1': 1,\n",
              " 'key2': '2',\n",
              " 'key3': [3, 3, 3],\n",
              " 'key4': (4, 4, 4),\n",
              " 'key5': 5,\n",
              " (0, 1): 6}"
            ]
          },
          "metadata": {},
          "execution_count": 127
        }
      ]
    },
    {
      "cell_type": "code",
      "source": [
        "#Accesa al vaor por medio de la llave\n",
        "Dict[\"key1\"]"
      ],
      "metadata": {
        "id": "KkWIYbwati63",
        "outputId": "f04fc645-f752-405e-95cf-24b2ef8c1050",
        "colab": {
          "base_uri": "https://localhost:8080/"
        }
      },
      "execution_count": 128,
      "outputs": [
        {
          "output_type": "execute_result",
          "data": {
            "text/plain": [
              "1"
            ]
          },
          "metadata": {},
          "execution_count": 128
        }
      ]
    },
    {
      "cell_type": "code",
      "source": [
        "Dict[(0, 1)]"
      ],
      "metadata": {
        "id": "jZkHj9UptoaX",
        "outputId": "3429bfae-ec6f-4611-afeb-cdbb997a4575",
        "colab": {
          "base_uri": "https://localhost:8080/"
        }
      },
      "execution_count": 129,
      "outputs": [
        {
          "output_type": "execute_result",
          "data": {
            "text/plain": [
              "6"
            ]
          },
          "metadata": {},
          "execution_count": 129
        }
      ]
    },
    {
      "cell_type": "code",
      "source": [
        "#Creacion de un diccionario de ejemplo\n",
        "release_year_dict = {\"Thriller\": \"1982\", \"Back in Black\": \"1980\", \\\n",
        "                    \"The Dark Side of the Moon\": \"1973\", \"The Bodyguard\": \"1992\", \\\n",
        "                    \"Bat Out of Hell\": \"1977\", \"Their Greatest Hits (1971-1975)\": \"1976\", \\\n",
        "                    \"Saturday Night Fever\": \"1977\", \"Rumours\": \"1977\"}\n",
        "release_year_dict"
      ],
      "metadata": {
        "id": "DApkKGTLttLI",
        "outputId": "bbb5a748-d5fd-4d48-dcb4-1acea2107d9b",
        "colab": {
          "base_uri": "https://localhost:8080/"
        }
      },
      "execution_count": 130,
      "outputs": [
        {
          "output_type": "execute_result",
          "data": {
            "text/plain": [
              "{'Thriller': '1982',\n",
              " 'Back in Black': '1980',\n",
              " 'The Dark Side of the Moon': '1973',\n",
              " 'The Bodyguard': '1992',\n",
              " 'Bat Out of Hell': '1977',\n",
              " 'Their Greatest Hits (1971-1975)': '1976',\n",
              " 'Saturday Night Fever': '1977',\n",
              " 'Rumours': '1977'}"
            ]
          },
          "metadata": {},
          "execution_count": 130
        }
      ]
    },
    {
      "cell_type": "code",
      "source": [
        "#Obtener el valor de la llave\n",
        "release_year_dict['Thriller'] "
      ],
      "metadata": {
        "id": "sF6gUP6dt4iH",
        "outputId": "29708be6-6537-487f-ca8f-9d5ec9222758",
        "colab": {
          "base_uri": "https://localhost:8080/",
          "height": 35
        }
      },
      "execution_count": 132,
      "outputs": [
        {
          "output_type": "execute_result",
          "data": {
            "text/plain": [
              "'1982'"
            ],
            "application/vnd.google.colaboratory.intrinsic+json": {
              "type": "string"
            }
          },
          "metadata": {},
          "execution_count": 132
        }
      ]
    },
    {
      "cell_type": "code",
      "source": [
        "release_year_dict['The Bodyguard'] "
      ],
      "metadata": {
        "id": "N7kh2x1kuAWn",
        "outputId": "5580724e-6fa4-4cb6-9a4c-edfc528f90c0",
        "colab": {
          "base_uri": "https://localhost:8080/",
          "height": 35
        }
      },
      "execution_count": 133,
      "outputs": [
        {
          "output_type": "execute_result",
          "data": {
            "text/plain": [
              "'1992'"
            ],
            "application/vnd.google.colaboratory.intrinsic+json": {
              "type": "string"
            }
          },
          "metadata": {},
          "execution_count": 133
        }
      ]
    },
    {
      "cell_type": "code",
      "source": [
        "#Obtener todas las llaves del diccionario\n",
        "release_year_dict.keys()"
      ],
      "metadata": {
        "id": "i6QPbZIUuEmX",
        "outputId": "ca529919-91d2-4ab1-8867-0f9e995b857b",
        "colab": {
          "base_uri": "https://localhost:8080/"
        }
      },
      "execution_count": 134,
      "outputs": [
        {
          "output_type": "execute_result",
          "data": {
            "text/plain": [
              "dict_keys(['Thriller', 'Back in Black', 'The Dark Side of the Moon', 'The Bodyguard', 'Bat Out of Hell', 'Their Greatest Hits (1971-1975)', 'Saturday Night Fever', 'Rumours'])"
            ]
          },
          "metadata": {},
          "execution_count": 134
        }
      ]
    },
    {
      "cell_type": "code",
      "source": [
        "#Obtener todos los valores del diccionario\n",
        "release_year_dict.values() "
      ],
      "metadata": {
        "id": "tkoBc2TeuKtZ",
        "outputId": "01952f26-bdbb-45e1-fa7c-4f6564509d39",
        "colab": {
          "base_uri": "https://localhost:8080/"
        }
      },
      "execution_count": 135,
      "outputs": [
        {
          "output_type": "execute_result",
          "data": {
            "text/plain": [
              "dict_values(['1982', '1980', '1973', '1992', '1977', '1976', '1977', '1977'])"
            ]
          },
          "metadata": {},
          "execution_count": 135
        }
      ]
    },
    {
      "cell_type": "code",
      "source": [
        "#Modificar el valor de una de las llaves\n",
        "release_year_dict['Graduation'] = '2007'\n",
        "release_year_dict"
      ],
      "metadata": {
        "id": "Op7p5LnquQe3",
        "outputId": "fb9b1e0e-ae37-4fef-f977-d6ae59e481e6",
        "colab": {
          "base_uri": "https://localhost:8080/"
        }
      },
      "execution_count": 136,
      "outputs": [
        {
          "output_type": "execute_result",
          "data": {
            "text/plain": [
              "{'Thriller': '1982',\n",
              " 'Back in Black': '1980',\n",
              " 'The Dark Side of the Moon': '1973',\n",
              " 'The Bodyguard': '1992',\n",
              " 'Bat Out of Hell': '1977',\n",
              " 'Their Greatest Hits (1971-1975)': '1976',\n",
              " 'Saturday Night Fever': '1977',\n",
              " 'Rumours': '1977',\n",
              " 'Graduation': '2007'}"
            ]
          },
          "metadata": {},
          "execution_count": 136
        }
      ]
    },
    {
      "cell_type": "code",
      "source": [
        "#Borrar elemetos por medio de las llaves\n",
        "del(release_year_dict['Thriller'])\n",
        "del(release_year_dict['Graduation'])\n",
        "release_year_dict"
      ],
      "metadata": {
        "id": "D7VSUoF3uXno",
        "outputId": "83cfa702-eed4-4df5-c239-b899929f39e9",
        "colab": {
          "base_uri": "https://localhost:8080/"
        }
      },
      "execution_count": 137,
      "outputs": [
        {
          "output_type": "execute_result",
          "data": {
            "text/plain": [
              "{'Back in Black': '1980',\n",
              " 'The Dark Side of the Moon': '1973',\n",
              " 'The Bodyguard': '1992',\n",
              " 'Bat Out of Hell': '1977',\n",
              " 'Their Greatest Hits (1971-1975)': '1976',\n",
              " 'Saturday Night Fever': '1977',\n",
              " 'Rumours': '1977'}"
            ]
          },
          "metadata": {},
          "execution_count": 137
        }
      ]
    },
    {
      "cell_type": "code",
      "source": [
        "#Verifica si la llave se encuentra en el dicionario\n",
        "'The Bodyguard' in release_year_dict"
      ],
      "metadata": {
        "id": "7yaq_p8jugU3",
        "outputId": "a5706ed6-34a0-4083-e493-0a577688c1b5",
        "colab": {
          "base_uri": "https://localhost:8080/"
        }
      },
      "execution_count": 138,
      "outputs": [
        {
          "output_type": "execute_result",
          "data": {
            "text/plain": [
              "True"
            ]
          },
          "metadata": {},
          "execution_count": 138
        }
      ]
    },
    {
      "cell_type": "markdown",
      "source": [
        "# Preguntas de Diccionarios"
      ],
      "metadata": {
        "id": "YJdYEqeJuuyy"
      }
    },
    {
      "cell_type": "code",
      "source": [
        "# Diccionario de muestra\n",
        "soundtrack_dic = {\"The Bodyguard\":\"1992\", \"Saturday Night Fever\":\"1977\"}\n",
        "soundtrack_dic "
      ],
      "metadata": {
        "id": "gY7GgcUpuyQb",
        "outputId": "beece16c-52ee-46fa-ebaf-0aa6a57770a5",
        "colab": {
          "base_uri": "https://localhost:8080/"
        }
      },
      "execution_count": 139,
      "outputs": [
        {
          "output_type": "execute_result",
          "data": {
            "text/plain": [
              "{'The Bodyguard': '1992', 'Saturday Night Fever': '1977'}"
            ]
          },
          "metadata": {},
          "execution_count": 139
        }
      ]
    },
    {
      "cell_type": "code",
      "source": [
        "soundtrack_dic.keys()"
      ],
      "metadata": {
        "id": "DFW4VXEtu3L3",
        "outputId": "a8706df4-10f0-4bb1-b733-63cc9ca388b9",
        "colab": {
          "base_uri": "https://localhost:8080/"
        }
      },
      "execution_count": 140,
      "outputs": [
        {
          "output_type": "execute_result",
          "data": {
            "text/plain": [
              "dict_keys(['The Bodyguard', 'Saturday Night Fever'])"
            ]
          },
          "metadata": {},
          "execution_count": 140
        }
      ]
    },
    {
      "cell_type": "code",
      "source": [
        "soundtrack_dic.values()"
      ],
      "metadata": {
        "id": "jvLPi34uvEkH",
        "outputId": "21b47e23-2f1a-4099-8203-f770a0e73a18",
        "colab": {
          "base_uri": "https://localhost:8080/"
        }
      },
      "execution_count": 141,
      "outputs": [
        {
          "output_type": "execute_result",
          "data": {
            "text/plain": [
              "dict_values(['1992', '1977'])"
            ]
          },
          "metadata": {},
          "execution_count": 141
        }
      ]
    },
    {
      "cell_type": "code",
      "source": [
        "#Creacion de un diccionario\n",
        "album_sales_dict = {\"Back in Black\": \"50\",\"The Bodyguard\":\"50\",\"Thriller\":\"65\"}\n",
        "album_sales_dict"
      ],
      "metadata": {
        "id": "qI2V6h4tvQXn",
        "outputId": "666aa1e1-d14f-4575-8d47-4f55715f63cb",
        "colab": {
          "base_uri": "https://localhost:8080/"
        }
      },
      "execution_count": 142,
      "outputs": [
        {
          "output_type": "execute_result",
          "data": {
            "text/plain": [
              "{'Back in Black': '50', 'The Bodyguard': '50', 'Thriller': '65'}"
            ]
          },
          "metadata": {},
          "execution_count": 142
        }
      ]
    },
    {
      "cell_type": "code",
      "source": [
        "#Ventas totales\n",
        "album_sales_dict[\"Thriller\"]\n"
      ],
      "metadata": {
        "id": "1vIG-MZ_v8po",
        "outputId": "0640c25a-a83e-49ff-8136-17ab60b9cf5e",
        "colab": {
          "base_uri": "https://localhost:8080/",
          "height": 35
        }
      },
      "execution_count": 145,
      "outputs": [
        {
          "output_type": "execute_result",
          "data": {
            "text/plain": [
              "'65'"
            ],
            "application/vnd.google.colaboratory.intrinsic+json": {
              "type": "string"
            }
          },
          "metadata": {},
          "execution_count": 145
        }
      ]
    },
    {
      "cell_type": "code",
      "source": [
        "album_sales_dict.keys()"
      ],
      "metadata": {
        "id": "yJNLG2OowLOX",
        "outputId": "4cedb9cb-0d04-4567-f9c0-8199da85e916",
        "colab": {
          "base_uri": "https://localhost:8080/"
        }
      },
      "execution_count": 147,
      "outputs": [
        {
          "output_type": "execute_result",
          "data": {
            "text/plain": [
              "dict_keys(['Back in Black', 'The Bodyguard', 'Thriller'])"
            ]
          },
          "metadata": {},
          "execution_count": 147
        }
      ]
    },
    {
      "cell_type": "code",
      "source": [
        "album_sales_dict.values()"
      ],
      "metadata": {
        "id": "SPu8b8pmwl64",
        "outputId": "576547c5-2227-4437-8b90-417d50bc2d34",
        "colab": {
          "base_uri": "https://localhost:8080/"
        }
      },
      "execution_count": 148,
      "outputs": [
        {
          "output_type": "execute_result",
          "data": {
            "text/plain": [
              "dict_values(['50', '50', '65'])"
            ]
          },
          "metadata": {},
          "execution_count": 148
        }
      ]
    },
    {
      "cell_type": "code",
      "source": [],
      "metadata": {
        "id": "jTwgyPbwx8lH"
      },
      "execution_count": null,
      "outputs": []
    }
  ]
}
