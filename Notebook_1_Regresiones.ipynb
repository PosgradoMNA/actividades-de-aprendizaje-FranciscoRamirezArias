{
  "nbformat": 4,
  "nbformat_minor": 0,
  "metadata": {
    "colab": {
      "provenance": [],
      "collapsed_sections": [
        "mmU1T7QYz14V",
        "N-RxKDII0bD_",
        "B0oX3N1R1Sll",
        "TwL-2ALj1rGd",
        "AgDv6Cmw2FXF",
        "z282RVAO4q5l",
        "d-0Be9ls7ah1",
        "TMLHXWD-P8Gm"
      ]
    },
    "kernelspec": {
      "name": "python3",
      "display_name": "Python 3"
    },
    "language_info": {
      "name": "python"
    }
  },
  "cells": [
    {
      "cell_type": "markdown",
      "source": [
        "---\n",
        "\n",
        "#**Tecnológico de Monterrey**\n",
        "\n",
        "##**Maestría en Inteligencia Artificial Aplicada**\n",
        "\n",
        "###**Curso:** Ciencia y Analítica de Datos\n",
        "\n",
        "###**Profesora:** Dra. María de la Paz Rico Fernández\n",
        "\n",
        "###**Actividad:** Regresiones\n",
        "\n",
        "###**Alumno:** Francisco Javier Ramírez Arias\n",
        "\n",
        "###**Matrícula:** A01316379\n",
        "\n",
        "---"
      ],
      "metadata": {
        "id": "xzR8fu_QyTbG"
      }
    },
    {
      "cell_type": "code",
      "execution_count": 42,
      "metadata": {
        "id": "j4-kGGd2yPKA"
      },
      "outputs": [],
      "source": [
        "#Importan las librerias para realizar los entrenamientos\n",
        "from sklearn import metrics\n",
        "from sklearn.metrics import r2_score\n",
        "import numpy as np\n",
        "import matplotlib as plt\n",
        "import matplotlib.pyplot as plt\n",
        "import pandas as pd\n",
        "import seaborn as sns\n",
        "\n",
        "from sklearn.linear_model import LinearRegression\n",
        "from sklearn.preprocessing import PolynomialFeatures\n",
        "from sklearn.linear_model import Ridge\n",
        "from sklearn.linear_model import Lasso"
      ]
    },
    {
      "cell_type": "markdown",
      "source": [
        "#Ejercicio 1\n",
        "Utiliza la base de datos de https://www.kaggle.com/vinicius150987/manufacturing-cost\n",
        "\n",
        "Suponga que trabaja como consultor de una empresa de nueva creación que busca desarrollar un modelo para estimar el costo de los bienes vendidos a medida que varían el volumen de producción (número de unidades producidas). La startup recopiló datos y le pidió que desarrollara un modelo para predecir su costo frente a la cantidad de unidades vendidas."
      ],
      "metadata": {
        "id": "RELvGOa3yvxP"
      }
    },
    {
      "cell_type": "code",
      "source": [
        "#Lectura de la base de datos\n",
        "df = pd.read_csv('https://raw.githubusercontent.com/marypazrf/bdd/main/EconomiesOfScale.csv')\n",
        "df = df.sort_values(by =[\"Number of Units\"])\n",
        "df.sample(10)"
      ],
      "metadata": {
        "colab": {
          "base_uri": "https://localhost:8080/",
          "height": 363
        },
        "id": "gHfDM1FFyxSF",
        "outputId": "bc18840d-0038-4e2c-e089-e9492833e65e"
      },
      "execution_count": 3,
      "outputs": [
        {
          "output_type": "execute_result",
          "data": {
            "text/plain": [
              "     Number of Units  Manufacturing Cost\n",
              "878         5.980289           37.426675\n",
              "150         3.096392           42.231657\n",
              "813         5.585687           35.132755\n",
              "182         3.244790           51.345094\n",
              "865         5.892589           28.767268\n",
              "750         5.324965           30.998613\n",
              "304         3.801138           45.947419\n",
              "461         4.305633           41.501175\n",
              "622         4.918345           38.763193\n",
              "67          2.520240           61.879641"
            ],
            "text/html": [
              "\n",
              "  <div id=\"df-0e6473fc-d6f6-4638-95b4-bce2dfbfe675\">\n",
              "    <div class=\"colab-df-container\">\n",
              "      <div>\n",
              "<style scoped>\n",
              "    .dataframe tbody tr th:only-of-type {\n",
              "        vertical-align: middle;\n",
              "    }\n",
              "\n",
              "    .dataframe tbody tr th {\n",
              "        vertical-align: top;\n",
              "    }\n",
              "\n",
              "    .dataframe thead th {\n",
              "        text-align: right;\n",
              "    }\n",
              "</style>\n",
              "<table border=\"1\" class=\"dataframe\">\n",
              "  <thead>\n",
              "    <tr style=\"text-align: right;\">\n",
              "      <th></th>\n",
              "      <th>Number of Units</th>\n",
              "      <th>Manufacturing Cost</th>\n",
              "    </tr>\n",
              "  </thead>\n",
              "  <tbody>\n",
              "    <tr>\n",
              "      <th>878</th>\n",
              "      <td>5.980289</td>\n",
              "      <td>37.426675</td>\n",
              "    </tr>\n",
              "    <tr>\n",
              "      <th>150</th>\n",
              "      <td>3.096392</td>\n",
              "      <td>42.231657</td>\n",
              "    </tr>\n",
              "    <tr>\n",
              "      <th>813</th>\n",
              "      <td>5.585687</td>\n",
              "      <td>35.132755</td>\n",
              "    </tr>\n",
              "    <tr>\n",
              "      <th>182</th>\n",
              "      <td>3.244790</td>\n",
              "      <td>51.345094</td>\n",
              "    </tr>\n",
              "    <tr>\n",
              "      <th>865</th>\n",
              "      <td>5.892589</td>\n",
              "      <td>28.767268</td>\n",
              "    </tr>\n",
              "    <tr>\n",
              "      <th>750</th>\n",
              "      <td>5.324965</td>\n",
              "      <td>30.998613</td>\n",
              "    </tr>\n",
              "    <tr>\n",
              "      <th>304</th>\n",
              "      <td>3.801138</td>\n",
              "      <td>45.947419</td>\n",
              "    </tr>\n",
              "    <tr>\n",
              "      <th>461</th>\n",
              "      <td>4.305633</td>\n",
              "      <td>41.501175</td>\n",
              "    </tr>\n",
              "    <tr>\n",
              "      <th>622</th>\n",
              "      <td>4.918345</td>\n",
              "      <td>38.763193</td>\n",
              "    </tr>\n",
              "    <tr>\n",
              "      <th>67</th>\n",
              "      <td>2.520240</td>\n",
              "      <td>61.879641</td>\n",
              "    </tr>\n",
              "  </tbody>\n",
              "</table>\n",
              "</div>\n",
              "      <button class=\"colab-df-convert\" onclick=\"convertToInteractive('df-0e6473fc-d6f6-4638-95b4-bce2dfbfe675')\"\n",
              "              title=\"Convert this dataframe to an interactive table.\"\n",
              "              style=\"display:none;\">\n",
              "        \n",
              "  <svg xmlns=\"http://www.w3.org/2000/svg\" height=\"24px\"viewBox=\"0 0 24 24\"\n",
              "       width=\"24px\">\n",
              "    <path d=\"M0 0h24v24H0V0z\" fill=\"none\"/>\n",
              "    <path d=\"M18.56 5.44l.94 2.06.94-2.06 2.06-.94-2.06-.94-.94-2.06-.94 2.06-2.06.94zm-11 1L8.5 8.5l.94-2.06 2.06-.94-2.06-.94L8.5 2.5l-.94 2.06-2.06.94zm10 10l.94 2.06.94-2.06 2.06-.94-2.06-.94-.94-2.06-.94 2.06-2.06.94z\"/><path d=\"M17.41 7.96l-1.37-1.37c-.4-.4-.92-.59-1.43-.59-.52 0-1.04.2-1.43.59L10.3 9.45l-7.72 7.72c-.78.78-.78 2.05 0 2.83L4 21.41c.39.39.9.59 1.41.59.51 0 1.02-.2 1.41-.59l7.78-7.78 2.81-2.81c.8-.78.8-2.07 0-2.86zM5.41 20L4 18.59l7.72-7.72 1.47 1.35L5.41 20z\"/>\n",
              "  </svg>\n",
              "      </button>\n",
              "      \n",
              "  <style>\n",
              "    .colab-df-container {\n",
              "      display:flex;\n",
              "      flex-wrap:wrap;\n",
              "      gap: 12px;\n",
              "    }\n",
              "\n",
              "    .colab-df-convert {\n",
              "      background-color: #E8F0FE;\n",
              "      border: none;\n",
              "      border-radius: 50%;\n",
              "      cursor: pointer;\n",
              "      display: none;\n",
              "      fill: #1967D2;\n",
              "      height: 32px;\n",
              "      padding: 0 0 0 0;\n",
              "      width: 32px;\n",
              "    }\n",
              "\n",
              "    .colab-df-convert:hover {\n",
              "      background-color: #E2EBFA;\n",
              "      box-shadow: 0px 1px 2px rgba(60, 64, 67, 0.3), 0px 1px 3px 1px rgba(60, 64, 67, 0.15);\n",
              "      fill: #174EA6;\n",
              "    }\n",
              "\n",
              "    [theme=dark] .colab-df-convert {\n",
              "      background-color: #3B4455;\n",
              "      fill: #D2E3FC;\n",
              "    }\n",
              "\n",
              "    [theme=dark] .colab-df-convert:hover {\n",
              "      background-color: #434B5C;\n",
              "      box-shadow: 0px 1px 3px 1px rgba(0, 0, 0, 0.15);\n",
              "      filter: drop-shadow(0px 1px 2px rgba(0, 0, 0, 0.3));\n",
              "      fill: #FFFFFF;\n",
              "    }\n",
              "  </style>\n",
              "\n",
              "      <script>\n",
              "        const buttonEl =\n",
              "          document.querySelector('#df-0e6473fc-d6f6-4638-95b4-bce2dfbfe675 button.colab-df-convert');\n",
              "        buttonEl.style.display =\n",
              "          google.colab.kernel.accessAllowed ? 'block' : 'none';\n",
              "\n",
              "        async function convertToInteractive(key) {\n",
              "          const element = document.querySelector('#df-0e6473fc-d6f6-4638-95b4-bce2dfbfe675');\n",
              "          const dataTable =\n",
              "            await google.colab.kernel.invokeFunction('convertToInteractive',\n",
              "                                                     [key], {});\n",
              "          if (!dataTable) return;\n",
              "\n",
              "          const docLinkHtml = 'Like what you see? Visit the ' +\n",
              "            '<a target=\"_blank\" href=https://colab.research.google.com/notebooks/data_table.ipynb>data table notebook</a>'\n",
              "            + ' to learn more about interactive tables.';\n",
              "          element.innerHTML = '';\n",
              "          dataTable['output_type'] = 'display_data';\n",
              "          await google.colab.output.renderOutput(dataTable, element);\n",
              "          const docLink = document.createElement('div');\n",
              "          docLink.innerHTML = docLinkHtml;\n",
              "          element.appendChild(docLink);\n",
              "        }\n",
              "      </script>\n",
              "    </div>\n",
              "  </div>\n",
              "  "
            ]
          },
          "metadata": {},
          "execution_count": 3
        }
      ]
    },
    {
      "cell_type": "code",
      "source": [
        "#Variables y Targets\n",
        "X = df[['Number of Units']]\n",
        "y = df['Manufacturing Cost']"
      ],
      "metadata": {
        "id": "6kdMTpvMzC6l"
      },
      "execution_count": 4,
      "outputs": []
    },
    {
      "cell_type": "code",
      "source": [
        "#longitud de los datos\n",
        "len(X)"
      ],
      "metadata": {
        "colab": {
          "base_uri": "https://localhost:8080/"
        },
        "id": "5NvI6C4wzMol",
        "outputId": "d2779efe-f1ad-4c16-fc01-8c9d81504789"
      },
      "execution_count": 5,
      "outputs": [
        {
          "output_type": "execute_result",
          "data": {
            "text/plain": [
              "1000"
            ]
          },
          "metadata": {},
          "execution_count": 5
        }
      ]
    },
    {
      "cell_type": "code",
      "source": [
        "#Descripción de los datos\n",
        "y.describe"
      ],
      "metadata": {
        "colab": {
          "base_uri": "https://localhost:8080/"
        },
        "id": "r7IeXoXEzRyR",
        "outputId": "7fc0261e-9e3b-40f2-c783-23f2dc88ea34"
      },
      "execution_count": 7,
      "outputs": [
        {
          "output_type": "execute_result",
          "data": {
            "text/plain": [
              "<bound method NDFrame.describe of 0      95.066056\n",
              "1      96.531750\n",
              "2      73.661311\n",
              "3      95.566843\n",
              "4      98.777013\n",
              "         ...    \n",
              "995    23.855067\n",
              "996    27.536542\n",
              "997    25.973787\n",
              "998    25.138311\n",
              "999    21.547777\n",
              "Name: Manufacturing Cost, Length: 1000, dtype: float64>"
            ]
          },
          "metadata": {},
          "execution_count": 7
        }
      ]
    },
    {
      "cell_type": "code",
      "source": [
        "#Graficado de los datos\n",
        "plt.plot(X,y,'b.')"
      ],
      "metadata": {
        "colab": {
          "base_uri": "https://localhost:8080/",
          "height": 282
        },
        "id": "eKgED5qHzayk",
        "outputId": "bb8b460a-6b4b-459b-e533-269adfe26915"
      },
      "execution_count": 9,
      "outputs": [
        {
          "output_type": "execute_result",
          "data": {
            "text/plain": [
              "[<matplotlib.lines.Line2D at 0x7f25619b9d50>]"
            ]
          },
          "metadata": {},
          "execution_count": 9
        },
        {
          "output_type": "display_data",
          "data": {
            "text/plain": [
              "<Figure size 432x288 with 1 Axes>"
            ],
            "image/png": "[encoded data removed]"
          },
          "metadata": {
            "needs_background": "light"
          }
        }
      ]
    },
    {
      "cell_type": "code",
      "source": [
        "#Division de los datos de entrenamiento y prueba\n",
        "#85% Entrenamiento\n",
        "#15% Prueba\n",
        "from sklearn.model_selection import train_test_split\n",
        "X_train, X_test, y_train, y_test = train_test_split(X, y, test_size = 0.15, random_state = 101)\n"
      ],
      "metadata": {
        "id": "-E9owq19zibV"
      },
      "execution_count": 10,
      "outputs": []
    },
    {
      "cell_type": "code",
      "source": [
        "#Listado de Resultados\n",
        "resultados_MAE = list()\n",
        "resultados_R2 = list()"
      ],
      "metadata": {
        "id": "KO5Vk_2hzmjO"
      },
      "execution_count": 17,
      "outputs": []
    },
    {
      "cell_type": "markdown",
      "source": [
        "##1er. Modelo (Regresión Lineal)"
      ],
      "metadata": {
        "id": "mmU1T7QYz14V"
      }
    },
    {
      "cell_type": "code",
      "source": [
        "lr_mdl = LinearRegression()      #Creación del objeto: Modelo Regresion Lineal \n",
        "\n",
        "lr_mdl.fit(X_train, y_train)     #Entrenamiento del modelo\n",
        "\n",
        "lr_mdl.coef_, lr_mdl.intercept_  #Impresión de Coeficientes"
      ],
      "metadata": {
        "colab": {
          "base_uri": "https://localhost:8080/"
        },
        "id": "ZflCq3O6z3R-",
        "outputId": "822ddf7f-e001-4d48-c0cb-e1c010a4cd94"
      },
      "execution_count": 14,
      "outputs": [
        {
          "output_type": "execute_result",
          "data": {
            "text/plain": [
              "(array([-5.91602323]), 66.44764675174278)"
            ]
          },
          "metadata": {},
          "execution_count": 14
        }
      ]
    },
    {
      "cell_type": "markdown",
      "source": [
        "###Modelo de estimación obtenido:\n",
        "\n",
        "$\\hat{y} = -5.91X + 66.44$"
      ],
      "metadata": {
        "id": "N-RxKDII0bD_"
      }
    },
    {
      "cell_type": "code",
      "source": [
        "#Predicciones del modelo\n",
        "y_pred = lr_mdl.predict(X_test)\n",
        "\n",
        "#Metrícas del modelo de Regresión Lineal\n",
        "print('Error medio Absoluto (MAE):', metrics.mean_absolute_error(y_test, y_pred))\n",
        "resultados_MAE.append( metrics.mean_absolute_error(y_test, y_pred))\n",
        "print('Root Mean Squared Error:', np.sqrt(metrics.mean_squared_error(y_test, y_pred)))\n",
        "print('r2_score',r2_score(y_test, y_pred))\n",
        "resultados_R2.append(r2_score(y_test, y_pred))"
      ],
      "metadata": {
        "colab": {
          "base_uri": "https://localhost:8080/"
        },
        "id": "BGfQsiGh0cQI",
        "outputId": "48a7c5f7-2e77-4c4b-c0fc-831901e1ac46"
      },
      "execution_count": 18,
      "outputs": [
        {
          "output_type": "stream",
          "name": "stdout",
          "text": [
            "Error medio Absoluto (MAE): 5.011595088997378\n",
            "Root Mean Squared Error: 7.2416891490838875\n",
            "r2_score 0.6171440942171167\n"
          ]
        }
      ]
    },
    {
      "cell_type": "code",
      "source": [
        "#Visualizacion de los datos\n",
        "plt.scatter(X_test, y_test)\n",
        "plt.plot(X_test, y_pred, \"r-\", linewidth=2, label=\"Predictions\")\n",
        "plt.xlabel(\"$X$\", fontsize=18)\n",
        "plt.ylabel(\"$y$\", rotation=0, fontsize=18)\n",
        "plt.legend(loc=\"upper left\", fontsize=14);"
      ],
      "metadata": {
        "colab": {
          "base_uri": "https://localhost:8080/",
          "height": 287
        },
        "id": "DDE-KAI-1J-m",
        "outputId": "2e72db97-c3df-4b19-8b05-08bcdd92b5ec"
      },
      "execution_count": 19,
      "outputs": [
        {
          "output_type": "display_data",
          "data": {
            "text/plain": [
              "<Figure size 432x288 with 1 Axes>"
            ],
            "image/png": "[encoded data removed]"
          },
          "metadata": {
            "needs_background": "light"
          }
        }
      ]
    },
    {
      "cell_type": "markdown",
      "source": [
        "##2do. Modelo (Regresión Polinomial)"
      ],
      "metadata": {
        "id": "B0oX3N1R1Sll"
      }
    },
    {
      "cell_type": "code",
      "source": [
        "df = df.sort_values(by =[\"Number of Units\"])\n",
        "X = df.iloc[:, 0].values.reshape(-1,1)\n",
        "y = df.iloc[:, 1].values.reshape(-1,1)\n",
        "X_train, X_test, y_train, y_test = train_test_split(X, y, test_size = 0.15, random_state = 101)"
      ],
      "metadata": {
        "id": "8LCEh91_1UVN"
      },
      "execution_count": 20,
      "outputs": []
    },
    {
      "cell_type": "code",
      "source": [
        "#Transformación de los datos por medio combinaciones polinomiales\n",
        "poly_features = PolynomialFeatures(degree=2, include_bias=False)\n",
        "X_train_poly = poly_features.fit_transform(X_train)"
      ],
      "metadata": {
        "id": "nfcKBgsa1aoG"
      },
      "execution_count": 22,
      "outputs": []
    },
    {
      "cell_type": "code",
      "source": [
        "#Entrenamiento del modelos lineal utilizando la transformación polinomial\n",
        "lrp_mdl = LinearRegression()\n",
        "lrp_mdl.fit(X_train_poly, y_train)\n",
        "lrp_mdl.coef_, lrp_mdl.intercept_"
      ],
      "metadata": {
        "colab": {
          "base_uri": "https://localhost:8080/"
        },
        "id": "tQ7X38zC1nZ6",
        "outputId": "40ff5a1e-74c9-4767-9656-8012badb006f"
      },
      "execution_count": 23,
      "outputs": [
        {
          "output_type": "execute_result",
          "data": {
            "text/plain": [
              "(array([[-16.27563255,   1.12121998]]), array([88.38865903]))"
            ]
          },
          "metadata": {},
          "execution_count": 23
        }
      ]
    },
    {
      "cell_type": "markdown",
      "source": [
        "###Modelo de estimación obtenido:\n",
        "\n",
        "$\\hat{y} = -16.27X + 1.12X^2 + 88.38$"
      ],
      "metadata": {
        "id": "TwL-2ALj1rGd"
      }
    },
    {
      "cell_type": "code",
      "source": [
        "#Predicciones del modelo utilizando caracteristicas polinomial\n",
        "X_test_poly = poly_features.transform(X_test)\n",
        "y_pred_poly = lrp_mdl.predict(X_test_poly)\n",
        "\n",
        "#Metrícas del modelo utilizando caracteristicas polinomiales\n",
        "print('Error medio Absoluto (MAE):', metrics.mean_absolute_error(y_test, y_pred_poly))\n",
        "resultados_MAE.append( metrics.mean_absolute_error(y_test, y_pred))\n",
        "print('Root Mean Squared Error:', np.sqrt(metrics.mean_squared_error(y_test, y_pred_poly)))\n",
        "print('r2_score',r2_score(y_test,  y_pred_poly))\n",
        "resultados_R2.append(r2_score(y_test, y_pred))"
      ],
      "metadata": {
        "colab": {
          "base_uri": "https://localhost:8080/"
        },
        "id": "oi8vlHVJ1sLN",
        "outputId": "2bfcd9a0-6567-423b-af27-87cdd6d92f01"
      },
      "execution_count": 25,
      "outputs": [
        {
          "output_type": "stream",
          "name": "stdout",
          "text": [
            "Error medio Absoluto (MAE): 4.459445302443204\n",
            "Root Mean Squared Error: 6.081945518433532\n",
            "r2_score 0.7299521995869951\n"
          ]
        }
      ]
    },
    {
      "cell_type": "code",
      "source": [
        "#Visualización de los datos \n",
        "plt.scatter(X_test, y_test)\n",
        "orders = np.argsort(X_test.ravel())\n",
        "plt.plot(X_test[orders], y_pred_poly[orders],\"r-\", linewidth=2, label=\"Predictions\")\n",
        "plt.xlabel(\"$x_1$\", fontsize=18)\n",
        "plt.ylabel(\"$y$\", rotation=0, fontsize=18)\n",
        "plt.legend(loc=\"upper right\", fontsize=14)\n",
        "#plt.axis([-3, 3, 0, 10]);"
      ],
      "metadata": {
        "colab": {
          "base_uri": "https://localhost:8080/",
          "height": 304
        },
        "id": "aTUEOrLo2BtF",
        "outputId": "d1f98f23-c2ef-4d5b-fa66-fd0d66d94c30"
      },
      "execution_count": 26,
      "outputs": [
        {
          "output_type": "execute_result",
          "data": {
            "text/plain": [
              "<matplotlib.legend.Legend at 0x7f25613e5b90>"
            ]
          },
          "metadata": {},
          "execution_count": 26
        },
        {
          "output_type": "display_data",
          "data": {
            "text/plain": [
              "<Figure size 432x288 with 1 Axes>"
            ],
            "image/png": "[encoded data removed]"
          },
          "metadata": {
            "needs_background": "light"
          }
        }
      ]
    },
    {
      "cell_type": "markdown",
      "source": [
        "##3er. Modelo (Ridge)"
      ],
      "metadata": {
        "id": "AgDv6Cmw2FXF"
      }
    },
    {
      "cell_type": "code",
      "source": [
        "rg_mdl = Ridge(alpha=10)          #Se Crea el Objeto del Modelo de Ridge\n",
        "\n",
        "rg_mdl.fit(X_train, y_train)      #Entrenamiento del modelo\n",
        "\n",
        "rg_mdl.coef_, rg_mdl.intercept_   #Coeficientes del modelo"
      ],
      "metadata": {
        "colab": {
          "base_uri": "https://localhost:8080/"
        },
        "id": "8NVPZ4cT2GSt",
        "outputId": "277fad2b-fb1e-4a26-df0e-fd0a654a1ffc"
      },
      "execution_count": 29,
      "outputs": [
        {
          "output_type": "execute_result",
          "data": {
            "text/plain": [
              "(array([[-5.87659697]]), array([66.27108884]))"
            ]
          },
          "metadata": {},
          "execution_count": 29
        }
      ]
    },
    {
      "cell_type": "markdown",
      "source": [
        "###Modelo de estimación obtenido:\n",
        "\n",
        "$\\hat{y} = -5.87X + 66.27$"
      ],
      "metadata": {
        "id": "z282RVAO4q5l"
      }
    },
    {
      "cell_type": "code",
      "source": [
        "#Predicciones del modelo\n",
        "y_pred = rg_mdl.predict(X_test)\n",
        "\n",
        "#Metrícas del modelo de Ridge\n",
        "print('Error medio Absoluto (MAE):', metrics.mean_absolute_error(y_test, y_pred))\n",
        "resultados_MAE.append( metrics.mean_absolute_error(y_test, y_pred))\n",
        "print('Root Mean Squared Error:', np.sqrt(metrics.mean_squared_error(y_test, y_pred)))\n",
        "print('r2_score',r2_score(y_test, y_pred))\n",
        "resultados_R2.append(r2_score(y_test, y_pred))\n"
      ],
      "metadata": {
        "colab": {
          "base_uri": "https://localhost:8080/"
        },
        "id": "xCkuGBWu4pyX",
        "outputId": "b7aa5b10-66ab-41a2-acc3-b68131ddd9b9"
      },
      "execution_count": 31,
      "outputs": [
        {
          "output_type": "stream",
          "name": "stdout",
          "text": [
            "Error medio Absoluto (MAE): 5.016051426768459\n",
            "Root Mean Squared Error: 7.249504969195872\n",
            "r2_score 0.6163172297628912\n"
          ]
        }
      ]
    },
    {
      "cell_type": "code",
      "source": [
        "plt.scatter(X_test, y_test)\n",
        "plt.plot(X_test, y_pred, \"r-\", linewidth=2, label=\"Predictions\")\n",
        "plt.xlabel(\"$X$\", fontsize=18)\n",
        "plt.ylabel(\"$y$\", rotation=0, fontsize=18)\n",
        "plt.legend(loc=\"upper left\", fontsize=14);"
      ],
      "metadata": {
        "colab": {
          "base_uri": "https://localhost:8080/",
          "height": 287
        },
        "id": "vhtu6S1D45FV",
        "outputId": "89548296-5f21-4e66-86fd-a5a4813a3f3f"
      },
      "execution_count": 32,
      "outputs": [
        {
          "output_type": "display_data",
          "data": {
            "text/plain": [
              "<Figure size 432x288 with 1 Axes>"
            ],
            "image/png": "[encoded data removed]"
          },
          "metadata": {
            "needs_background": "light"
          }
        }
      ]
    },
    {
      "cell_type": "markdown",
      "source": [
        "##4to. Modelo (Lasso)"
      ],
      "metadata": {
        "id": "y-rTU36V49kd"
      }
    },
    {
      "cell_type": "code",
      "source": [
        "#Se crea el objeto del Modelo de Lasso\n",
        "lso_mdl = Lasso(alpha=0.5)\n",
        "#Entrenamiento del modelo\n",
        "lso_mdl.fit(X_train, y_train)\n",
        "lso_mdl.coef_, lso_mdl.intercept_"
      ],
      "metadata": {
        "colab": {
          "base_uri": "https://localhost:8080/"
        },
        "id": "PCYgSSM54-bm",
        "outputId": "f15ae31b-a682-4bf3-d171-01ff2e132b7a"
      },
      "execution_count": 35,
      "outputs": [
        {
          "output_type": "execute_result",
          "data": {
            "text/plain": [
              "(array([-5.6308895]), array([65.1707664]))"
            ]
          },
          "metadata": {},
          "execution_count": 35
        }
      ]
    },
    {
      "cell_type": "markdown",
      "source": [
        "###Modelo de estimación obtenido:\n",
        "\n",
        "$\\hat{y} = -5.63X + 65.17$"
      ],
      "metadata": {
        "id": "2inw5JMn5Vst"
      }
    },
    {
      "cell_type": "code",
      "source": [
        "#Predicciones del modelo\n",
        "y_pred = lso_mdl.predict(X_test)\n",
        "\n",
        "print('Error medio Absoluto (MAE):', metrics.mean_absolute_error(y_test, y_pred))\n",
        "resultados_MAE.append( metrics.mean_absolute_error(y_test, y_pred))\n",
        "print('Root Mean Squared Error:', np.sqrt(metrics.mean_squared_error(y_test, y_pred)))\n",
        "print('r2_score',r2_score(y_test, y_pred))\n",
        "resultados_R2.append(r2_score(y_test, y_pred))"
      ],
      "metadata": {
        "colab": {
          "base_uri": "https://localhost:8080/"
        },
        "id": "ZfOzpL9A5Ws1",
        "outputId": "31038d96-31ae-4a73-db81-0f4867c5bcff"
      },
      "execution_count": 36,
      "outputs": [
        {
          "output_type": "stream",
          "name": "stdout",
          "text": [
            "Error medio Absoluto (MAE): 5.04382366553032\n",
            "Root Mean Squared Error: 7.307403071860209\n",
            "r2_score 0.6101641993198723\n"
          ]
        }
      ]
    },
    {
      "cell_type": "code",
      "source": [
        "plt.scatter(X_test, y_test)\n",
        "plt.plot(X_test, y_pred, \"r-\", linewidth=2, label=\"Predictions\")\n",
        "plt.xlabel(\"$X$\", fontsize=18)\n",
        "plt.ylabel(\"$y$\", rotation=0, fontsize=18)\n",
        "plt.legend(loc=\"upper left\", fontsize=14)"
      ],
      "metadata": {
        "colab": {
          "base_uri": "https://localhost:8080/",
          "height": 304
        },
        "id": "G7oPP9xK5h8N",
        "outputId": "322fbc10-5f48-45c5-d640-7d7772e517aa"
      },
      "execution_count": 37,
      "outputs": [
        {
          "output_type": "execute_result",
          "data": {
            "text/plain": [
              "<matplotlib.legend.Legend at 0x7f256127e810>"
            ]
          },
          "metadata": {},
          "execution_count": 37
        },
        {
          "output_type": "display_data",
          "data": {
            "text/plain": [
              "<Figure size 432x288 with 1 Axes>"
            ],
            "image/png": "[encoded data removed]"
          },
          "metadata": {
            "needs_background": "light"
          }
        }
      ]
    },
    {
      "cell_type": "code",
      "source": [
        "#Graficado de la metrica MAE de los cuatro modelos\n",
        "mdl_names = [\"RL\",\"Poly\",\"Lasso\",\"Ridge\"]\n",
        "\n",
        "fig = plt.figure()\n",
        "ax = fig.add_axes([0,0,1,1])\n",
        "ax.bar(mdl_names,resultados_MAE)\n",
        "plt.show()"
      ],
      "metadata": {
        "colab": {
          "base_uri": "https://localhost:8080/",
          "height": 336
        },
        "id": "mlerVcxy5yWN",
        "outputId": "9ec0ef44-17d3-4942-e955-838fe9400734"
      },
      "execution_count": 43,
      "outputs": [
        {
          "output_type": "display_data",
          "data": {
            "text/plain": [
              "<Figure size 432x288 with 1 Axes>"
            ],
            "image/png": "[encoded data removed]"
          },
          "metadata": {
            "needs_background": "light"
          }
        }
      ]
    },
    {
      "cell_type": "code",
      "source": [
        "#Graficado de la metrica R2 de los cuatro modelos\n",
        "mdl_names = [\"RL\",\"Poly\",\"Lasso\",\"Ridge\"]\n",
        "\n",
        "fig = plt.figure()\n",
        "ax = fig.add_axes([0,0,1,1])\n",
        "ax.bar(mdl_names,resultados_R2)\n",
        "plt.show()"
      ],
      "metadata": {
        "colab": {
          "base_uri": "https://localhost:8080/",
          "height": 336
        },
        "id": "z6RDWJ7U63EX",
        "outputId": "1d694f1d-226d-4cc8-9784-f7edd2123526"
      },
      "execution_count": 44,
      "outputs": [
        {
          "output_type": "display_data",
          "data": {
            "text/plain": [
              "<Figure size 432x288 with 1 Axes>"
            ],
            "image/png": "[encoded data removed]"
          },
          "metadata": {
            "needs_background": "light"
          }
        }
      ]
    },
    {
      "cell_type": "markdown",
      "source": [
        "##Explica tus resultados, que método conviene más a la empresa, ¿por que?, ¿que porcentajes de entrenamiento y evaluación usaste?, ¿que error tienes?, ¿es bueno?, ¿cómo lo sabes?\n",
        "\n",
        "El método que conviene más a la empresa es de Regresión Lineal utilizando características polinomiales, debido a que presenta el menor error absoluto promedio de los cuatro modelos, que es de 4.45. También es el modelo que presenta la mayor R2 de los cuatro modelos, esta se encuentra en 0.72. A diferencia de los otros modelos,  regresión lineal utilizando características polinomiales requiere de que la variable sea manipulada para obtener un conjunto de datos derivado, lo que le agrega cierta complejidad al modelo obtenido. Por otra parte los cuatro modelos entrenados presentan métricas similares como lo podemos apreciar en la gráfica de barras de la métrica MAE y R2. El porcentaje de entrenamiento utilizado fue de 85% de datos de entrenamiento y el 15% fue utilizado para prueba. El error obtenido para los diferentes modelos se encuentra entre el 5% aproximadamente. Lo cual es considerado bueno esto debido a que el error representa la magnitud entre la diferencia de la predicción y el valor de la observación, por lo que se espera que este sea el mínimo. Lo sabemos por qué lo estamos midiendo, graficando y observando en el comportamiento del modelo.\n",
        "\n"
      ],
      "metadata": {
        "id": "d-0Be9ls7ah1"
      }
    },
    {
      "cell_type": "markdown",
      "source": [
        "#**Ejercicio 2**\n",
        "Realiza la regresión polinomial de los siguientes datos:"
      ],
      "metadata": {
        "id": "EsUy6T5FBe2f"
      }
    },
    {
      "cell_type": "code",
      "source": [
        "df = pd.read_csv('https://raw.githubusercontent.com/marypazrf/bdd/main/kc_house_data.csv')\n",
        "df.sample(10)"
      ],
      "metadata": {
        "colab": {
          "base_uri": "https://localhost:8080/",
          "height": 392
        },
        "id": "1lbBfiWoBpru",
        "outputId": "c1fa2b79-563c-4925-d377-bed5b6b57533"
      },
      "execution_count": 100,
      "outputs": [
        {
          "output_type": "execute_result",
          "data": {
            "text/plain": [
              "               id             date     price  bedrooms  bathrooms  \\\n",
              "4115    514500090  20140513T000000  550000.0         4       2.00   \n",
              "13147  5592900230  20141224T000000  320000.0         3       1.00   \n",
              "10399  4415600030  20150316T000000  433000.0         3       2.75   \n",
              "16195  3580900290  20150128T000000  360000.0         4       2.00   \n",
              "8000   2895600090  20150407T000000  355200.0         3       1.00   \n",
              "7291   4058200630  20141002T000000  353000.0         3       1.75   \n",
              "4510   3013300017  20150408T000000  535000.0         3       1.00   \n",
              "2987    121059147  20141104T000000  392000.0         4       2.50   \n",
              "7830   2568300266  20140530T000000  659000.0         4       2.50   \n",
              "16101  3396800280  20150223T000000  637000.0         4       2.50   \n",
              "\n",
              "       sqft_living  sqft_lot  floors  waterfront  view  ...  grade  \\\n",
              "4115          2250      7500     1.0           0     0  ...      7   \n",
              "13147         1270      7400     1.0           0     2  ...      7   \n",
              "10399         2000      7200     1.0           0     0  ...      7   \n",
              "16195         1450      8940     1.0           0     0  ...      7   \n",
              "8000          1120      7320     1.0           0     0  ...      7   \n",
              "7291          2190      7021     1.0           0     2  ...      7   \n",
              "4510          1290      6859     1.0           0     0  ...      7   \n",
              "2987          2300     41167     2.0           0     0  ...      7   \n",
              "7830          3190     11375     1.0           0     0  ...      8   \n",
              "16101         2120     15000     2.0           0     0  ...      8   \n",
              "\n",
              "       sqft_above  sqft_basement  yr_built  yr_renovated  zipcode      lat  \\\n",
              "4115         1200           1050      1956             0    98005  47.5877   \n",
              "13147        1270              0      1956             0    98056  47.4831   \n",
              "10399        1000           1000      1954          2014    98166  47.4531   \n",
              "16195        1450              0      1962             0    98034  47.7304   \n",
              "8000         1120              0      1954             0    98146  47.5103   \n",
              "7291         1390            800      1953             0    98178  47.5033   \n",
              "4510         1290              0      1941             0    98136  47.5317   \n",
              "2987         2300              0      1988             0    98042  47.3412   \n",
              "7830         2210            980      1946             0    98125  47.7040   \n",
              "16101        2120              0      1983             0    98052  47.7159   \n",
              "\n",
              "          long  sqft_living15  sqft_lot15  \n",
              "4115  -122.157           1440        7500  \n",
              "13147 -122.191           1800        7400  \n",
              "10399 -122.352           1440        7200  \n",
              "16195 -122.240           1310        8914  \n",
              "8000  -122.382           1410        6328  \n",
              "7291  -122.232           2180        7155  \n",
              "4510  -122.387           1560        6369  \n",
              "2987  -122.108           2300       21765  \n",
              "7830  -122.300           1100        8500  \n",
              "16101 -122.100           2170       15000  \n",
              "\n",
              "[10 rows x 21 columns]"
            ],
            "text/html": [
              "\n",
              "  <div id=\"df-a1c84738-6904-4431-991e-ebb7d01f0f29\">\n",
              "    <div class=\"colab-df-container\">\n",
              "      <div>\n",
              "<style scoped>\n",
              "    .dataframe tbody tr th:only-of-type {\n",
              "        vertical-align: middle;\n",
              "    }\n",
              "\n",
              "    .dataframe tbody tr th {\n",
              "        vertical-align: top;\n",
              "    }\n",
              "\n",
              "    .dataframe thead th {\n",
              "        text-align: right;\n",
              "    }\n",
              "</style>\n",
              "<table border=\"1\" class=\"dataframe\">\n",
              "  <thead>\n",
              "    <tr style=\"text-align: right;\">\n",
              "      <th></th>\n",
              "      <th>id</th>\n",
              "      <th>date</th>\n",
              "      <th>price</th>\n",
              "      <th>bedrooms</th>\n",
              "      <th>bathrooms</th>\n",
              "      <th>sqft_living</th>\n",
              "      <th>sqft_lot</th>\n",
              "      <th>floors</th>\n",
              "      <th>waterfront</th>\n",
              "      <th>view</th>\n",
              "      <th>...</th>\n",
              "      <th>grade</th>\n",
              "      <th>sqft_above</th>\n",
              "      <th>sqft_basement</th>\n",
              "      <th>yr_built</th>\n",
              "      <th>yr_renovated</th>\n",
              "      <th>zipcode</th>\n",
              "      <th>lat</th>\n",
              "      <th>long</th>\n",
              "      <th>sqft_living15</th>\n",
              "      <th>sqft_lot15</th>\n",
              "    </tr>\n",
              "  </thead>\n",
              "  <tbody>\n",
              "    <tr>\n",
              "      <th>4115</th>\n",
              "      <td>514500090</td>\n",
              "      <td>20140513T000000</td>\n",
              "      <td>550000.0</td>\n",
              "      <td>4</td>\n",
              "      <td>2.00</td>\n",
              "      <td>2250</td>\n",
              "      <td>7500</td>\n",
              "      <td>1.0</td>\n",
              "      <td>0</td>\n",
              "      <td>0</td>\n",
              "      <td>...</td>\n",
              "      <td>7</td>\n",
              "      <td>1200</td>\n",
              "      <td>1050</td>\n",
              "      <td>1956</td>\n",
              "      <td>0</td>\n",
              "      <td>98005</td>\n",
              "      <td>47.5877</td>\n",
              "      <td>-122.157</td>\n",
              "      <td>1440</td>\n",
              "      <td>7500</td>\n",
              "    </tr>\n",
              "    <tr>\n",
              "      <th>13147</th>\n",
              "      <td>5592900230</td>\n",
              "      <td>20141224T000000</td>\n",
              "      <td>320000.0</td>\n",
              "      <td>3</td>\n",
              "      <td>1.00</td>\n",
              "      <td>1270</td>\n",
              "      <td>7400</td>\n",
              "      <td>1.0</td>\n",
              "      <td>0</td>\n",
              "      <td>2</td>\n",
              "      <td>...</td>\n",
              "      <td>7</td>\n",
              "      <td>1270</td>\n",
              "      <td>0</td>\n",
              "      <td>1956</td>\n",
              "      <td>0</td>\n",
              "      <td>98056</td>\n",
              "      <td>47.4831</td>\n",
              "      <td>-122.191</td>\n",
              "      <td>1800</td>\n",
              "      <td>7400</td>\n",
              "    </tr>\n",
              "    <tr>\n",
              "      <th>10399</th>\n",
              "      <td>4415600030</td>\n",
              "      <td>20150316T000000</td>\n",
              "      <td>433000.0</td>\n",
              "      <td>3</td>\n",
              "      <td>2.75</td>\n",
              "      <td>2000</td>\n",
              "      <td>7200</td>\n",
              "      <td>1.0</td>\n",
              "      <td>0</td>\n",
              "      <td>0</td>\n",
              "      <td>...</td>\n",
              "      <td>7</td>\n",
              "      <td>1000</td>\n",
              "      <td>1000</td>\n",
              "      <td>1954</td>\n",
              "      <td>2014</td>\n",
              "      <td>98166</td>\n",
              "      <td>47.4531</td>\n",
              "      <td>-122.352</td>\n",
              "      <td>1440</td>\n",
              "      <td>7200</td>\n",
              "    </tr>\n",
              "    <tr>\n",
              "      <th>16195</th>\n",
              "      <td>3580900290</td>\n",
              "      <td>20150128T000000</td>\n",
              "      <td>360000.0</td>\n",
              "      <td>4</td>\n",
              "      <td>2.00</td>\n",
              "      <td>1450</td>\n",
              "      <td>8940</td>\n",
              "      <td>1.0</td>\n",
              "      <td>0</td>\n",
              "      <td>0</td>\n",
              "      <td>...</td>\n",
              "      <td>7</td>\n",
              "      <td>1450</td>\n",
              "      <td>0</td>\n",
              "      <td>1962</td>\n",
              "      <td>0</td>\n",
              "      <td>98034</td>\n",
              "      <td>47.7304</td>\n",
              "      <td>-122.240</td>\n",
              "      <td>1310</td>\n",
              "      <td>8914</td>\n",
              "    </tr>\n",
              "    <tr>\n",
              "      <th>8000</th>\n",
              "      <td>2895600090</td>\n",
              "      <td>20150407T000000</td>\n",
              "      <td>355200.0</td>\n",
              "      <td>3</td>\n",
              "      <td>1.00</td>\n",
              "      <td>1120</td>\n",
              "      <td>7320</td>\n",
              "      <td>1.0</td>\n",
              "      <td>0</td>\n",
              "      <td>0</td>\n",
              "      <td>...</td>\n",
              "      <td>7</td>\n",
              "      <td>1120</td>\n",
              "      <td>0</td>\n",
              "      <td>1954</td>\n",
              "      <td>0</td>\n",
              "      <td>98146</td>\n",
              "      <td>47.5103</td>\n",
              "      <td>-122.382</td>\n",
              "      <td>1410</td>\n",
              "      <td>6328</td>\n",
              "    </tr>\n",
              "    <tr>\n",
              "      <th>7291</th>\n",
              "      <td>4058200630</td>\n",
              "      <td>20141002T000000</td>\n",
              "      <td>353000.0</td>\n",
              "      <td>3</td>\n",
              "      <td>1.75</td>\n",
              "      <td>2190</td>\n",
              "      <td>7021</td>\n",
              "      <td>1.0</td>\n",
              "      <td>0</td>\n",
              "      <td>2</td>\n",
              "      <td>...</td>\n",
              "      <td>7</td>\n",
              "      <td>1390</td>\n",
              "      <td>800</td>\n",
              "      <td>1953</td>\n",
              "      <td>0</td>\n",
              "      <td>98178</td>\n",
              "      <td>47.5033</td>\n",
              "      <td>-122.232</td>\n",
              "      <td>2180</td>\n",
              "      <td>7155</td>\n",
              "    </tr>\n",
              "    <tr>\n",
              "      <th>4510</th>\n",
              "      <td>3013300017</td>\n",
              "      <td>20150408T000000</td>\n",
              "      <td>535000.0</td>\n",
              "      <td>3</td>\n",
              "      <td>1.00</td>\n",
              "      <td>1290</td>\n",
              "      <td>6859</td>\n",
              "      <td>1.0</td>\n",
              "      <td>0</td>\n",
              "      <td>0</td>\n",
              "      <td>...</td>\n",
              "      <td>7</td>\n",
              "      <td>1290</td>\n",
              "      <td>0</td>\n",
              "      <td>1941</td>\n",
              "      <td>0</td>\n",
              "      <td>98136</td>\n",
              "      <td>47.5317</td>\n",
              "      <td>-122.387</td>\n",
              "      <td>1560</td>\n",
              "      <td>6369</td>\n",
              "    </tr>\n",
              "    <tr>\n",
              "      <th>2987</th>\n",
              "      <td>121059147</td>\n",
              "      <td>20141104T000000</td>\n",
              "      <td>392000.0</td>\n",
              "      <td>4</td>\n",
              "      <td>2.50</td>\n",
              "      <td>2300</td>\n",
              "      <td>41167</td>\n",
              "      <td>2.0</td>\n",
              "      <td>0</td>\n",
              "      <td>0</td>\n",
              "      <td>...</td>\n",
              "      <td>7</td>\n",
              "      <td>2300</td>\n",
              "      <td>0</td>\n",
              "      <td>1988</td>\n",
              "      <td>0</td>\n",
              "      <td>98042</td>\n",
              "      <td>47.3412</td>\n",
              "      <td>-122.108</td>\n",
              "      <td>2300</td>\n",
              "      <td>21765</td>\n",
              "    </tr>\n",
              "    <tr>\n",
              "      <th>7830</th>\n",
              "      <td>2568300266</td>\n",
              "      <td>20140530T000000</td>\n",
              "      <td>659000.0</td>\n",
              "      <td>4</td>\n",
              "      <td>2.50</td>\n",
              "      <td>3190</td>\n",
              "      <td>11375</td>\n",
              "      <td>1.0</td>\n",
              "      <td>0</td>\n",
              "      <td>0</td>\n",
              "      <td>...</td>\n",
              "      <td>8</td>\n",
              "      <td>2210</td>\n",
              "      <td>980</td>\n",
              "      <td>1946</td>\n",
              "      <td>0</td>\n",
              "      <td>98125</td>\n",
              "      <td>47.7040</td>\n",
              "      <td>-122.300</td>\n",
              "      <td>1100</td>\n",
              "      <td>8500</td>\n",
              "    </tr>\n",
              "    <tr>\n",
              "      <th>16101</th>\n",
              "      <td>3396800280</td>\n",
              "      <td>20150223T000000</td>\n",
              "      <td>637000.0</td>\n",
              "      <td>4</td>\n",
              "      <td>2.50</td>\n",
              "      <td>2120</td>\n",
              "      <td>15000</td>\n",
              "      <td>2.0</td>\n",
              "      <td>0</td>\n",
              "      <td>0</td>\n",
              "      <td>...</td>\n",
              "      <td>8</td>\n",
              "      <td>2120</td>\n",
              "      <td>0</td>\n",
              "      <td>1983</td>\n",
              "      <td>0</td>\n",
              "      <td>98052</td>\n",
              "      <td>47.7159</td>\n",
              "      <td>-122.100</td>\n",
              "      <td>2170</td>\n",
              "      <td>15000</td>\n",
              "    </tr>\n",
              "  </tbody>\n",
              "</table>\n",
              "<p>10 rows × 21 columns</p>\n",
              "</div>\n",
              "      <button class=\"colab-df-convert\" onclick=\"convertToInteractive('df-a1c84738-6904-4431-991e-ebb7d01f0f29')\"\n",
              "              title=\"Convert this dataframe to an interactive table.\"\n",
              "              style=\"display:none;\">\n",
              "        \n",
              "  <svg xmlns=\"http://www.w3.org/2000/svg\" height=\"24px\"viewBox=\"0 0 24 24\"\n",
              "       width=\"24px\">\n",
              "    <path d=\"M0 0h24v24H0V0z\" fill=\"none\"/>\n",
              "    <path d=\"M18.56 5.44l.94 2.06.94-2.06 2.06-.94-2.06-.94-.94-2.06-.94 2.06-2.06.94zm-11 1L8.5 8.5l.94-2.06 2.06-.94-2.06-.94L8.5 2.5l-.94 2.06-2.06.94zm10 10l.94 2.06.94-2.06 2.06-.94-2.06-.94-.94-2.06-.94 2.06-2.06.94z\"/><path d=\"M17.41 7.96l-1.37-1.37c-.4-.4-.92-.59-1.43-.59-.52 0-1.04.2-1.43.59L10.3 9.45l-7.72 7.72c-.78.78-.78 2.05 0 2.83L4 21.41c.39.39.9.59 1.41.59.51 0 1.02-.2 1.41-.59l7.78-7.78 2.81-2.81c.8-.78.8-2.07 0-2.86zM5.41 20L4 18.59l7.72-7.72 1.47 1.35L5.41 20z\"/>\n",
              "  </svg>\n",
              "      </button>\n",
              "      \n",
              "  <style>\n",
              "    .colab-df-container {\n",
              "      display:flex;\n",
              "      flex-wrap:wrap;\n",
              "      gap: 12px;\n",
              "    }\n",
              "\n",
              "    .colab-df-convert {\n",
              "      background-color: #E8F0FE;\n",
              "      border: none;\n",
              "      border-radius: 50%;\n",
              "      cursor: pointer;\n",
              "      display: none;\n",
              "      fill: #1967D2;\n",
              "      height: 32px;\n",
              "      padding: 0 0 0 0;\n",
              "      width: 32px;\n",
              "    }\n",
              "\n",
              "    .colab-df-convert:hover {\n",
              "      background-color: #E2EBFA;\n",
              "      box-shadow: 0px 1px 2px rgba(60, 64, 67, 0.3), 0px 1px 3px 1px rgba(60, 64, 67, 0.15);\n",
              "      fill: #174EA6;\n",
              "    }\n",
              "\n",
              "    [theme=dark] .colab-df-convert {\n",
              "      background-color: #3B4455;\n",
              "      fill: #D2E3FC;\n",
              "    }\n",
              "\n",
              "    [theme=dark] .colab-df-convert:hover {\n",
              "      background-color: #434B5C;\n",
              "      box-shadow: 0px 1px 3px 1px rgba(0, 0, 0, 0.15);\n",
              "      filter: drop-shadow(0px 1px 2px rgba(0, 0, 0, 0.3));\n",
              "      fill: #FFFFFF;\n",
              "    }\n",
              "  </style>\n",
              "\n",
              "      <script>\n",
              "        const buttonEl =\n",
              "          document.querySelector('#df-a1c84738-6904-4431-991e-ebb7d01f0f29 button.colab-df-convert');\n",
              "        buttonEl.style.display =\n",
              "          google.colab.kernel.accessAllowed ? 'block' : 'none';\n",
              "\n",
              "        async function convertToInteractive(key) {\n",
              "          const element = document.querySelector('#df-a1c84738-6904-4431-991e-ebb7d01f0f29');\n",
              "          const dataTable =\n",
              "            await google.colab.kernel.invokeFunction('convertToInteractive',\n",
              "                                                     [key], {});\n",
              "          if (!dataTable) return;\n",
              "\n",
              "          const docLinkHtml = 'Like what you see? Visit the ' +\n",
              "            '<a target=\"_blank\" href=https://colab.research.google.com/notebooks/data_table.ipynb>data table notebook</a>'\n",
              "            + ' to learn more about interactive tables.';\n",
              "          element.innerHTML = '';\n",
              "          dataTable['output_type'] = 'display_data';\n",
              "          await google.colab.output.renderOutput(dataTable, element);\n",
              "          const docLink = document.createElement('div');\n",
              "          docLink.innerHTML = docLinkHtml;\n",
              "          element.appendChild(docLink);\n",
              "        }\n",
              "      </script>\n",
              "    </div>\n",
              "  </div>\n",
              "  "
            ]
          },
          "metadata": {},
          "execution_count": 100
        }
      ]
    },
    {
      "cell_type": "code",
      "source": [
        "df.info()"
      ],
      "metadata": {
        "colab": {
          "base_uri": "https://localhost:8080/"
        },
        "id": "wvc2wHSDBxLf",
        "outputId": "064e19a3-5dfc-4bd6-f1a1-fa170a7f6470"
      },
      "execution_count": 101,
      "outputs": [
        {
          "output_type": "stream",
          "name": "stdout",
          "text": [
            "<class 'pandas.core.frame.DataFrame'>\n",
            "RangeIndex: 21613 entries, 0 to 21612\n",
            "Data columns (total 21 columns):\n",
            " #   Column         Non-Null Count  Dtype  \n",
            "---  ------         --------------  -----  \n",
            " 0   id             21613 non-null  int64  \n",
            " 1   date           21613 non-null  object \n",
            " 2   price          21613 non-null  float64\n",
            " 3   bedrooms       21613 non-null  int64  \n",
            " 4   bathrooms      21613 non-null  float64\n",
            " 5   sqft_living    21613 non-null  int64  \n",
            " 6   sqft_lot       21613 non-null  int64  \n",
            " 7   floors         21613 non-null  float64\n",
            " 8   waterfront     21613 non-null  int64  \n",
            " 9   view           21613 non-null  int64  \n",
            " 10  condition      21613 non-null  int64  \n",
            " 11  grade          21613 non-null  int64  \n",
            " 12  sqft_above     21613 non-null  int64  \n",
            " 13  sqft_basement  21613 non-null  int64  \n",
            " 14  yr_built       21613 non-null  int64  \n",
            " 15  yr_renovated   21613 non-null  int64  \n",
            " 16  zipcode        21613 non-null  int64  \n",
            " 17  lat            21613 non-null  float64\n",
            " 18  long           21613 non-null  float64\n",
            " 19  sqft_living15  21613 non-null  int64  \n",
            " 20  sqft_lot15     21613 non-null  int64  \n",
            "dtypes: float64(5), int64(15), object(1)\n",
            "memory usage: 3.5+ MB\n"
          ]
        }
      ]
    },
    {
      "cell_type": "code",
      "source": [
        "df.describe()"
      ],
      "metadata": {
        "colab": {
          "base_uri": "https://localhost:8080/",
          "height": 364
        },
        "id": "Hi89mwMYBx5m",
        "outputId": "39694895-66cd-4337-9e96-ecbbc906fd84"
      },
      "execution_count": 102,
      "outputs": [
        {
          "output_type": "execute_result",
          "data": {
            "text/plain": [
              "                 id         price      bedrooms     bathrooms   sqft_living  \\\n",
              "count  2.161300e+04  2.161300e+04  21613.000000  21613.000000  21613.000000   \n",
              "mean   4.580302e+09  5.400881e+05      3.370842      2.114757   2079.899736   \n",
              "std    2.876566e+09  3.671272e+05      0.930062      0.770163    918.440897   \n",
              "min    1.000102e+06  7.500000e+04      0.000000      0.000000    290.000000   \n",
              "25%    2.123049e+09  3.219500e+05      3.000000      1.750000   1427.000000   \n",
              "50%    3.904930e+09  4.500000e+05      3.000000      2.250000   1910.000000   \n",
              "75%    7.308900e+09  6.450000e+05      4.000000      2.500000   2550.000000   \n",
              "max    9.900000e+09  7.700000e+06     33.000000      8.000000  13540.000000   \n",
              "\n",
              "           sqft_lot        floors    waterfront          view     condition  \\\n",
              "count  2.161300e+04  21613.000000  21613.000000  21613.000000  21613.000000   \n",
              "mean   1.510697e+04      1.494309      0.007542      0.234303      3.409430   \n",
              "std    4.142051e+04      0.539989      0.086517      0.766318      0.650743   \n",
              "min    5.200000e+02      1.000000      0.000000      0.000000      1.000000   \n",
              "25%    5.040000e+03      1.000000      0.000000      0.000000      3.000000   \n",
              "50%    7.618000e+03      1.500000      0.000000      0.000000      3.000000   \n",
              "75%    1.068800e+04      2.000000      0.000000      0.000000      4.000000   \n",
              "max    1.651359e+06      3.500000      1.000000      4.000000      5.000000   \n",
              "\n",
              "              grade    sqft_above  sqft_basement      yr_built  yr_renovated  \\\n",
              "count  21613.000000  21613.000000   21613.000000  21613.000000  21613.000000   \n",
              "mean       7.656873   1788.390691     291.509045   1971.005136     84.402258   \n",
              "std        1.175459    828.090978     442.575043     29.373411    401.679240   \n",
              "min        1.000000    290.000000       0.000000   1900.000000      0.000000   \n",
              "25%        7.000000   1190.000000       0.000000   1951.000000      0.000000   \n",
              "50%        7.000000   1560.000000       0.000000   1975.000000      0.000000   \n",
              "75%        8.000000   2210.000000     560.000000   1997.000000      0.000000   \n",
              "max       13.000000   9410.000000    4820.000000   2015.000000   2015.000000   \n",
              "\n",
              "            zipcode           lat          long  sqft_living15     sqft_lot15  \n",
              "count  21613.000000  21613.000000  21613.000000   21613.000000   21613.000000  \n",
              "mean   98077.939805     47.560053   -122.213896    1986.552492   12768.455652  \n",
              "std       53.505026      0.138564      0.140828     685.391304   27304.179631  \n",
              "min    98001.000000     47.155900   -122.519000     399.000000     651.000000  \n",
              "25%    98033.000000     47.471000   -122.328000    1490.000000    5100.000000  \n",
              "50%    98065.000000     47.571800   -122.230000    1840.000000    7620.000000  \n",
              "75%    98118.000000     47.678000   -122.125000    2360.000000   10083.000000  \n",
              "max    98199.000000     47.777600   -121.315000    6210.000000  871200.000000  "
            ],
            "text/html": [
              "\n",
              "  <div id=\"df-6efb96ab-61bf-4600-93bf-c593f976bd7c\">\n",
              "    <div class=\"colab-df-container\">\n",
              "      <div>\n",
              "<style scoped>\n",
              "    .dataframe tbody tr th:only-of-type {\n",
              "        vertical-align: middle;\n",
              "    }\n",
              "\n",
              "    .dataframe tbody tr th {\n",
              "        vertical-align: top;\n",
              "    }\n",
              "\n",
              "    .dataframe thead th {\n",
              "        text-align: right;\n",
              "    }\n",
              "</style>\n",
              "<table border=\"1\" class=\"dataframe\">\n",
              "  <thead>\n",
              "    <tr style=\"text-align: right;\">\n",
              "      <th></th>\n",
              "      <th>id</th>\n",
              "      <th>price</th>\n",
              "      <th>bedrooms</th>\n",
              "      <th>bathrooms</th>\n",
              "      <th>sqft_living</th>\n",
              "      <th>sqft_lot</th>\n",
              "      <th>floors</th>\n",
              "      <th>waterfront</th>\n",
              "      <th>view</th>\n",
              "      <th>condition</th>\n",
              "      <th>grade</th>\n",
              "      <th>sqft_above</th>\n",
              "      <th>sqft_basement</th>\n",
              "      <th>yr_built</th>\n",
              "      <th>yr_renovated</th>\n",
              "      <th>zipcode</th>\n",
              "      <th>lat</th>\n",
              "      <th>long</th>\n",
              "      <th>sqft_living15</th>\n",
              "      <th>sqft_lot15</th>\n",
              "    </tr>\n",
              "  </thead>\n",
              "  <tbody>\n",
              "    <tr>\n",
              "      <th>count</th>\n",
              "      <td>2.161300e+04</td>\n",
              "      <td>2.161300e+04</td>\n",
              "      <td>21613.000000</td>\n",
              "      <td>21613.000000</td>\n",
              "      <td>21613.000000</td>\n",
              "      <td>2.161300e+04</td>\n",
              "      <td>21613.000000</td>\n",
              "      <td>21613.000000</td>\n",
              "      <td>21613.000000</td>\n",
              "      <td>21613.000000</td>\n",
              "      <td>21613.000000</td>\n",
              "      <td>21613.000000</td>\n",
              "      <td>21613.000000</td>\n",
              "      <td>21613.000000</td>\n",
              "      <td>21613.000000</td>\n",
              "      <td>21613.000000</td>\n",
              "      <td>21613.000000</td>\n",
              "      <td>21613.000000</td>\n",
              "      <td>21613.000000</td>\n",
              "      <td>21613.000000</td>\n",
              "    </tr>\n",
              "    <tr>\n",
              "      <th>mean</th>\n",
              "      <td>4.580302e+09</td>\n",
              "      <td>5.400881e+05</td>\n",
              "      <td>3.370842</td>\n",
              "      <td>2.114757</td>\n",
              "      <td>2079.899736</td>\n",
              "      <td>1.510697e+04</td>\n",
              "      <td>1.494309</td>\n",
              "      <td>0.007542</td>\n",
              "      <td>0.234303</td>\n",
              "      <td>3.409430</td>\n",
              "      <td>7.656873</td>\n",
              "      <td>1788.390691</td>\n",
              "      <td>291.509045</td>\n",
              "      <td>1971.005136</td>\n",
              "      <td>84.402258</td>\n",
              "      <td>98077.939805</td>\n",
              "      <td>47.560053</td>\n",
              "      <td>-122.213896</td>\n",
              "      <td>1986.552492</td>\n",
              "      <td>12768.455652</td>\n",
              "    </tr>\n",
              "    <tr>\n",
              "      <th>std</th>\n",
              "      <td>2.876566e+09</td>\n",
              "      <td>3.671272e+05</td>\n",
              "      <td>0.930062</td>\n",
              "      <td>0.770163</td>\n",
              "      <td>918.440897</td>\n",
              "      <td>4.142051e+04</td>\n",
              "      <td>0.539989</td>\n",
              "      <td>0.086517</td>\n",
              "      <td>0.766318</td>\n",
              "      <td>0.650743</td>\n",
              "      <td>1.175459</td>\n",
              "      <td>828.090978</td>\n",
              "      <td>442.575043</td>\n",
              "      <td>29.373411</td>\n",
              "      <td>401.679240</td>\n",
              "      <td>53.505026</td>\n",
              "      <td>0.138564</td>\n",
              "      <td>0.140828</td>\n",
              "      <td>685.391304</td>\n",
              "      <td>27304.179631</td>\n",
              "    </tr>\n",
              "    <tr>\n",
              "      <th>min</th>\n",
              "      <td>1.000102e+06</td>\n",
              "      <td>7.500000e+04</td>\n",
              "      <td>0.000000</td>\n",
              "      <td>0.000000</td>\n",
              "      <td>290.000000</td>\n",
              "      <td>5.200000e+02</td>\n",
              "      <td>1.000000</td>\n",
              "      <td>0.000000</td>\n",
              "      <td>0.000000</td>\n",
              "      <td>1.000000</td>\n",
              "      <td>1.000000</td>\n",
              "      <td>290.000000</td>\n",
              "      <td>0.000000</td>\n",
              "      <td>1900.000000</td>\n",
              "      <td>0.000000</td>\n",
              "      <td>98001.000000</td>\n",
              "      <td>47.155900</td>\n",
              "      <td>-122.519000</td>\n",
              "      <td>399.000000</td>\n",
              "      <td>651.000000</td>\n",
              "    </tr>\n",
              "    <tr>\n",
              "      <th>25%</th>\n",
              "      <td>2.123049e+09</td>\n",
              "      <td>3.219500e+05</td>\n",
              "      <td>3.000000</td>\n",
              "      <td>1.750000</td>\n",
              "      <td>1427.000000</td>\n",
              "      <td>5.040000e+03</td>\n",
              "      <td>1.000000</td>\n",
              "      <td>0.000000</td>\n",
              "      <td>0.000000</td>\n",
              "      <td>3.000000</td>\n",
              "      <td>7.000000</td>\n",
              "      <td>1190.000000</td>\n",
              "      <td>0.000000</td>\n",
              "      <td>1951.000000</td>\n",
              "      <td>0.000000</td>\n",
              "      <td>98033.000000</td>\n",
              "      <td>47.471000</td>\n",
              "      <td>-122.328000</td>\n",
              "      <td>1490.000000</td>\n",
              "      <td>5100.000000</td>\n",
              "    </tr>\n",
              "    <tr>\n",
              "      <th>50%</th>\n",
              "      <td>3.904930e+09</td>\n",
              "      <td>4.500000e+05</td>\n",
              "      <td>3.000000</td>\n",
              "      <td>2.250000</td>\n",
              "      <td>1910.000000</td>\n",
              "      <td>7.618000e+03</td>\n",
              "      <td>1.500000</td>\n",
              "      <td>0.000000</td>\n",
              "      <td>0.000000</td>\n",
              "      <td>3.000000</td>\n",
              "      <td>7.000000</td>\n",
              "      <td>1560.000000</td>\n",
              "      <td>0.000000</td>\n",
              "      <td>1975.000000</td>\n",
              "      <td>0.000000</td>\n",
              "      <td>98065.000000</td>\n",
              "      <td>47.571800</td>\n",
              "      <td>-122.230000</td>\n",
              "      <td>1840.000000</td>\n",
              "      <td>7620.000000</td>\n",
              "    </tr>\n",
              "    <tr>\n",
              "      <th>75%</th>\n",
              "      <td>7.308900e+09</td>\n",
              "      <td>6.450000e+05</td>\n",
              "      <td>4.000000</td>\n",
              "      <td>2.500000</td>\n",
              "      <td>2550.000000</td>\n",
              "      <td>1.068800e+04</td>\n",
              "      <td>2.000000</td>\n",
              "      <td>0.000000</td>\n",
              "      <td>0.000000</td>\n",
              "      <td>4.000000</td>\n",
              "      <td>8.000000</td>\n",
              "      <td>2210.000000</td>\n",
              "      <td>560.000000</td>\n",
              "      <td>1997.000000</td>\n",
              "      <td>0.000000</td>\n",
              "      <td>98118.000000</td>\n",
              "      <td>47.678000</td>\n",
              "      <td>-122.125000</td>\n",
              "      <td>2360.000000</td>\n",
              "      <td>10083.000000</td>\n",
              "    </tr>\n",
              "    <tr>\n",
              "      <th>max</th>\n",
              "      <td>9.900000e+09</td>\n",
              "      <td>7.700000e+06</td>\n",
              "      <td>33.000000</td>\n",
              "      <td>8.000000</td>\n",
              "      <td>13540.000000</td>\n",
              "      <td>1.651359e+06</td>\n",
              "      <td>3.500000</td>\n",
              "      <td>1.000000</td>\n",
              "      <td>4.000000</td>\n",
              "      <td>5.000000</td>\n",
              "      <td>13.000000</td>\n",
              "      <td>9410.000000</td>\n",
              "      <td>4820.000000</td>\n",
              "      <td>2015.000000</td>\n",
              "      <td>2015.000000</td>\n",
              "      <td>98199.000000</td>\n",
              "      <td>47.777600</td>\n",
              "      <td>-121.315000</td>\n",
              "      <td>6210.000000</td>\n",
              "      <td>871200.000000</td>\n",
              "    </tr>\n",
              "  </tbody>\n",
              "</table>\n",
              "</div>\n",
              "      <button class=\"colab-df-convert\" onclick=\"convertToInteractive('df-6efb96ab-61bf-4600-93bf-c593f976bd7c')\"\n",
              "              title=\"Convert this dataframe to an interactive table.\"\n",
              "              style=\"display:none;\">\n",
              "        \n",
              "  <svg xmlns=\"http://www.w3.org/2000/svg\" height=\"24px\"viewBox=\"0 0 24 24\"\n",
              "       width=\"24px\">\n",
              "    <path d=\"M0 0h24v24H0V0z\" fill=\"none\"/>\n",
              "    <path d=\"M18.56 5.44l.94 2.06.94-2.06 2.06-.94-2.06-.94-.94-2.06-.94 2.06-2.06.94zm-11 1L8.5 8.5l.94-2.06 2.06-.94-2.06-.94L8.5 2.5l-.94 2.06-2.06.94zm10 10l.94 2.06.94-2.06 2.06-.94-2.06-.94-.94-2.06-.94 2.06-2.06.94z\"/><path d=\"M17.41 7.96l-1.37-1.37c-.4-.4-.92-.59-1.43-.59-.52 0-1.04.2-1.43.59L10.3 9.45l-7.72 7.72c-.78.78-.78 2.05 0 2.83L4 21.41c.39.39.9.59 1.41.59.51 0 1.02-.2 1.41-.59l7.78-7.78 2.81-2.81c.8-.78.8-2.07 0-2.86zM5.41 20L4 18.59l7.72-7.72 1.47 1.35L5.41 20z\"/>\n",
              "  </svg>\n",
              "      </button>\n",
              "      \n",
              "  <style>\n",
              "    .colab-df-container {\n",
              "      display:flex;\n",
              "      flex-wrap:wrap;\n",
              "      gap: 12px;\n",
              "    }\n",
              "\n",
              "    .colab-df-convert {\n",
              "      background-color: #E8F0FE;\n",
              "      border: none;\n",
              "      border-radius: 50%;\n",
              "      cursor: pointer;\n",
              "      display: none;\n",
              "      fill: #1967D2;\n",
              "      height: 32px;\n",
              "      padding: 0 0 0 0;\n",
              "      width: 32px;\n",
              "    }\n",
              "\n",
              "    .colab-df-convert:hover {\n",
              "      background-color: #E2EBFA;\n",
              "      box-shadow: 0px 1px 2px rgba(60, 64, 67, 0.3), 0px 1px 3px 1px rgba(60, 64, 67, 0.15);\n",
              "      fill: #174EA6;\n",
              "    }\n",
              "\n",
              "    [theme=dark] .colab-df-convert {\n",
              "      background-color: #3B4455;\n",
              "      fill: #D2E3FC;\n",
              "    }\n",
              "\n",
              "    [theme=dark] .colab-df-convert:hover {\n",
              "      background-color: #434B5C;\n",
              "      box-shadow: 0px 1px 3px 1px rgba(0, 0, 0, 0.15);\n",
              "      filter: drop-shadow(0px 1px 2px rgba(0, 0, 0, 0.3));\n",
              "      fill: #FFFFFF;\n",
              "    }\n",
              "  </style>\n",
              "\n",
              "      <script>\n",
              "        const buttonEl =\n",
              "          document.querySelector('#df-6efb96ab-61bf-4600-93bf-c593f976bd7c button.colab-df-convert');\n",
              "        buttonEl.style.display =\n",
              "          google.colab.kernel.accessAllowed ? 'block' : 'none';\n",
              "\n",
              "        async function convertToInteractive(key) {\n",
              "          const element = document.querySelector('#df-6efb96ab-61bf-4600-93bf-c593f976bd7c');\n",
              "          const dataTable =\n",
              "            await google.colab.kernel.invokeFunction('convertToInteractive',\n",
              "                                                     [key], {});\n",
              "          if (!dataTable) return;\n",
              "\n",
              "          const docLinkHtml = 'Like what you see? Visit the ' +\n",
              "            '<a target=\"_blank\" href=https://colab.research.google.com/notebooks/data_table.ipynb>data table notebook</a>'\n",
              "            + ' to learn more about interactive tables.';\n",
              "          element.innerHTML = '';\n",
              "          dataTable['output_type'] = 'display_data';\n",
              "          await google.colab.output.renderOutput(dataTable, element);\n",
              "          const docLink = document.createElement('div');\n",
              "          docLink.innerHTML = docLinkHtml;\n",
              "          element.appendChild(docLink);\n",
              "        }\n",
              "      </script>\n",
              "    </div>\n",
              "  </div>\n",
              "  "
            ]
          },
          "metadata": {},
          "execution_count": 102
        }
      ]
    },
    {
      "cell_type": "code",
      "source": [
        "df.drop('id', axis = 1, inplace = True)\n",
        "df.drop('date', axis = 1, inplace = True)\n",
        "df.drop('zipcode', axis = 1, inplace = True)\n",
        "df.drop('lat', axis = 1, inplace = True)\n",
        "df.drop('long', axis = 1, inplace = True)"
      ],
      "metadata": {
        "id": "4OVw2Z_zB1m1"
      },
      "execution_count": 103,
      "outputs": []
    },
    {
      "cell_type": "code",
      "source": [
        "plt.figure(figsize=(12,8)) \n",
        "sns.heatmap(df.corr(), annot=True, cmap='Dark2_r', linewidths = 2)\n",
        "plt.show()"
      ],
      "metadata": {
        "colab": {
          "base_uri": "https://localhost:8080/",
          "height": 551
        },
        "id": "45JqvAJZB3-e",
        "outputId": "11f6b505-6ac0-4dce-a4d8-15d18f9cc019"
      },
      "execution_count": 104,
      "outputs": [
        {
          "output_type": "display_data",
          "data": {
            "text/plain": [
              "<Figure size 864x576 with 2 Axes>"
            ],
            "image/png": "[encoded data removed]"
          },
          "metadata": {
            "needs_background": "light"
          }
        }
      ]
    },
    {
      "cell_type": "code",
      "source": [
        "columns = df.columns.drop('price')\n",
        "\n",
        "features = columns\n",
        "label = ['price']\n",
        "\n",
        "X = df[features]\n",
        "y = df[label]"
      ],
      "metadata": {
        "id": "R4F2Dbt4B-p2"
      },
      "execution_count": 105,
      "outputs": []
    },
    {
      "cell_type": "code",
      "source": [
        "from sklearn.model_selection import train_test_split\n",
        "X_train, X_test, y_train, y_test = train_test_split(X, y, test_size = 0.1, random_state = 101)\n",
        "\n",
        "print(f'Numero total de registros en la bdd: {len(X)}')\n",
        "print(\"*****\"*10)\n",
        "print(f'Numero total de registros en el training set: {len(X_train)}')\n",
        "print(f'Tamaño de X_train: {X_train.shape}')\n",
        "print(\"*****\"*10)\n",
        "print(f'Mumero total de registros en el test dataset: {len(X_test)}')\n",
        "print(f'Tamaño del X_test: {X_test.shape}')"
      ],
      "metadata": {
        "colab": {
          "base_uri": "https://localhost:8080/"
        },
        "id": "GYjpumVBCCZe",
        "outputId": "db69323f-963b-4f22-dbcb-eaa7eafd7c4a"
      },
      "execution_count": 106,
      "outputs": [
        {
          "output_type": "stream",
          "name": "stdout",
          "text": [
            "Numero total de registros en la bdd: 21613\n",
            "**************************************************\n",
            "Numero total de registros en el training set: 19451\n",
            "Tamaño de X_train: (19451, 15)\n",
            "**************************************************\n",
            "Mumero total de registros en el test dataset: 2162\n",
            "Tamaño del X_test: (2162, 15)\n"
          ]
        }
      ]
    },
    {
      "cell_type": "code",
      "source": [
        "#Listado de Resultados\n",
        "resultados_MAE_Multiple = list()\n",
        "resultados_R2_Multiple = list()"
      ],
      "metadata": {
        "id": "KdCBM2p3Mwwm"
      },
      "execution_count": 107,
      "outputs": []
    },
    {
      "cell_type": "markdown",
      "source": [
        "##1er. Modelo (Regresión Lineal: Múltiple)"
      ],
      "metadata": {
        "id": "-V5I98xnCGxu"
      }
    },
    {
      "cell_type": "code",
      "source": [
        "lr_mult_mdl = LinearRegression()\n",
        "#Entrenamiento del modelo\n",
        "lr_mdl.fit(X_train, y_train)\n",
        "\n",
        "lr_mdl.coef_, lr_mdl.intercept_"
      ],
      "metadata": {
        "colab": {
          "base_uri": "https://localhost:8080/"
        },
        "id": "oEpUbnuJCJo-",
        "outputId": "738e2ed7-89b0-43da-aa39-90ba27280d0f"
      },
      "execution_count": 108,
      "outputs": [
        {
          "output_type": "execute_result",
          "data": {
            "text/plain": [
              "(array([[-3.82008048e+04,  4.14661380e+04,  1.07992584e+02,\n",
              "          1.71356997e-02,  3.16916913e+04,  5.52691023e+05,\n",
              "          4.12493228e+04,  2.12221443e+04,  1.19493216e+05,\n",
              "          4.77750271e+01,  6.02175565e+01, -3.55090216e+03,\n",
              "          1.32602215e+01,  2.90059284e+01, -5.48132603e-01]]),\n",
              " array([6151359.2627409]))"
            ]
          },
          "metadata": {},
          "execution_count": 108
        }
      ]
    },
    {
      "cell_type": "markdown",
      "source": [
        "###Modelo de estimación obtenido:\n",
        "\n",
        "$\\hat{y} = -38200.804804X + 41466.1X_2+ 107.99X_3 +...-0.548X_{15} + 6151359.26$"
      ],
      "metadata": {
        "id": "mTj2pjD6CYqF"
      }
    },
    {
      "cell_type": "code",
      "source": [
        "#Predicciones del modelo\n",
        "y_pred = lr_mdl.predict(X_test)"
      ],
      "metadata": {
        "id": "LuVxODUkCY9F"
      },
      "execution_count": 109,
      "outputs": []
    },
    {
      "cell_type": "code",
      "source": [
        "#Metrícas del modelo de Regresión Lineal\n",
        "print('Error medio Absoluto (MAE):', metrics.mean_absolute_error(y_test, y_pred))\n",
        "resultados_MAE_Multiple.append( metrics.mean_absolute_error(y_test, y_pred))\n",
        "print('Root Mean Squared Error:', np.sqrt(metrics.mean_squared_error(y_test, y_pred)))\n",
        "print('r2_score',r2_score(y_test, y_pred))\n",
        "resultados_R2_Multiple.append(r2_score(y_test, y_pred))"
      ],
      "metadata": {
        "colab": {
          "base_uri": "https://localhost:8080/"
        },
        "id": "eFlaIwW_CcmO",
        "outputId": "9a7e512f-9b02-493e-c382-c41314327498"
      },
      "execution_count": 110,
      "outputs": [
        {
          "output_type": "stream",
          "name": "stdout",
          "text": [
            "Error medio Absoluto (MAE): 137480.1388273178\n",
            "Root Mean Squared Error: 232133.3676240749\n",
            "r2_score 0.6579723205007814\n"
          ]
        }
      ]
    },
    {
      "cell_type": "markdown",
      "source": [
        "#2do. Modelo (Regresión Lineal: Poly Features-Múltiple)"
      ],
      "metadata": {
        "id": "J7fawoV6EYw-"
      }
    },
    {
      "cell_type": "code",
      "source": [
        "poly_features = PolynomialFeatures(degree=2, include_bias=False)\n",
        "X_train_poly = poly_features.fit_transform(X_train)"
      ],
      "metadata": {
        "id": "LqLk5xqzEhI_"
      },
      "execution_count": 111,
      "outputs": []
    },
    {
      "cell_type": "code",
      "source": [
        "#Entrenamiento del modelos lineal utilizando la transformación polinomial\n",
        "lrp_mdl = LinearRegression()\n",
        "lrp_mdl.fit(X_train_poly, y_train)\n",
        "lrp_mdl.coef_, lrp_mdl.intercept_"
      ],
      "metadata": {
        "colab": {
          "base_uri": "https://localhost:8080/"
        },
        "id": "XHqSYkI6Fh-w",
        "outputId": "709d98ff-6fff-46cb-dda5-5aacb98582b5"
      },
      "execution_count": 112,
      "outputs": [
        {
          "output_type": "execute_result",
          "data": {
            "text/plain": [
              "(array([[ 9.33912834e+05, -1.09330730e+06, -4.56449932e+02,\n",
              "         -2.78686288e+01, -2.07407238e+06, -3.95431870e+06,\n",
              "         -2.88638026e+05,  5.58697570e+05,  1.09864510e+06,\n",
              "         -2.19758415e+02, -3.82034272e+02, -8.59630908e+04,\n",
              "         -2.95351595e+03,  3.99965710e+03, -3.40106316e+01,\n",
              "          9.57541696e+02,  7.49958190e+03, -1.37969466e+01,\n",
              "         -1.84926695e-02,  8.57699569e+03, -1.14965893e+04,\n",
              "         -3.06588900e+02, -5.24628836e+03, -5.36788065e+03,\n",
              "         -1.20757669e+00, -1.46068182e+01, -4.67099451e+02,\n",
              "         -9.13191519e+00,  1.72800642e+01,  2.15500198e-01,\n",
              "         -9.63429892e+03,  1.53879172e+01, -1.35842369e-01,\n",
              "         -2.59067293e+04,  4.33707238e+04,  3.82942459e+03,\n",
              "         -1.07592927e+03,  2.22971689e+04,  1.44292325e+01,\n",
              "          1.33928361e+00,  5.03401980e+02, -1.70798805e+01,\n",
              "         -1.72895923e+01, -5.56785248e-02,  1.56185890e+00,\n",
              "         -4.34972758e+00,  4.83299456e+00,  1.60303193e+02,\n",
              "         -1.42711737e+01,  1.31138593e+01,  2.07283397e+01,\n",
              "          2.61335089e+00, -4.41381412e+00, -2.20765903e+00,\n",
              "          6.36282684e-02,  3.53629072e+00,  1.88176819e+01,\n",
              "          3.06637958e-07,  4.40839907e-01, -9.84216136e-02,\n",
              "         -9.75869659e-02,  9.17233241e-02,  1.51960354e-01,\n",
              "          4.34904161e+00,  4.34926327e+00,  1.37650380e-02,\n",
              "         -1.48516006e-04,  1.76864211e-04,  1.05303479e-06,\n",
              "          2.16116740e+04, -1.31320713e+05,  1.44412938e+04,\n",
              "          2.02989005e+04, -4.27844150e+03, -2.82201875e+00,\n",
              "          7.66330754e+00,  1.03664758e+03,  2.59349503e+00,\n",
              "         -3.20401882e+01, -5.28612817e-01, -3.95431899e+06,\n",
              "         -1.60488762e+04,  9.19611219e+03, -1.61637325e+05,\n",
              "          1.83103328e+02, -2.28001023e+01,  4.42833048e+03,\n",
              "         -2.99177258e+01,  1.70604193e+02, -8.13533327e-01,\n",
              "          7.98448565e+03,  7.33999963e+03,  1.79556171e+04,\n",
              "         -1.24963418e+01, -1.77332663e+00,  7.20704241e+01,\n",
              "         -9.96831512e+00,  4.63359903e+00, -5.24194412e-02,\n",
              "         -5.41914699e+02, -6.03821219e+03,  1.16309467e+00,\n",
              "          1.19544378e+01, -3.07074418e+02, -2.01997367e+01,\n",
              "          4.63198881e+01, -2.76877580e-01,  7.36624125e+03,\n",
              "          9.60665725e+00,  1.11459299e+01, -5.71989956e+02,\n",
              "         -1.01345126e+01, -2.27554341e+01, -5.08577049e-01,\n",
              "         -4.16987537e+00, -1.28789962e+00,  2.44718109e+00,\n",
              "         -2.54496408e-02, -3.53836487e+00, -1.88174913e+01,\n",
              "          2.79020491e+00,  2.54821210e+00, -1.88342368e-02,\n",
              "         -3.53312599e+00, -1.88181978e+01,  2.30599022e+01,\n",
              "          4.06969503e-01, -2.04695891e+00,  1.88936366e-02,\n",
              "          1.11629336e+00,  4.71190049e-02,  2.55405757e-04,\n",
              "          3.31517292e-02,  1.11144269e-04,  2.35741027e-06]]),\n",
              " array([80227028.3104757]))"
            ]
          },
          "metadata": {},
          "execution_count": 112
        }
      ]
    },
    {
      "cell_type": "markdown",
      "source": [
        "###Modelo de estimación obtenido:\n",
        "\n",
        "$\\hat{y} = 933912.83X + 1093307.30X_2+ 456.44X_3 +...-0.00000235X_{n} + 80227028.31$"
      ],
      "metadata": {
        "id": "-NlXeAeaFucW"
      }
    },
    {
      "cell_type": "code",
      "source": [
        "#Predicciones del modelo utilizando caracteristicas polinomial\n",
        "X_test_poly = poly_features.transform(X_test)\n",
        "y_pred_poly = lrp_mdl.predict(X_test_poly)\n",
        "\n",
        "#Metrícas del modelo utilizando caracteristicas polinomiales\n",
        "print('Error medio Absoluto (MAE):', metrics.mean_absolute_error(y_test, y_pred_poly))\n",
        "resultados_MAE_Multiple.append( metrics.mean_absolute_error(y_test, y_pred))\n",
        "print('Root Mean Squared Error:', np.sqrt(metrics.mean_squared_error(y_test, y_pred_poly)))\n",
        "print('r2_score',r2_score(y_test,  y_pred_poly))\n",
        "resultados_R2_Multiple.append(r2_score(y_test, y_pred))"
      ],
      "metadata": {
        "colab": {
          "base_uri": "https://localhost:8080/"
        },
        "id": "BMobL57JFlBG",
        "outputId": "e21d666f-8b00-4bbb-8f77-154c1b970c89"
      },
      "execution_count": 113,
      "outputs": [
        {
          "output_type": "stream",
          "name": "stdout",
          "text": [
            "Error medio Absoluto (MAE): 121314.06948173394\n",
            "Root Mean Squared Error: 186261.28575138954\n",
            "r2_score 0.7797929072570198\n"
          ]
        }
      ]
    },
    {
      "cell_type": "markdown",
      "source": [
        "#3er. Modelo (Ridge-Múltiple)\n"
      ],
      "metadata": {
        "id": "abnLrqnbH5S_"
      }
    },
    {
      "cell_type": "code",
      "source": [
        "rg_mdl = Ridge(alpha=10)          #Se Crea el Objeto del Modelo de Ridge\n",
        "\n",
        "rg_mdl.fit(X_train, y_train)      #Entrenamiento del modelo\n",
        "\n",
        "rg_mdl.coef_, rg_mdl.intercept_   #Coeficientes del modelo"
      ],
      "metadata": {
        "colab": {
          "base_uri": "https://localhost:8080/"
        },
        "id": "aXKlHaXEJJnI",
        "outputId": "ab821fe3-999a-491f-81c1-d84e8b01fac6"
      },
      "execution_count": 114,
      "outputs": [
        {
          "output_type": "execute_result",
          "data": {
            "text/plain": [
              "(array([[-3.83707471e+04,  4.13194209e+04,  1.08194563e+02,\n",
              "          1.52368945e-02,  3.16654180e+04,  5.11363720e+05,\n",
              "          4.31720395e+04,  2.12599549e+04,  1.19274452e+05,\n",
              "          4.80756899e+01,  6.01188367e+01, -3.54707415e+03,\n",
              "          1.37932554e+01,  2.88166253e+01, -5.46903239e-01]]),\n",
              " array([6145564.30930104]))"
            ]
          },
          "metadata": {},
          "execution_count": 114
        }
      ]
    },
    {
      "cell_type": "markdown",
      "source": [
        "###Modelo de estimación obtenido:\n",
        "\n",
        "$\\hat{y} = -38370.804804X + 41319.4X_2+ 456.19X_3 +...-0.546X_{15} + 6145564.30$"
      ],
      "metadata": {
        "id": "USUP5FUAJYYm"
      }
    },
    {
      "cell_type": "code",
      "source": [
        "#Predicciones del modelo\n",
        "y_pred = rg_mdl.predict(X_test)\n",
        "\n",
        "#Metrícas del modelo de Ridge\n",
        "print('Error medio Absoluto (MAE):', metrics.mean_absolute_error(y_test, y_pred))\n",
        "resultados_MAE_Multiple.append( metrics.mean_absolute_error(y_test, y_pred))\n",
        "print('Root Mean Squared Error:', np.sqrt(metrics.mean_squared_error(y_test, y_pred)))\n",
        "print('r2_score',r2_score(y_test, y_pred))\n",
        "resultados_R2_Multiple.append(r2_score(y_test, y_pred))"
      ],
      "metadata": {
        "colab": {
          "base_uri": "https://localhost:8080/"
        },
        "id": "G-5wmkRxJZUH",
        "outputId": "cad97511-fdbc-4377-ce3f-f77dace86107"
      },
      "execution_count": 115,
      "outputs": [
        {
          "output_type": "stream",
          "name": "stdout",
          "text": [
            "Error medio Absoluto (MAE): 137585.19973837206\n",
            "Root Mean Squared Error: 232447.74672687982\n",
            "r2_score 0.6570452743997186\n"
          ]
        }
      ]
    },
    {
      "cell_type": "markdown",
      "source": [
        "##4to. Modelo (Lasso-Múltiple)"
      ],
      "metadata": {
        "id": "ZK-eDB72Jst-"
      }
    },
    {
      "cell_type": "code",
      "source": [
        "#Se crea el objeto del Modelo de Lasso\n",
        "lso_mdl = Lasso(alpha=0.5)\n",
        "#Entrenamiento del modelo\n",
        "lso_mdl.fit(X_train, y_train)\n",
        "lso_mdl.coef_, lso_mdl.intercept_"
      ],
      "metadata": {
        "colab": {
          "base_uri": "https://localhost:8080/"
        },
        "id": "7_XjBLx3Junn",
        "outputId": "10bbc3b2-8778-4824-88ff-edead67d272f"
      },
      "execution_count": 116,
      "outputs": [
        {
          "output_type": "stream",
          "name": "stderr",
          "text": [
            "/usr/local/lib/python3.7/dist-packages/sklearn/linear_model/_coordinate_descent.py:648: ConvergenceWarning: Objective did not converge. You might want to increase the number of iterations, check the scale of the features or consider increasing regularisation. Duality gap: 4.053e+14, tolerance: 2.572e+11\n",
            "  coef_, l1_reg, l2_reg, X, y, max_iter, tol, rng, random, positive\n"
          ]
        },
        {
          "output_type": "execute_result",
          "data": {
            "text/plain": [
              "(array([-3.82001697e+04,  4.14639974e+04,  2.93481362e+02,  1.71319410e-02,\n",
              "         3.16894162e+04,  5.52616066e+05,  4.12521441e+04,  2.12207672e+04,\n",
              "         1.19492527e+05, -1.37711415e+02, -1.25270275e+02, -3.55087610e+03,\n",
              "         1.32615337e+01,  2.90056291e+01, -5.48134339e-01]),\n",
              " array([6151319.68832076]))"
            ]
          },
          "metadata": {},
          "execution_count": 116
        }
      ]
    },
    {
      "cell_type": "markdown",
      "source": [
        "##Modelo de estimación obtenido:\n",
        "\n",
        "$\\hat{y} = -38200.16X + 41463.9X_2+ 293.48X_3 +...-0.548X_{15} + 6151319.68$"
      ],
      "metadata": {
        "id": "f6_o48ygLKs2"
      }
    },
    {
      "cell_type": "code",
      "source": [
        "print('Error medio Absoluto (MAE):', metrics.mean_absolute_error(y_test, y_pred))\n",
        "resultados_MAE_Multiple.append( metrics.mean_absolute_error(y_test, y_pred))\n",
        "print('Root Mean Squared Error:', np.sqrt(metrics.mean_squared_error(y_test, y_pred)))\n",
        "print('r2_score',r2_score(y_test, y_pred))\n",
        "resultados_R2_Multiple.append(r2_score(y_test, y_pred))"
      ],
      "metadata": {
        "colab": {
          "base_uri": "https://localhost:8080/"
        },
        "id": "JfyQ4r7eLYJ1",
        "outputId": "8b7d4a1c-4183-4792-ea64-173a4de2da6a"
      },
      "execution_count": 117,
      "outputs": [
        {
          "output_type": "stream",
          "name": "stdout",
          "text": [
            "Error medio Absoluto (MAE): 137585.19973837206\n",
            "Root Mean Squared Error: 232447.74672687982\n",
            "r2_score 0.6570452743997186\n"
          ]
        }
      ]
    },
    {
      "cell_type": "code",
      "source": [
        "#Graficado de la metrica MAE de los cuatro modelos\n",
        "mdl_names = [\"RL\",\"Poly\",\"Lasso\",\"Ridge\"]\n",
        "\n",
        "fig = plt.figure()\n",
        "ax = fig.add_axes([0,0,1,1])\n",
        "ax.bar(mdl_names,resultados_MAE_Multiple)\n",
        "plt.show()"
      ],
      "metadata": {
        "colab": {
          "base_uri": "https://localhost:8080/",
          "height": 336
        },
        "id": "f9v4O7jgLlkA",
        "outputId": "fcc25c28-9b18-45d6-c130-e44a6390c312"
      },
      "execution_count": 118,
      "outputs": [
        {
          "output_type": "display_data",
          "data": {
            "text/plain": [
              "<Figure size 432x288 with 1 Axes>"
            ],
            "image/png": "[encoded data removed]"
          },
          "metadata": {
            "needs_background": "light"
          }
        }
      ]
    },
    {
      "cell_type": "code",
      "source": [
        "#Graficado de la metrica R2 de los cuatro modelos\n",
        "mdl_names = [\"RL\",\"Poly\",\"Lasso\",\"Ridge\"]\n",
        "\n",
        "fig = plt.figure()\n",
        "ax = fig.add_axes([0,0,1,1])\n",
        "ax.bar(mdl_names,resultados_R2_Multiple)\n",
        "plt.show()"
      ],
      "metadata": {
        "colab": {
          "base_uri": "https://localhost:8080/",
          "height": 336
        },
        "id": "A11uAyuwOeaW",
        "outputId": "6336f708-e9bc-4367-c7be-7bc6e6cf56ca"
      },
      "execution_count": 119,
      "outputs": [
        {
          "output_type": "display_data",
          "data": {
            "text/plain": [
              "<Figure size 432x288 with 1 Axes>"
            ],
            "image/png": "[encoded data removed]"
          },
          "metadata": {
            "needs_background": "light"
          }
        }
      ]
    },
    {
      "cell_type": "markdown",
      "source": [
        "##Explica tus resultados, que método conviene más a la empresa, ¿por que?, ¿que porcentajes de entrenamiento y evaluación usaste?, ¿que error tienes?, ¿es bueno?, ¿cómo lo sabes?\n",
        "\n",
        "El método que conviene más a la empresa es de Regresión Lineal Múltiple utilizando características polinomiales, debido a que presenta el menor error absoluto promedio de los cuatro modelos, que es de 121314. También es el modelo que presenta la mayor R2 de los cuatro modelos, esta se encuentra en 0.77. A diferencia de los otros modelos,  regresión lineal utilizando características polinomiales requiere de que la variable sea manipulada para obtener un conjunto de datos derivado, lo que le agrega cierta complejidad al modelo obtenido. Por otra parte los cuatro modelos entrenados presentan métricas similares como lo podemos apreciar en la gráfica de barras de la métrica MAE y R2. El porcentaje de entrenamiento utilizado fue de 90% de datos de entrenamiento y el 10% fue utilizado para prueba. El error obtenido para los diferentes modelos se encuentra entre el valor de 14000 aproximadamente, un poco elevado en comparación con los modelos de regresión lineal simple, sin embargo este porcentaje de puede ser disminuido por medio de alguana de las tecnicas de optimización. Lo sabemos por qué lo estamos midiendo, graficando y observando en el comportamiento del modelo."
      ],
      "metadata": {
        "id": "TMLHXWD-P8Gm"
      }
    }
  ]
}