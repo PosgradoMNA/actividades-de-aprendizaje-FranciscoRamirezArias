{
 "cells": [
  {
   "cell_type": "markdown",
   "id": "2789e502-f12d-4c5c-a078-724c773bfb90",
   "metadata": {},
   "source": [
    "Actividades del Modulo 3: Pythonn for Data Science                       Francisco Javier Ramírez Arias A01316379\n",
    "\n",
    "Operadores de Comparación"
   ]
  },
  {
   "cell_type": "code",
   "execution_count": 1,
   "id": "8f313605-400f-408e-b080-d52a51b7d510",
   "metadata": {},
   "outputs": [
    {
     "data": {
      "text/plain": [
       "True"
      ]
     },
     "execution_count": 1,
     "metadata": {},
     "output_type": "execute_result"
    }
   ],
   "source": [
    "a = 6\n",
    "a == 6"
   ]
  },
  {
   "cell_type": "code",
   "execution_count": 2,
   "id": "193702bb-77b4-41ab-91f1-c06dd850b4ce",
   "metadata": {},
   "outputs": [
    {
     "data": {
      "text/plain": [
       "False"
      ]
     },
     "execution_count": 2,
     "metadata": {},
     "output_type": "execute_result"
    }
   ],
   "source": [
    "i = 5\n",
    "i > 5"
   ]
  },
  {
   "cell_type": "code",
   "execution_count": 3,
   "id": "34b1cd61-fc85-46d8-9b3b-f57eff04f4c7",
   "metadata": {},
   "outputs": [
    {
     "data": {
      "text/plain": [
       "True"
      ]
     },
     "execution_count": 3,
     "metadata": {},
     "output_type": "execute_result"
    }
   ],
   "source": [
    " i >= 5"
   ]
  },
  {
   "cell_type": "code",
   "execution_count": 43,
   "id": "858f15d0-bfdb-47f6-b00b-459c948f6819",
   "metadata": {},
   "outputs": [
    {
     "data": {
      "text/plain": [
       "True"
      ]
     },
     "execution_count": 43,
     "metadata": {},
     "output_type": "execute_result"
    }
   ],
   "source": [
    "i = 10000\n",
    "i!= 0"
   ]
  },
  {
   "cell_type": "code",
   "execution_count": 6,
   "id": "51567cc1-d8fe-4dbe-9b0f-a375015ef719",
   "metadata": {},
   "outputs": [
    {
     "data": {
      "text/plain": [
       "False"
      ]
     },
     "execution_count": 6,
     "metadata": {},
     "output_type": "execute_result"
    }
   ],
   "source": [
    "\"Jack\" ==\"Michael\""
   ]
  },
  {
   "cell_type": "markdown",
   "id": "25888335-514a-434a-9917-6e650e4f7c57",
   "metadata": {},
   "source": [
    "Branching"
   ]
  },
  {
   "cell_type": "code",
   "execution_count": 16,
   "id": "5356fcd5-80f4-4da5-bf11-8308ecf11155",
   "metadata": {},
   "outputs": [
    {
     "name": "stdout",
     "output_type": "stream",
     "text": [
      "You can enter\n",
      "move on\n"
     ]
    }
   ],
   "source": [
    "#If Statement\n",
    "age = 18\n",
    "if(age>=18):\n",
    "    print(\"You can enter\")\n",
    "print(\"move on\")"
   ]
  },
  {
   "cell_type": "code",
   "execution_count": 18,
   "id": "586a3a51-a74a-40f7-b6ef-8e13d11f2ef6",
   "metadata": {},
   "outputs": [
    {
     "name": "stdout",
     "output_type": "stream",
     "text": [
      "go see Meat Loaf\n",
      "move on\n"
     ]
    }
   ],
   "source": [
    "#If-else Statement\n",
    "age = 17\n",
    "if(age>=18):\n",
    "    print(\"You can enter\")\n",
    "else:    \n",
    "    print(\"go see Meat Loaf\")\n",
    "print(\"move on\")"
   ]
  },
  {
   "cell_type": "code",
   "execution_count": 30,
   "id": "d94824b4-5d82-4528-b55e-fdb6333bf663",
   "metadata": {},
   "outputs": [
    {
     "name": "stdout",
     "output_type": "stream",
     "text": [
      "go see Pink Floyd\n",
      "move on\n"
     ]
    }
   ],
   "source": [
    "#elseif Statement\n",
    "age = 18\n",
    "if(age>18):\n",
    "    print(\"You can enter\")\n",
    "elif(age==18):    \n",
    "        print(\"go see Pink Floyd\")\n",
    "else:\n",
    "    print(\"go to see Meat Loaf\")\n",
    "print(\"move on\")"
   ]
  },
  {
   "cell_type": "markdown",
   "id": "10567c7b-b02b-485f-b3c2-4a933fe419a2",
   "metadata": {},
   "source": [
    "Logic Opperators"
   ]
  },
  {
   "cell_type": "code",
   "execution_count": 35,
   "id": "683b71cc-fd3c-4932-8fe3-23497156b4d3",
   "metadata": {},
   "outputs": [
    {
     "name": "stdout",
     "output_type": "stream",
     "text": [
      "The Album was made in the 1980's\n"
     ]
    }
   ],
   "source": [
    "album_year = 1989\n",
    "if(album_year < 1980) or (album_year > 1989):\n",
    "    print(\"the Album was made in the 70´s or 90´s\")\n",
    "else:\n",
    "    \n",
    "    print(\"The Album was made in the 1980's\")"
   ]
  },
  {
   "cell_type": "code",
   "execution_count": 38,
   "id": "c8823c0d-76a3-4e8b-9a5b-a6e995a6d525",
   "metadata": {},
   "outputs": [
    {
     "name": "stdout",
     "output_type": "stream",
     "text": [
      "The Album was made in the 1980's\n"
     ]
    }
   ],
   "source": [
    "album_year = 1983\n",
    "if(album_year < 1979) and (album_year > 1989):\n",
    "    print(\"the Album was made in the 70´s or 90´s\")\n",
    "else:\n",
    "    \n",
    "    print(\"The Album was made in the 1980's\")"
   ]
  },
  {
   "cell_type": "code",
   "execution_count": 44,
   "id": "beef0d8f-0395-4971-b371-174e1ad438dc",
   "metadata": {},
   "outputs": [
    {
     "data": {
      "text/plain": [
       "True"
      ]
     },
     "execution_count": 44,
     "metadata": {},
     "output_type": "execute_result"
    }
   ],
   "source": [
    "#Comparison Oprations\n",
    "i= 1\n",
    "i!=0"
   ]
  },
  {
   "cell_type": "code",
   "execution_count": 46,
   "id": "48d106dc-c77b-4466-a56f-b02bfdf23e9e",
   "metadata": {},
   "outputs": [
    {
     "name": "stdout",
     "output_type": "stream",
     "text": [
      "this is a\n"
     ]
    }
   ],
   "source": [
    "#Branching\n",
    "x = \"a\"\n",
    "if(x=='a'):\n",
    "    print(\"this is a\")\n",
    "else:\n",
    "    print(\"this is  not a\")"
   ]
  },
  {
   "cell_type": "code",
   "execution_count": 47,
   "id": "13eb9917-1296-4469-976d-5dd6aff45984",
   "metadata": {},
   "outputs": [
    {
     "data": {
      "text/plain": [
       "True"
      ]
     },
     "execution_count": 47,
     "metadata": {},
     "output_type": "execute_result"
    }
   ],
   "source": [
    "#Logic Operators\n",
    "y=8\n",
    "x=1\n",
    "x>0 and y<10"
   ]
  },
  {
   "cell_type": "markdown",
   "id": "83908435-c1e1-4e08-9d13-a80300fa6846",
   "metadata": {},
   "source": [
    "Lab- Conditions in Python"
   ]
  },
  {
   "cell_type": "code",
   "execution_count": 48,
   "id": "22dc3af3-0fca-4637-ad86-ee851256a77e",
   "metadata": {},
   "outputs": [
    {
     "data": {
      "text/plain": [
       "False"
      ]
     },
     "execution_count": 48,
     "metadata": {},
     "output_type": "execute_result"
    }
   ],
   "source": [
    "#Conditional Equal\n",
    "a = 5\n",
    "a == 6"
   ]
  },
  {
   "cell_type": "code",
   "execution_count": 49,
   "id": "6e76cada-8811-4a4c-8a4d-734dc6077efe",
   "metadata": {},
   "outputs": [
    {
     "data": {
      "text/plain": [
       "True"
      ]
     },
     "execution_count": 49,
     "metadata": {},
     "output_type": "execute_result"
    }
   ],
   "source": [
    "# Mayor Que\n",
    "i = 6\n",
    "i > 5"
   ]
  },
  {
   "cell_type": "code",
   "execution_count": 51,
   "id": "ffbd216a-baf6-4572-b9db-ab47703ecc7a",
   "metadata": {},
   "outputs": [
    {
     "data": {
      "text/plain": [
       "False"
      ]
     },
     "execution_count": 51,
     "metadata": {},
     "output_type": "execute_result"
    }
   ],
   "source": [
    "# Mayor Que\n",
    "i = 2\n",
    "i > 5"
   ]
  },
  {
   "cell_type": "code",
   "execution_count": 52,
   "id": "56ec7d0d-2ffe-4877-ba4e-90babd334f08",
   "metadata": {},
   "outputs": [
    {
     "data": {
      "text/plain": [
       "True"
      ]
     },
     "execution_count": 52,
     "metadata": {},
     "output_type": "execute_result"
    }
   ],
   "source": [
    "#Diferente de\n",
    "i = 2\n",
    "i != 6"
   ]
  },
  {
   "cell_type": "code",
   "execution_count": 53,
   "id": "30418cb6-bf3a-4b02-83d7-c9cd6178c641",
   "metadata": {},
   "outputs": [
    {
     "data": {
      "text/plain": [
       "False"
      ]
     },
     "execution_count": 53,
     "metadata": {},
     "output_type": "execute_result"
    }
   ],
   "source": [
    "i = 6\n",
    "i != 6"
   ]
  },
  {
   "cell_type": "code",
   "execution_count": 54,
   "id": "c2a567c4-0867-4d5d-ac14-07bf7dcace43",
   "metadata": {},
   "outputs": [
    {
     "data": {
      "text/plain": [
       "False"
      ]
     },
     "execution_count": 54,
     "metadata": {},
     "output_type": "execute_result"
    }
   ],
   "source": [
    "#Signo de igualdad para comparar strings\n",
    "\"ACDC\" == \"Michael Jackson\""
   ]
  },
  {
   "cell_type": "code",
   "execution_count": 55,
   "id": "8bcc100d-0f1e-4327-89f7-053187b902e6",
   "metadata": {},
   "outputs": [
    {
     "data": {
      "text/plain": [
       "True"
      ]
     },
     "execution_count": 55,
     "metadata": {},
     "output_type": "execute_result"
    }
   ],
   "source": [
    "#Signo de diferencia para comparar strings\n",
    "\"ACDC\" != \"Michael Jackson\""
   ]
  },
  {
   "cell_type": "code",
   "execution_count": 56,
   "id": "5ad8287b-dcf1-4d53-99f3-91fdf85a8ba5",
   "metadata": {},
   "outputs": [
    {
     "data": {
      "text/plain": [
       "True"
      ]
     },
     "execution_count": 56,
     "metadata": {},
     "output_type": "execute_result"
    }
   ],
   "source": [
    "#Compara characteres\n",
    "'B' > 'A'"
   ]
  },
  {
   "cell_type": "code",
   "execution_count": 58,
   "id": "d313e798-cf89-432c-a389-9d46b4b2d2fa",
   "metadata": {},
   "outputs": [
    {
     "data": {
      "text/plain": [
       "True"
      ]
     },
     "execution_count": 58,
     "metadata": {},
     "output_type": "execute_result"
    }
   ],
   "source": [
    "#Compara caracteres\n",
    "'BA' > 'AB'"
   ]
  },
  {
   "cell_type": "markdown",
   "id": "e81f4ed2-5f04-460d-ba64-45806e0b809a",
   "metadata": {},
   "source": [
    "Derivaciones o bifurcaciones"
   ]
  },
  {
   "cell_type": "code",
   "execution_count": 60,
   "id": "b9f24d3b-e27c-47ea-8b90-4f17a3d81c19",
   "metadata": {},
   "outputs": [
    {
     "name": "stdout",
     "output_type": "stream",
     "text": [
      "move on\n"
     ]
    }
   ],
   "source": [
    "#Ejemplo de la conodicional if\n",
    "age = 18\n",
    "#age = 18\n",
    "\n",
    "#expression that can be true or false\n",
    "if age > 18:\n",
    "    \n",
    "    #within an indent, we have the expression that is run if the condition is true\n",
    "    print(\"you can enter\" )\n",
    "\n",
    "#The statements after the if statement will run regardless if the condition is true or false \n",
    "print(\"move on\")"
   ]
  },
  {
   "cell_type": "code",
   "execution_count": 61,
   "id": "435eb09c-0b54-4e2a-9e82-5b1985a07eb1",
   "metadata": {},
   "outputs": [
    {
     "name": "stdout",
     "output_type": "stream",
     "text": [
      "go see Meat Loaf\n",
      "move on\n"
     ]
    }
   ],
   "source": [
    "# Ejemplo de la condicional else\n",
    "\n",
    "age = 18\n",
    "# age = 19\n",
    "\n",
    "if age > 18:\n",
    "    print(\"you can enter\" )\n",
    "else:\n",
    "    print(\"go see Meat Loaf\" )\n",
    "    \n",
    "print(\"move on\")"
   ]
  },
  {
   "cell_type": "code",
   "execution_count": 62,
   "id": "422c6e63-448d-46f9-a90d-a1586d3aa861",
   "metadata": {},
   "outputs": [
    {
     "name": "stdout",
     "output_type": "stream",
     "text": [
      "go see Pink Floyd\n",
      "move on\n"
     ]
    }
   ],
   "source": [
    "# Ejemplo de la condicional Elif\n",
    "\n",
    "age = 18\n",
    "\n",
    "if age > 18:\n",
    "    print(\"you can enter\" )\n",
    "elif age == 18:\n",
    "    print(\"go see Pink Floyd\")\n",
    "else:\n",
    "    print(\"go see Meat Loaf\" )\n",
    "    \n",
    "print(\"move on\")"
   ]
  },
  {
   "cell_type": "code",
   "execution_count": 63,
   "id": "712f1c80-08de-4dd4-bf2c-e48b2b36d800",
   "metadata": {},
   "outputs": [
    {
     "name": "stdout",
     "output_type": "stream",
     "text": [
      "do something..\n"
     ]
    }
   ],
   "source": [
    "#Ejemplos de condicionales\n",
    "\n",
    "album_year = 1983\n",
    "album_year = 1970\n",
    "\n",
    "if album_year > 1980:\n",
    "    print(\"Album year is greater than 1980\")\n",
    "    \n",
    "print('do something..')"
   ]
  },
  {
   "cell_type": "code",
   "execution_count": 64,
   "id": "19ddf000-9f3e-4ae2-8264-4d28f4d347fb",
   "metadata": {},
   "outputs": [
    {
     "name": "stdout",
     "output_type": "stream",
     "text": [
      "Album year is greater than 1980\n",
      "do something..\n"
     ]
    }
   ],
   "source": [
    "# Ejemplos de condicionales\n",
    "album_year = 1983\n",
    "#album_year = 1970\n",
    "\n",
    "if album_year > 1980:\n",
    "    print(\"Album year is greater than 1980\")\n",
    "else:\n",
    "    print(\"less than 1980\")\n",
    "\n",
    "print('do something..')"
   ]
  },
  {
   "cell_type": "markdown",
   "id": "37c9b6c4-daaa-4b2b-89c0-2389a598c616",
   "metadata": {},
   "source": [
    "Operadores Logicos"
   ]
  },
  {
   "cell_type": "code",
   "execution_count": 65,
   "id": "f590bbe9-4995-4320-967b-a2fe6974b467",
   "metadata": {},
   "outputs": [
    {
     "name": "stdout",
     "output_type": "stream",
     "text": [
      "Album year was in between 1980 and 1989\n",
      "\n",
      "Do Stuff..\n"
     ]
    }
   ],
   "source": [
    "# Operador logico AND\n",
    "\n",
    "album_year = 1980\n",
    "\n",
    "if(album_year > 1979) and (album_year < 1990):\n",
    "    print (\"Album year was in between 1980 and 1989\")\n",
    "    \n",
    "print(\"\")\n",
    "print(\"Do Stuff..\")"
   ]
  },
  {
   "cell_type": "code",
   "execution_count": 66,
   "id": "901d12df-a211-4ac8-beee-fab96afd1c2d",
   "metadata": {},
   "outputs": [
    {
     "name": "stdout",
     "output_type": "stream",
     "text": [
      "Album was not made in the 1980's\n"
     ]
    }
   ],
   "source": [
    "# Operador logico OR\n",
    "\n",
    "album_year = 1990\n",
    "\n",
    "if(album_year < 1980) or (album_year > 1989):\n",
    "    print (\"Album was not made in the 1980's\")\n",
    "else:\n",
    "    print(\"The Album was made in the 1980's \")"
   ]
  },
  {
   "cell_type": "code",
   "execution_count": 67,
   "id": "119022b0-1041-480f-83c8-29061d367386",
   "metadata": {},
   "outputs": [
    {
     "name": "stdout",
     "output_type": "stream",
     "text": [
      "Album year is not 1984\n"
     ]
    }
   ],
   "source": [
    "# Operador logico NOT\n",
    "\n",
    "album_year = 1983\n",
    "\n",
    "if not (album_year == 1984):\n",
    "    print (\"Album year is not 1984\")"
   ]
  },
  {
   "cell_type": "markdown",
   "id": "6314e502-24f2-4a2d-949b-c1306ddbb6d7",
   "metadata": {},
   "source": [
    "Quiz o miniexamen de condicionales\n"
   ]
  },
  {
   "cell_type": "code",
   "execution_count": 68,
   "id": "72814b6b-1f87-41e1-8146-eb62f4b20bb9",
   "metadata": {},
   "outputs": [
    {
     "name": "stdout",
     "output_type": "stream",
     "text": [
      "This album is Amazing!\n"
     ]
    }
   ],
   "source": [
    "#If statement\n",
    "Back_In_Black = 8.5\n",
    "if(Back_In_Black>8):\n",
    "    print(\"This album is Amazing!\")"
   ]
  },
  {
   "cell_type": "code",
   "execution_count": 71,
   "id": "531c737c-0cf5-4735-83a7-ca917a7d5340",
   "metadata": {},
   "outputs": [
    {
     "name": "stdout",
     "output_type": "stream",
     "text": [
      "This album is Amazing!\n"
     ]
    }
   ],
   "source": [
    "#If-else statement\n",
    "Back_In_Black = 8.1\n",
    "if(Back_In_Black>8):\n",
    "    print(\"This album is Amazing!\")\n",
    "else:\n",
    "    print(\"This album is ok\")"
   ]
  },
  {
   "cell_type": "code",
   "execution_count": 75,
   "id": "d093e7d7-f8f4-442c-b212-b3547f6b8400",
   "metadata": {},
   "outputs": [
    {
     "name": "stdout",
     "output_type": "stream",
     "text": [
      "This album came out in year 1979\n"
     ]
    }
   ],
   "source": [
    "#If statement\n",
    "album_year = 1979\n",
    "\n",
    "if album_year < 1980 or album_year == 1991 or album_year  == 1993:\n",
    "    print(\"This album came out in year\", album_year)"
   ]
  },
  {
   "cell_type": "markdown",
   "id": "d3ef1a75-9fd2-4ffc-8414-48dce206705f",
   "metadata": {},
   "source": [
    "Loops"
   ]
  },
  {
   "cell_type": "code",
   "execution_count": 5,
   "id": "3b938400-9f4d-4096-8b66-2268e66b08e1",
   "metadata": {},
   "outputs": [
    {
     "name": "stdout",
     "output_type": "stream",
     "text": [
      "['red', 'yellow', 'green', 'purple', 'blue']\n"
     ]
    },
    {
     "data": {
      "text/plain": [
       "['white', 'white', 'white', 'white', 'white']"
      ]
     },
     "execution_count": 5,
     "metadata": {},
     "output_type": "execute_result"
    }
   ],
   "source": [
    "#For Loop\n",
    "squares = [\"red\", \"yellow\", \"green\", \"purple\", \"blue\"]\n",
    "print(squares)\n",
    "for i in range(0,5):\n",
    "    squares[i] = \"white\"\n",
    "squares"
   ]
  },
  {
   "cell_type": "code",
   "execution_count": 16,
   "id": "4f065d13-341d-4a69-aa7d-c0238cd6bfd7",
   "metadata": {},
   "outputs": [
    {
     "name": "stdout",
     "output_type": "stream",
     "text": [
      "0\n"
     ]
    }
   ],
   "source": [
    "for i,square in enumerate(squares):\n",
    "    square\n",
    "    print(i)"
   ]
  },
  {
   "cell_type": "code",
   "execution_count": 18,
   "id": "d6bb806e-9343-474f-a7e4-33a73dcb5391",
   "metadata": {},
   "outputs": [
    {
     "name": "stdout",
     "output_type": "stream",
     "text": [
      "['red', 'yellow', 'green', 'purple', 'blue']\n"
     ]
    }
   ],
   "source": [
    "#While Loop\n",
    "squares = [\"red\", \"yellow\", \"green\", \"purple\", \"blue\"]\n",
    "print(squares)\n",
    "Newssquares=[]\n",
    "i=0\n",
    "while(squares[i]=='blue'):\n",
    "    Newsquares.append(squares[i])\n",
    "    i=i+1\n"
   ]
  },
  {
   "cell_type": "code",
   "execution_count": 20,
   "id": "bf400983-1a3e-408d-ab12-78ed922e14cc",
   "metadata": {},
   "outputs": [
    {
     "name": "stdout",
     "output_type": "stream",
     "text": [
      "3\n",
      "4\n",
      "5\n"
     ]
    }
   ],
   "source": [
    "A=[3,4,5]\n",
    "\n",
    "for a in A:\n",
    "    print(a)"
   ]
  },
  {
   "cell_type": "code",
   "execution_count": 21,
   "id": "53ee7f07-103e-4be8-9c78-70d2ddbcc5da",
   "metadata": {},
   "outputs": [
    {
     "name": "stdout",
     "output_type": "stream",
     "text": [
      "1\n",
      "2\n"
     ]
    }
   ],
   "source": [
    "x=3\n",
    "y=1\n",
    "\n",
    "while(y!=x):\n",
    "    print(y)\n",
    "    y=y+1"
   ]
  },
  {
   "cell_type": "markdown",
   "id": "87e89687-127c-44c9-8c35-6d10737a89b0",
   "metadata": {},
   "source": [
    "Ejercicios de Ciclos"
   ]
  },
  {
   "cell_type": "code",
   "execution_count": 22,
   "id": "79820f20-696c-4d0a-9fcd-63e844befb35",
   "metadata": {},
   "outputs": [
    {
     "name": "stdout",
     "output_type": "stream",
     "text": [
      "3\n",
      "4\n",
      "5\n"
     ]
    }
   ],
   "source": [
    "A=[3,4,5]\n",
    "for a in A:\n",
    "    print(a)"
   ]
  },
  {
   "cell_type": "code",
   "execution_count": 25,
   "id": "29bb5495-22a6-49ef-827b-ddecaff6f0f3",
   "metadata": {},
   "outputs": [
    {
     "name": "stdout",
     "output_type": "stream",
     "text": [
      "1\n",
      "2\n",
      "3\n",
      "4\n",
      "5\n",
      "6\n",
      "7\n",
      "8\n",
      "9\n",
      "10\n"
     ]
    }
   ],
   "source": [
    "x=11\n",
    "y=1\n",
    "while(y != x):\n",
    "    print(y)\n",
    "    y=y+1"
   ]
  },
  {
   "cell_type": "markdown",
   "id": "3aa36043-8e2f-44d6-9026-9ef8445f36e5",
   "metadata": {},
   "source": [
    "FOR LOOP"
   ]
  },
  {
   "cell_type": "code",
   "execution_count": 26,
   "id": "73f35618-2c82-4a7c-8fa4-4a0df249dc1f",
   "metadata": {},
   "outputs": [
    {
     "data": {
      "text/plain": [
       "range(0, 3)"
      ]
     },
     "execution_count": 26,
     "metadata": {},
     "output_type": "execute_result"
    }
   ],
   "source": [
    "#Uso de rango\n",
    "\n",
    "range(3)"
   ]
  },
  {
   "cell_type": "code",
   "execution_count": 27,
   "id": "8a816333-899b-43f8-aa70-654e4af31db5",
   "metadata": {},
   "outputs": [
    {
     "name": "stdout",
     "output_type": "stream",
     "text": [
      "1982\n",
      "1980\n",
      "1973\n"
     ]
    }
   ],
   "source": [
    "#For Loop ejemplo\n",
    "\n",
    "dates = [1982,1980,1973]\n",
    "N = len(dates)\n",
    "\n",
    "for i in range(N):\n",
    "    print(dates[i])  "
   ]
  },
  {
   "cell_type": "code",
   "execution_count": 28,
   "id": "252571dd-48fc-4f61-bf7d-d202217d3068",
   "metadata": {},
   "outputs": [
    {
     "name": "stdout",
     "output_type": "stream",
     "text": [
      "0\n",
      "1\n",
      "2\n",
      "3\n",
      "4\n",
      "5\n",
      "6\n",
      "7\n"
     ]
    }
   ],
   "source": [
    "#Ejemplo de ciclo For\n",
    "\n",
    "for i in range(0, 8):\n",
    "    print(i)"
   ]
  },
  {
   "cell_type": "code",
   "execution_count": 29,
   "id": "edf7330c-6716-4cb5-91a9-543a80ece938",
   "metadata": {},
   "outputs": [
    {
     "name": "stdout",
     "output_type": "stream",
     "text": [
      "1982\n",
      "1980\n",
      "1973\n"
     ]
    }
   ],
   "source": [
    "#Ejemplo del ciclo for, por medio de lista\n",
    "\n",
    "for year in dates:  \n",
    "    print(year) "
   ]
  },
  {
   "cell_type": "code",
   "execution_count": 30,
   "id": "302b4d4a-6711-4313-bfea-e482a204ebbe",
   "metadata": {},
   "outputs": [
    {
     "name": "stdout",
     "output_type": "stream",
     "text": [
      "Before square  0 is red\n",
      "After square  0 is white\n",
      "Before square  1 is yellow\n",
      "After square  1 is white\n",
      "Before square  2 is green\n",
      "After square  2 is white\n",
      "Before square  3 is purple\n",
      "After square  3 is white\n",
      "Before square  4 is blue\n",
      "After square  4 is white\n"
     ]
    }
   ],
   "source": [
    "#Uso de ciclos fo para cambiar los elementos de la lista\n",
    "\n",
    "squares = ['red', 'yellow', 'green', 'purple', 'blue']\n",
    "\n",
    "for i in range(0, 5):\n",
    "    print(\"Before square \", i, 'is',  squares[i])\n",
    "    squares[i] = 'white'\n",
    "    print(\"After square \", i, 'is',  squares[i])"
   ]
  },
  {
   "cell_type": "code",
   "execution_count": 31,
   "id": "c93976dc-8e2e-4270-a956-73d6843d1b5b",
   "metadata": {},
   "outputs": [
    {
     "name": "stdout",
     "output_type": "stream",
     "text": [
      "0 red\n",
      "1 yellow\n",
      "2 green\n",
      "3 purple\n",
      "4 blue\n"
     ]
    }
   ],
   "source": [
    "#Ciclo a traves de la lista e iteracion en ambos inidices y valores de elemento\n",
    "squares=['red', 'yellow', 'green', 'purple', 'blue']\n",
    "\n",
    "for i, square in enumerate(squares):\n",
    "    print(i, square)"
   ]
  },
  {
   "cell_type": "markdown",
   "id": "23456613-25fc-4c64-86c5-7ae8db6ae9d3",
   "metadata": {},
   "source": [
    "CCiclo While"
   ]
  },
  {
   "cell_type": "code",
   "execution_count": 32,
   "id": "63d93a95-b236-488a-ae6e-804190bbd2be",
   "metadata": {},
   "outputs": [
    {
     "name": "stdout",
     "output_type": "stream",
     "text": [
      "1982\n",
      "1980\n",
      "It took  2 repetitions to get out of loop.\n"
     ]
    }
   ],
   "source": [
    "#Ejemplo del ciclo While\n",
    "dates = [1982, 1980, 1973, 2000]\n",
    "\n",
    "i = 0\n",
    "year = dates[0]\n",
    "\n",
    "while(year != 1973):    \n",
    "    print(year)\n",
    "    i = i + 1\n",
    "    year = dates[i]\n",
    "    \n",
    "\n",
    "print(\"It took \", i ,\"repetitions to get out of loop.\")"
   ]
  },
  {
   "cell_type": "markdown",
   "id": "05ce3f08-7c54-4445-a755-8b70612b2581",
   "metadata": {},
   "source": [
    "Mini-examen de Ciclos"
   ]
  },
  {
   "cell_type": "code",
   "execution_count": 33,
   "id": "2b7eb11e-d8c8-47d3-8cf2-138b8fe54bc3",
   "metadata": {},
   "outputs": [
    {
     "name": "stdout",
     "output_type": "stream",
     "text": [
      "-5\n",
      "-4\n",
      "-3\n",
      "-2\n",
      "-1\n",
      "0\n",
      "1\n",
      "2\n",
      "3\n",
      "4\n"
     ]
    }
   ],
   "source": [
    "#Por medio de un ciclo for y la funcion de rango imprime los elementos entre -5 y 5 \n",
    "for i in range(-5, 5):\n",
    "    print(i)"
   ]
  },
  {
   "cell_type": "code",
   "execution_count": 34,
   "id": "63552467-9043-4ec1-8a08-e90ecfda9755",
   "metadata": {},
   "outputs": [
    {
     "name": "stdout",
     "output_type": "stream",
     "text": [
      "rock\n",
      "R&B\n",
      "Soundtrack\n",
      "R&B\n",
      "soul\n",
      "pop\n"
     ]
    }
   ],
   "source": [
    "#Imprime los elementos de la siguiente lista\n",
    "Genres = ['rock', 'R&B', 'Soundtrack', 'R&B', 'soul', 'pop']\n",
    "for Genre in Genres:\n",
    "    print(Genre)"
   ]
  },
  {
   "cell_type": "code",
   "execution_count": 35,
   "id": "4a1df030-75bc-4ada-aa99-ef248df878fa",
   "metadata": {},
   "outputs": [
    {
     "name": "stdout",
     "output_type": "stream",
     "text": [
      "red\n",
      "yellow\n",
      "green\n",
      "purple\n",
      "blue\n"
     ]
    }
   ],
   "source": [
    "#Imprime los elementos de la siguiente lista\n",
    "squares = ['red', 'yellow', 'green', 'purple', 'blue']\n",
    "for square in squares:\n",
    "    print(square)"
   ]
  },
  {
   "cell_type": "code",
   "execution_count": 52,
   "id": "722eae8b-e7f7-4198-a510-565cfb80487a",
   "metadata": {},
   "outputs": [
    {
     "name": "stdout",
     "output_type": "stream",
     "text": [
      "10\n",
      "9.5\n",
      "10\n",
      "8\n",
      "7.5\n"
     ]
    }
   ],
   "source": [
    "#Imprime los elementos de la siguiente lista\n",
    "PlayListRatings = [10, 9.5, 10, 8, 7.5, 5, 10, 10]\n",
    "i = 0\n",
    "Rating = PlayListRatings[0]\n",
    "while(i < len(PlayListRatings) and Rating >= 6):\n",
    "    print(Rating)\n",
    "    i = i + 1\n",
    "    Rating = PlayListRatings[i]"
   ]
  },
  {
   "cell_type": "code",
   "execution_count": null,
   "id": "7d6643b9-2e0f-4f86-a50e-56e5b29b3eb4",
   "metadata": {},
   "outputs": [],
   "source": [
    "quares = ['orange', 'orange', 'purple', 'blue ', 'orange']\n",
    "new_squares = []\n",
    "i = 0\n",
    "while(i < len(squares) and squares[i] == 'orange'):\n",
    "    new_squares.append(squares[i])\n",
    "    i = i + 1\n",
    "print (new_squares)"
   ]
  },
  {
   "cell_type": "code",
   "execution_count": null,
   "id": "a5be0a52-6357-4791-b963-8178a6b6fc0e",
   "metadata": {},
   "outputs": [],
   "source": []
  }
 ],
 "metadata": {
  "kernelspec": {
   "display_name": "Python",
   "language": "python",
   "name": "conda-env-python-py"
  },
  "language_info": {
   "codemirror_mode": {
    "name": "ipython",
    "version": 3
   },
   "file_extension": ".py",
   "mimetype": "text/x-python",
   "name": "python",
   "nbconvert_exporter": "python",
   "pygments_lexer": "ipython3",
   "version": "3.7.12"
  }
 },
 "nbformat": 4,
 "nbformat_minor": 5
}
