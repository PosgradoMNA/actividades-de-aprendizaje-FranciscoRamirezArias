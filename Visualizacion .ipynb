{
  "nbformat": 4,
  "nbformat_minor": 0,
  "metadata": {
    "colab": {
      "provenance": [],
      "toc_visible": true,
      "collapsed_sections": []
    },
    "kernelspec": {
      "name": "python3",
      "display_name": "Python 3"
    },
    "language_info": {
      "name": "python"
    }
  },
  "cells": [
    {
      "cell_type": "markdown",
      "source": [
        "##**Maestría en Inteligencia Artificial Aplicada**\n",
        "\n",
        "##**Tecnológico de Monterrey**\n",
        "\n",
        "##**Curso: Ciencia y Analítica de Datos**\n",
        "\n",
        "Profesora: Dra. María de la Paz Rico Fernández\n",
        "\n",
        "Actividad: Semana 7\n",
        "\n",
        "Nombre de la Actividad: Visualizació\n",
        "\n",
        "Alumno:Francisco Javier Ramírez Arias\n",
        "\n",
        "Matricula: A01316379\n"
      ],
      "metadata": {
        "id": "TJ9STVsqwYSm"
      }
    },
    {
      "cell_type": "markdown",
      "source": [
        "#Puntos de la Actividad\n"
      ],
      "metadata": {
        "id": "Xd4u4V-hyub0"
      }
    },
    {
      "cell_type": "markdown",
      "source": [
        "##1._Descargar los datos y cargar los datos en tu libreta"
      ],
      "metadata": {
        "id": "FSWUqBtwzVyk"
      }
    },
    {
      "cell_type": "code",
      "execution_count": null,
      "metadata": {
        "id": "qv7XV96mvsOr"
      },
      "outputs": [],
      "source": [
        "import pandas as pd\n",
        "PathData = \"https://raw.githubusercontent.com/PosgradoMNA/Actividades_Aprendizaje-/main/default%20of%20credit%20card%20clients.csv\"\n",
        "df = pd.read_csv(PathData, index_col=0)\n"
      ]
    },
    {
      "cell_type": "markdown",
      "source": [
        "El nombre del conjunto de datos: default of credit card clients Data Set.\n",
        "\n",
        "El conjunto de datos es multivariables, cuenta con 30000 muestras, se encunetra dentro del area de negocios, las carateristicas de los atributos son reales y enteros. El numero de atributos del conjunto de datos es de 24, fue donado el 26 de enero del 2016. Es puede ser asociado a tareas de clasificacion, el conjunto de datos cuenta con valores perdidos.\n",
        "\n",
        "El conjunto de datos fue generado por I-Cheng Yen, su dirección de correo es: (1) icyeh '@' chu.edu.tw (2) 140910 '@' mail.tku.edu.tw. Las instituciones con las que colabora son: (1) Department of Information Management, Chung Hua University, Taiwan. (2) Department of Civil Engineering, Tamkang University, Taiwan.\n",
        "\n",
        "Los atributos del conjunto de datos se encuentran etiquetados de la siguiente manera:\n",
        "\n",
        "Esta investigación emplea variable binaria, pago por defecto (Si = 1, No = 0), como variable de respuesta. La revision de la literatura de este estudio y utiliza las siguientes 23 variables como variables exploratorias:\n",
        "\n",
        "X1: Cantidad de credito atorgodo (NT dollar): este incluye ambos el credito individual de consumo y el credito suplementario de su familia.\n",
        "\n",
        "X2: Genero (1 = masculino; 2 = femenino).\n",
        "\n",
        "X3: Educacion (1 = graduado de escuala; 2 = universidad; 3 = preparatoria; 4 = otros).\n",
        "\n",
        "X4: Estado civil (1 = casado; 2 = soltero; 3 = otro).\n",
        "\n",
        "X5: Edad (años).\n",
        "\n",
        "X6 - X11: Historial de pagos pasados. \n",
        "\n",
        "X12-X17: Cantidad de declaracion de recibos.\n",
        "\n",
        "X18-X23: Cantiidad de pagos previos.\n",
        "\n",
        "\n",
        "\n",
        "\n"
      ],
      "metadata": {
        "id": "JfLhWmj4iQOk"
      }
    },
    {
      "cell_type": "markdown",
      "source": [
        "##2._Obten información del DataFrame con los métodos y propiedades: shape, columns, head(), dtypes, info(), isna()"
      ],
      "metadata": {
        "id": "jqoUnohwzZBs"
      }
    },
    {
      "cell_type": "code",
      "source": [
        "df.shape\n"
      ],
      "metadata": {
        "colab": {
          "base_uri": "https://localhost:8080/"
        },
        "id": "oG4TmEBgzrXk",
        "outputId": "668ca133-bee4-4e0a-a1dc-37eeb38445ad"
      },
      "execution_count": null,
      "outputs": [
        {
          "output_type": "execute_result",
          "data": {
            "text/plain": [
              "(30000, 24)"
            ]
          },
          "metadata": {},
          "execution_count": 152
        }
      ]
    },
    {
      "cell_type": "code",
      "source": [
        "df.columns"
      ],
      "metadata": {
        "colab": {
          "base_uri": "https://localhost:8080/"
        },
        "id": "Rqpbrk6H3wBn",
        "outputId": "3054a6ef-82c7-4c07-8401-fc74d4c8ef08"
      },
      "execution_count": null,
      "outputs": [
        {
          "output_type": "execute_result",
          "data": {
            "text/plain": [
              "Index(['X1', 'X2', 'X3', 'X4', 'X5', 'X6', 'X7', 'X8', 'X9', 'X10', 'X11',\n",
              "       'X12', 'X13', 'X14', 'X15', 'X16', 'X17', 'X18', 'X19', 'X20', 'X21',\n",
              "       'X22', 'X23', 'Y'],\n",
              "      dtype='object')"
            ]
          },
          "metadata": {},
          "execution_count": 153
        }
      ]
    },
    {
      "cell_type": "code",
      "source": [
        "df.head()"
      ],
      "metadata": {
        "colab": {
          "base_uri": "https://localhost:8080/",
          "height": 267
        },
        "id": "coobG0BX3-7j",
        "outputId": "45e25bb5-b050-403a-db06-cf0f1d05312a"
      },
      "execution_count": null,
      "outputs": [
        {
          "output_type": "execute_result",
          "data": {
            "text/plain": [
              "        X1   X2   X3   X4    X5   X6   X7   X8   X9  X10  ...      X15  \\\n",
              "ID                                                        ...            \n",
              "1    20000  2.0  2.0  1.0  24.0  2.0  2.0 -1.0 -1.0 -2.0  ...      0.0   \n",
              "2   120000  2.0  2.0  2.0  26.0 -1.0  2.0  0.0  0.0  0.0  ...   3272.0   \n",
              "3    90000  2.0  2.0  2.0  34.0  0.0  0.0  0.0  0.0  0.0  ...  14331.0   \n",
              "4    50000  2.0  2.0  1.0  37.0  0.0  0.0  0.0  0.0  0.0  ...  28314.0   \n",
              "5    50000  1.0  2.0  1.0  57.0 -1.0  0.0 -1.0  0.0  0.0  ...  20940.0   \n",
              "\n",
              "        X16      X17     X18      X19      X20     X21     X22     X23    Y  \n",
              "ID                                                                           \n",
              "1       0.0      0.0     0.0    689.0      0.0     0.0     0.0     0.0  1.0  \n",
              "2    3455.0   3261.0     0.0   1000.0   1000.0  1000.0     0.0  2000.0  1.0  \n",
              "3   14948.0  15549.0  1518.0   1500.0   1000.0  1000.0  1000.0  5000.0  0.0  \n",
              "4   28959.0  29547.0  2000.0   2019.0   1200.0  1100.0  1069.0  1000.0  0.0  \n",
              "5   19146.0  19131.0  2000.0  36681.0  10000.0  9000.0   689.0   679.0  0.0  \n",
              "\n",
              "[5 rows x 24 columns]"
            ],
            "text/html": [
              "\n",
              "  <div id=\"df-fec29fc1-0efb-452d-aa60-15933450f5cf\">\n",
              "    <div class=\"colab-df-container\">\n",
              "      <div>\n",
              "<style scoped>\n",
              "    .dataframe tbody tr th:only-of-type {\n",
              "        vertical-align: middle;\n",
              "    }\n",
              "\n",
              "    .dataframe tbody tr th {\n",
              "        vertical-align: top;\n",
              "    }\n",
              "\n",
              "    .dataframe thead th {\n",
              "        text-align: right;\n",
              "    }\n",
              "</style>\n",
              "<table border=\"1\" class=\"dataframe\">\n",
              "  <thead>\n",
              "    <tr style=\"text-align: right;\">\n",
              "      <th></th>\n",
              "      <th>X1</th>\n",
              "      <th>X2</th>\n",
              "      <th>X3</th>\n",
              "      <th>X4</th>\n",
              "      <th>X5</th>\n",
              "      <th>X6</th>\n",
              "      <th>X7</th>\n",
              "      <th>X8</th>\n",
              "      <th>X9</th>\n",
              "      <th>X10</th>\n",
              "      <th>...</th>\n",
              "      <th>X15</th>\n",
              "      <th>X16</th>\n",
              "      <th>X17</th>\n",
              "      <th>X18</th>\n",
              "      <th>X19</th>\n",
              "      <th>X20</th>\n",
              "      <th>X21</th>\n",
              "      <th>X22</th>\n",
              "      <th>X23</th>\n",
              "      <th>Y</th>\n",
              "    </tr>\n",
              "    <tr>\n",
              "      <th>ID</th>\n",
              "      <th></th>\n",
              "      <th></th>\n",
              "      <th></th>\n",
              "      <th></th>\n",
              "      <th></th>\n",
              "      <th></th>\n",
              "      <th></th>\n",
              "      <th></th>\n",
              "      <th></th>\n",
              "      <th></th>\n",
              "      <th></th>\n",
              "      <th></th>\n",
              "      <th></th>\n",
              "      <th></th>\n",
              "      <th></th>\n",
              "      <th></th>\n",
              "      <th></th>\n",
              "      <th></th>\n",
              "      <th></th>\n",
              "      <th></th>\n",
              "      <th></th>\n",
              "    </tr>\n",
              "  </thead>\n",
              "  <tbody>\n",
              "    <tr>\n",
              "      <th>1</th>\n",
              "      <td>20000</td>\n",
              "      <td>2.0</td>\n",
              "      <td>2.0</td>\n",
              "      <td>1.0</td>\n",
              "      <td>24.0</td>\n",
              "      <td>2.0</td>\n",
              "      <td>2.0</td>\n",
              "      <td>-1.0</td>\n",
              "      <td>-1.0</td>\n",
              "      <td>-2.0</td>\n",
              "      <td>...</td>\n",
              "      <td>0.0</td>\n",
              "      <td>0.0</td>\n",
              "      <td>0.0</td>\n",
              "      <td>0.0</td>\n",
              "      <td>689.0</td>\n",
              "      <td>0.0</td>\n",
              "      <td>0.0</td>\n",
              "      <td>0.0</td>\n",
              "      <td>0.0</td>\n",
              "      <td>1.0</td>\n",
              "    </tr>\n",
              "    <tr>\n",
              "      <th>2</th>\n",
              "      <td>120000</td>\n",
              "      <td>2.0</td>\n",
              "      <td>2.0</td>\n",
              "      <td>2.0</td>\n",
              "      <td>26.0</td>\n",
              "      <td>-1.0</td>\n",
              "      <td>2.0</td>\n",
              "      <td>0.0</td>\n",
              "      <td>0.0</td>\n",
              "      <td>0.0</td>\n",
              "      <td>...</td>\n",
              "      <td>3272.0</td>\n",
              "      <td>3455.0</td>\n",
              "      <td>3261.0</td>\n",
              "      <td>0.0</td>\n",
              "      <td>1000.0</td>\n",
              "      <td>1000.0</td>\n",
              "      <td>1000.0</td>\n",
              "      <td>0.0</td>\n",
              "      <td>2000.0</td>\n",
              "      <td>1.0</td>\n",
              "    </tr>\n",
              "    <tr>\n",
              "      <th>3</th>\n",
              "      <td>90000</td>\n",
              "      <td>2.0</td>\n",
              "      <td>2.0</td>\n",
              "      <td>2.0</td>\n",
              "      <td>34.0</td>\n",
              "      <td>0.0</td>\n",
              "      <td>0.0</td>\n",
              "      <td>0.0</td>\n",
              "      <td>0.0</td>\n",
              "      <td>0.0</td>\n",
              "      <td>...</td>\n",
              "      <td>14331.0</td>\n",
              "      <td>14948.0</td>\n",
              "      <td>15549.0</td>\n",
              "      <td>1518.0</td>\n",
              "      <td>1500.0</td>\n",
              "      <td>1000.0</td>\n",
              "      <td>1000.0</td>\n",
              "      <td>1000.0</td>\n",
              "      <td>5000.0</td>\n",
              "      <td>0.0</td>\n",
              "    </tr>\n",
              "    <tr>\n",
              "      <th>4</th>\n",
              "      <td>50000</td>\n",
              "      <td>2.0</td>\n",
              "      <td>2.0</td>\n",
              "      <td>1.0</td>\n",
              "      <td>37.0</td>\n",
              "      <td>0.0</td>\n",
              "      <td>0.0</td>\n",
              "      <td>0.0</td>\n",
              "      <td>0.0</td>\n",
              "      <td>0.0</td>\n",
              "      <td>...</td>\n",
              "      <td>28314.0</td>\n",
              "      <td>28959.0</td>\n",
              "      <td>29547.0</td>\n",
              "      <td>2000.0</td>\n",
              "      <td>2019.0</td>\n",
              "      <td>1200.0</td>\n",
              "      <td>1100.0</td>\n",
              "      <td>1069.0</td>\n",
              "      <td>1000.0</td>\n",
              "      <td>0.0</td>\n",
              "    </tr>\n",
              "    <tr>\n",
              "      <th>5</th>\n",
              "      <td>50000</td>\n",
              "      <td>1.0</td>\n",
              "      <td>2.0</td>\n",
              "      <td>1.0</td>\n",
              "      <td>57.0</td>\n",
              "      <td>-1.0</td>\n",
              "      <td>0.0</td>\n",
              "      <td>-1.0</td>\n",
              "      <td>0.0</td>\n",
              "      <td>0.0</td>\n",
              "      <td>...</td>\n",
              "      <td>20940.0</td>\n",
              "      <td>19146.0</td>\n",
              "      <td>19131.0</td>\n",
              "      <td>2000.0</td>\n",
              "      <td>36681.0</td>\n",
              "      <td>10000.0</td>\n",
              "      <td>9000.0</td>\n",
              "      <td>689.0</td>\n",
              "      <td>679.0</td>\n",
              "      <td>0.0</td>\n",
              "    </tr>\n",
              "  </tbody>\n",
              "</table>\n",
              "<p>5 rows × 24 columns</p>\n",
              "</div>\n",
              "      <button class=\"colab-df-convert\" onclick=\"convertToInteractive('df-fec29fc1-0efb-452d-aa60-15933450f5cf')\"\n",
              "              title=\"Convert this dataframe to an interactive table.\"\n",
              "              style=\"display:none;\">\n",
              "        \n",
              "  <svg xmlns=\"http://www.w3.org/2000/svg\" height=\"24px\"viewBox=\"0 0 24 24\"\n",
              "       width=\"24px\">\n",
              "    <path d=\"M0 0h24v24H0V0z\" fill=\"none\"/>\n",
              "    <path d=\"M18.56 5.44l.94 2.06.94-2.06 2.06-.94-2.06-.94-.94-2.06-.94 2.06-2.06.94zm-11 1L8.5 8.5l.94-2.06 2.06-.94-2.06-.94L8.5 2.5l-.94 2.06-2.06.94zm10 10l.94 2.06.94-2.06 2.06-.94-2.06-.94-.94-2.06-.94 2.06-2.06.94z\"/><path d=\"M17.41 7.96l-1.37-1.37c-.4-.4-.92-.59-1.43-.59-.52 0-1.04.2-1.43.59L10.3 9.45l-7.72 7.72c-.78.78-.78 2.05 0 2.83L4 21.41c.39.39.9.59 1.41.59.51 0 1.02-.2 1.41-.59l7.78-7.78 2.81-2.81c.8-.78.8-2.07 0-2.86zM5.41 20L4 18.59l7.72-7.72 1.47 1.35L5.41 20z\"/>\n",
              "  </svg>\n",
              "      </button>\n",
              "      \n",
              "  <style>\n",
              "    .colab-df-container {\n",
              "      display:flex;\n",
              "      flex-wrap:wrap;\n",
              "      gap: 12px;\n",
              "    }\n",
              "\n",
              "    .colab-df-convert {\n",
              "      background-color: #E8F0FE;\n",
              "      border: none;\n",
              "      border-radius: 50%;\n",
              "      cursor: pointer;\n",
              "      display: none;\n",
              "      fill: #1967D2;\n",
              "      height: 32px;\n",
              "      padding: 0 0 0 0;\n",
              "      width: 32px;\n",
              "    }\n",
              "\n",
              "    .colab-df-convert:hover {\n",
              "      background-color: #E2EBFA;\n",
              "      box-shadow: 0px 1px 2px rgba(60, 64, 67, 0.3), 0px 1px 3px 1px rgba(60, 64, 67, 0.15);\n",
              "      fill: #174EA6;\n",
              "    }\n",
              "\n",
              "    [theme=dark] .colab-df-convert {\n",
              "      background-color: #3B4455;\n",
              "      fill: #D2E3FC;\n",
              "    }\n",
              "\n",
              "    [theme=dark] .colab-df-convert:hover {\n",
              "      background-color: #434B5C;\n",
              "      box-shadow: 0px 1px 3px 1px rgba(0, 0, 0, 0.15);\n",
              "      filter: drop-shadow(0px 1px 2px rgba(0, 0, 0, 0.3));\n",
              "      fill: #FFFFFF;\n",
              "    }\n",
              "  </style>\n",
              "\n",
              "      <script>\n",
              "        const buttonEl =\n",
              "          document.querySelector('#df-fec29fc1-0efb-452d-aa60-15933450f5cf button.colab-df-convert');\n",
              "        buttonEl.style.display =\n",
              "          google.colab.kernel.accessAllowed ? 'block' : 'none';\n",
              "\n",
              "        async function convertToInteractive(key) {\n",
              "          const element = document.querySelector('#df-fec29fc1-0efb-452d-aa60-15933450f5cf');\n",
              "          const dataTable =\n",
              "            await google.colab.kernel.invokeFunction('convertToInteractive',\n",
              "                                                     [key], {});\n",
              "          if (!dataTable) return;\n",
              "\n",
              "          const docLinkHtml = 'Like what you see? Visit the ' +\n",
              "            '<a target=\"_blank\" href=https://colab.research.google.com/notebooks/data_table.ipynb>data table notebook</a>'\n",
              "            + ' to learn more about interactive tables.';\n",
              "          element.innerHTML = '';\n",
              "          dataTable['output_type'] = 'display_data';\n",
              "          await google.colab.output.renderOutput(dataTable, element);\n",
              "          const docLink = document.createElement('div');\n",
              "          docLink.innerHTML = docLinkHtml;\n",
              "          element.appendChild(docLink);\n",
              "        }\n",
              "      </script>\n",
              "    </div>\n",
              "  </div>\n",
              "  "
            ]
          },
          "metadata": {},
          "execution_count": 154
        }
      ]
    },
    {
      "cell_type": "code",
      "source": [
        "df.dtypes"
      ],
      "metadata": {
        "colab": {
          "base_uri": "https://localhost:8080/"
        },
        "id": "n5WD50hE4DR0",
        "outputId": "d48fe73e-2b94-456e-d0e6-7e4d32c920bf"
      },
      "execution_count": null,
      "outputs": [
        {
          "output_type": "execute_result",
          "data": {
            "text/plain": [
              "X1       int64\n",
              "X2     float64\n",
              "X3     float64\n",
              "X4     float64\n",
              "X5     float64\n",
              "X6     float64\n",
              "X7     float64\n",
              "X8     float64\n",
              "X9     float64\n",
              "X10    float64\n",
              "X11    float64\n",
              "X12    float64\n",
              "X13    float64\n",
              "X14    float64\n",
              "X15    float64\n",
              "X16    float64\n",
              "X17    float64\n",
              "X18    float64\n",
              "X19    float64\n",
              "X20    float64\n",
              "X21    float64\n",
              "X22    float64\n",
              "X23    float64\n",
              "Y      float64\n",
              "dtype: object"
            ]
          },
          "metadata": {},
          "execution_count": 155
        }
      ]
    },
    {
      "cell_type": "code",
      "source": [
        "df.info()"
      ],
      "metadata": {
        "colab": {
          "base_uri": "https://localhost:8080/"
        },
        "id": "AnCRdK9Y4LK7",
        "outputId": "c464fe5b-0666-4456-84b6-50a3c969baa7"
      },
      "execution_count": null,
      "outputs": [
        {
          "output_type": "stream",
          "name": "stdout",
          "text": [
            "<class 'pandas.core.frame.DataFrame'>\n",
            "Int64Index: 30000 entries, 1 to 30000\n",
            "Data columns (total 24 columns):\n",
            " #   Column  Non-Null Count  Dtype  \n",
            "---  ------  --------------  -----  \n",
            " 0   X1      30000 non-null  int64  \n",
            " 1   X2      29999 non-null  float64\n",
            " 2   X3      29998 non-null  float64\n",
            " 3   X4      29998 non-null  float64\n",
            " 4   X5      29995 non-null  float64\n",
            " 5   X6      29997 non-null  float64\n",
            " 6   X7      29995 non-null  float64\n",
            " 7   X8      29993 non-null  float64\n",
            " 8   X9      29991 non-null  float64\n",
            " 9   X10     29984 non-null  float64\n",
            " 10  X11     29986 non-null  float64\n",
            " 11  X12     29989 non-null  float64\n",
            " 12  X13     29989 non-null  float64\n",
            " 13  X14     29987 non-null  float64\n",
            " 14  X15     29985 non-null  float64\n",
            " 15  X16     29983 non-null  float64\n",
            " 16  X17     29990 non-null  float64\n",
            " 17  X18     29992 non-null  float64\n",
            " 18  X19     29991 non-null  float64\n",
            " 19  X20     29992 non-null  float64\n",
            " 20  X21     29989 non-null  float64\n",
            " 21  X22     29989 non-null  float64\n",
            " 22  X23     29995 non-null  float64\n",
            " 23  Y       29997 non-null  float64\n",
            "dtypes: float64(23), int64(1)\n",
            "memory usage: 5.7 MB\n"
          ]
        }
      ]
    },
    {
      "cell_type": "code",
      "source": [
        "df.isna()"
      ],
      "metadata": {
        "colab": {
          "base_uri": "https://localhost:8080/",
          "height": 455
        },
        "id": "6kFBQQzC4RRL",
        "outputId": "f80fd656-de17-4446-80a3-4cc9c4a6dcbd"
      },
      "execution_count": null,
      "outputs": [
        {
          "output_type": "execute_result",
          "data": {
            "text/plain": [
              "          X1     X2     X3     X4     X5     X6     X7     X8     X9    X10  \\\n",
              "ID                                                                            \n",
              "1      False  False  False  False  False  False  False  False  False  False   \n",
              "2      False  False  False  False  False  False  False  False  False  False   \n",
              "3      False  False  False  False  False  False  False  False  False  False   \n",
              "4      False  False  False  False  False  False  False  False  False  False   \n",
              "5      False  False  False  False  False  False  False  False  False  False   \n",
              "...      ...    ...    ...    ...    ...    ...    ...    ...    ...    ...   \n",
              "29996  False  False  False  False  False  False  False  False  False  False   \n",
              "29997  False  False  False  False  False  False  False  False  False  False   \n",
              "29998  False  False  False  False  False  False  False  False  False  False   \n",
              "29999  False  False  False  False  False  False  False  False  False  False   \n",
              "30000  False  False  False  False  False  False  False  False  False  False   \n",
              "\n",
              "       ...    X15    X16    X17    X18    X19    X20    X21    X22    X23  \\\n",
              "ID     ...                                                                  \n",
              "1      ...  False  False  False  False  False  False  False  False  False   \n",
              "2      ...  False  False  False  False  False  False  False  False  False   \n",
              "3      ...  False  False  False  False  False  False  False  False  False   \n",
              "4      ...  False  False  False  False  False  False  False  False  False   \n",
              "5      ...  False  False  False  False  False  False  False  False  False   \n",
              "...    ...    ...    ...    ...    ...    ...    ...    ...    ...    ...   \n",
              "29996  ...  False  False  False  False  False  False  False  False  False   \n",
              "29997  ...  False  False  False  False  False  False  False  False  False   \n",
              "29998  ...  False  False  False  False  False  False  False  False  False   \n",
              "29999  ...  False  False  False  False  False  False  False  False  False   \n",
              "30000  ...  False  False  False  False  False  False  False  False  False   \n",
              "\n",
              "           Y  \n",
              "ID            \n",
              "1      False  \n",
              "2      False  \n",
              "3      False  \n",
              "4      False  \n",
              "5      False  \n",
              "...      ...  \n",
              "29996  False  \n",
              "29997  False  \n",
              "29998  False  \n",
              "29999  False  \n",
              "30000  False  \n",
              "\n",
              "[30000 rows x 24 columns]"
            ],
            "text/html": [
              "\n",
              "  <div id=\"df-62785c2d-78b0-4c41-8ab6-a4a3c2a8cc65\">\n",
              "    <div class=\"colab-df-container\">\n",
              "      <div>\n",
              "<style scoped>\n",
              "    .dataframe tbody tr th:only-of-type {\n",
              "        vertical-align: middle;\n",
              "    }\n",
              "\n",
              "    .dataframe tbody tr th {\n",
              "        vertical-align: top;\n",
              "    }\n",
              "\n",
              "    .dataframe thead th {\n",
              "        text-align: right;\n",
              "    }\n",
              "</style>\n",
              "<table border=\"1\" class=\"dataframe\">\n",
              "  <thead>\n",
              "    <tr style=\"text-align: right;\">\n",
              "      <th></th>\n",
              "      <th>X1</th>\n",
              "      <th>X2</th>\n",
              "      <th>X3</th>\n",
              "      <th>X4</th>\n",
              "      <th>X5</th>\n",
              "      <th>X6</th>\n",
              "      <th>X7</th>\n",
              "      <th>X8</th>\n",
              "      <th>X9</th>\n",
              "      <th>X10</th>\n",
              "      <th>...</th>\n",
              "      <th>X15</th>\n",
              "      <th>X16</th>\n",
              "      <th>X17</th>\n",
              "      <th>X18</th>\n",
              "      <th>X19</th>\n",
              "      <th>X20</th>\n",
              "      <th>X21</th>\n",
              "      <th>X22</th>\n",
              "      <th>X23</th>\n",
              "      <th>Y</th>\n",
              "    </tr>\n",
              "    <tr>\n",
              "      <th>ID</th>\n",
              "      <th></th>\n",
              "      <th></th>\n",
              "      <th></th>\n",
              "      <th></th>\n",
              "      <th></th>\n",
              "      <th></th>\n",
              "      <th></th>\n",
              "      <th></th>\n",
              "      <th></th>\n",
              "      <th></th>\n",
              "      <th></th>\n",
              "      <th></th>\n",
              "      <th></th>\n",
              "      <th></th>\n",
              "      <th></th>\n",
              "      <th></th>\n",
              "      <th></th>\n",
              "      <th></th>\n",
              "      <th></th>\n",
              "      <th></th>\n",
              "      <th></th>\n",
              "    </tr>\n",
              "  </thead>\n",
              "  <tbody>\n",
              "    <tr>\n",
              "      <th>1</th>\n",
              "      <td>False</td>\n",
              "      <td>False</td>\n",
              "      <td>False</td>\n",
              "      <td>False</td>\n",
              "      <td>False</td>\n",
              "      <td>False</td>\n",
              "      <td>False</td>\n",
              "      <td>False</td>\n",
              "      <td>False</td>\n",
              "      <td>False</td>\n",
              "      <td>...</td>\n",
              "      <td>False</td>\n",
              "      <td>False</td>\n",
              "      <td>False</td>\n",
              "      <td>False</td>\n",
              "      <td>False</td>\n",
              "      <td>False</td>\n",
              "      <td>False</td>\n",
              "      <td>False</td>\n",
              "      <td>False</td>\n",
              "      <td>False</td>\n",
              "    </tr>\n",
              "    <tr>\n",
              "      <th>2</th>\n",
              "      <td>False</td>\n",
              "      <td>False</td>\n",
              "      <td>False</td>\n",
              "      <td>False</td>\n",
              "      <td>False</td>\n",
              "      <td>False</td>\n",
              "      <td>False</td>\n",
              "      <td>False</td>\n",
              "      <td>False</td>\n",
              "      <td>False</td>\n",
              "      <td>...</td>\n",
              "      <td>False</td>\n",
              "      <td>False</td>\n",
              "      <td>False</td>\n",
              "      <td>False</td>\n",
              "      <td>False</td>\n",
              "      <td>False</td>\n",
              "      <td>False</td>\n",
              "      <td>False</td>\n",
              "      <td>False</td>\n",
              "      <td>False</td>\n",
              "    </tr>\n",
              "    <tr>\n",
              "      <th>3</th>\n",
              "      <td>False</td>\n",
              "      <td>False</td>\n",
              "      <td>False</td>\n",
              "      <td>False</td>\n",
              "      <td>False</td>\n",
              "      <td>False</td>\n",
              "      <td>False</td>\n",
              "      <td>False</td>\n",
              "      <td>False</td>\n",
              "      <td>False</td>\n",
              "      <td>...</td>\n",
              "      <td>False</td>\n",
              "      <td>False</td>\n",
              "      <td>False</td>\n",
              "      <td>False</td>\n",
              "      <td>False</td>\n",
              "      <td>False</td>\n",
              "      <td>False</td>\n",
              "      <td>False</td>\n",
              "      <td>False</td>\n",
              "      <td>False</td>\n",
              "    </tr>\n",
              "    <tr>\n",
              "      <th>4</th>\n",
              "      <td>False</td>\n",
              "      <td>False</td>\n",
              "      <td>False</td>\n",
              "      <td>False</td>\n",
              "      <td>False</td>\n",
              "      <td>False</td>\n",
              "      <td>False</td>\n",
              "      <td>False</td>\n",
              "      <td>False</td>\n",
              "      <td>False</td>\n",
              "      <td>...</td>\n",
              "      <td>False</td>\n",
              "      <td>False</td>\n",
              "      <td>False</td>\n",
              "      <td>False</td>\n",
              "      <td>False</td>\n",
              "      <td>False</td>\n",
              "      <td>False</td>\n",
              "      <td>False</td>\n",
              "      <td>False</td>\n",
              "      <td>False</td>\n",
              "    </tr>\n",
              "    <tr>\n",
              "      <th>5</th>\n",
              "      <td>False</td>\n",
              "      <td>False</td>\n",
              "      <td>False</td>\n",
              "      <td>False</td>\n",
              "      <td>False</td>\n",
              "      <td>False</td>\n",
              "      <td>False</td>\n",
              "      <td>False</td>\n",
              "      <td>False</td>\n",
              "      <td>False</td>\n",
              "      <td>...</td>\n",
              "      <td>False</td>\n",
              "      <td>False</td>\n",
              "      <td>False</td>\n",
              "      <td>False</td>\n",
              "      <td>False</td>\n",
              "      <td>False</td>\n",
              "      <td>False</td>\n",
              "      <td>False</td>\n",
              "      <td>False</td>\n",
              "      <td>False</td>\n",
              "    </tr>\n",
              "    <tr>\n",
              "      <th>...</th>\n",
              "      <td>...</td>\n",
              "      <td>...</td>\n",
              "      <td>...</td>\n",
              "      <td>...</td>\n",
              "      <td>...</td>\n",
              "      <td>...</td>\n",
              "      <td>...</td>\n",
              "      <td>...</td>\n",
              "      <td>...</td>\n",
              "      <td>...</td>\n",
              "      <td>...</td>\n",
              "      <td>...</td>\n",
              "      <td>...</td>\n",
              "      <td>...</td>\n",
              "      <td>...</td>\n",
              "      <td>...</td>\n",
              "      <td>...</td>\n",
              "      <td>...</td>\n",
              "      <td>...</td>\n",
              "      <td>...</td>\n",
              "      <td>...</td>\n",
              "    </tr>\n",
              "    <tr>\n",
              "      <th>29996</th>\n",
              "      <td>False</td>\n",
              "      <td>False</td>\n",
              "      <td>False</td>\n",
              "      <td>False</td>\n",
              "      <td>False</td>\n",
              "      <td>False</td>\n",
              "      <td>False</td>\n",
              "      <td>False</td>\n",
              "      <td>False</td>\n",
              "      <td>False</td>\n",
              "      <td>...</td>\n",
              "      <td>False</td>\n",
              "      <td>False</td>\n",
              "      <td>False</td>\n",
              "      <td>False</td>\n",
              "      <td>False</td>\n",
              "      <td>False</td>\n",
              "      <td>False</td>\n",
              "      <td>False</td>\n",
              "      <td>False</td>\n",
              "      <td>False</td>\n",
              "    </tr>\n",
              "    <tr>\n",
              "      <th>29997</th>\n",
              "      <td>False</td>\n",
              "      <td>False</td>\n",
              "      <td>False</td>\n",
              "      <td>False</td>\n",
              "      <td>False</td>\n",
              "      <td>False</td>\n",
              "      <td>False</td>\n",
              "      <td>False</td>\n",
              "      <td>False</td>\n",
              "      <td>False</td>\n",
              "      <td>...</td>\n",
              "      <td>False</td>\n",
              "      <td>False</td>\n",
              "      <td>False</td>\n",
              "      <td>False</td>\n",
              "      <td>False</td>\n",
              "      <td>False</td>\n",
              "      <td>False</td>\n",
              "      <td>False</td>\n",
              "      <td>False</td>\n",
              "      <td>False</td>\n",
              "    </tr>\n",
              "    <tr>\n",
              "      <th>29998</th>\n",
              "      <td>False</td>\n",
              "      <td>False</td>\n",
              "      <td>False</td>\n",
              "      <td>False</td>\n",
              "      <td>False</td>\n",
              "      <td>False</td>\n",
              "      <td>False</td>\n",
              "      <td>False</td>\n",
              "      <td>False</td>\n",
              "      <td>False</td>\n",
              "      <td>...</td>\n",
              "      <td>False</td>\n",
              "      <td>False</td>\n",
              "      <td>False</td>\n",
              "      <td>False</td>\n",
              "      <td>False</td>\n",
              "      <td>False</td>\n",
              "      <td>False</td>\n",
              "      <td>False</td>\n",
              "      <td>False</td>\n",
              "      <td>False</td>\n",
              "    </tr>\n",
              "    <tr>\n",
              "      <th>29999</th>\n",
              "      <td>False</td>\n",
              "      <td>False</td>\n",
              "      <td>False</td>\n",
              "      <td>False</td>\n",
              "      <td>False</td>\n",
              "      <td>False</td>\n",
              "      <td>False</td>\n",
              "      <td>False</td>\n",
              "      <td>False</td>\n",
              "      <td>False</td>\n",
              "      <td>...</td>\n",
              "      <td>False</td>\n",
              "      <td>False</td>\n",
              "      <td>False</td>\n",
              "      <td>False</td>\n",
              "      <td>False</td>\n",
              "      <td>False</td>\n",
              "      <td>False</td>\n",
              "      <td>False</td>\n",
              "      <td>False</td>\n",
              "      <td>False</td>\n",
              "    </tr>\n",
              "    <tr>\n",
              "      <th>30000</th>\n",
              "      <td>False</td>\n",
              "      <td>False</td>\n",
              "      <td>False</td>\n",
              "      <td>False</td>\n",
              "      <td>False</td>\n",
              "      <td>False</td>\n",
              "      <td>False</td>\n",
              "      <td>False</td>\n",
              "      <td>False</td>\n",
              "      <td>False</td>\n",
              "      <td>...</td>\n",
              "      <td>False</td>\n",
              "      <td>False</td>\n",
              "      <td>False</td>\n",
              "      <td>False</td>\n",
              "      <td>False</td>\n",
              "      <td>False</td>\n",
              "      <td>False</td>\n",
              "      <td>False</td>\n",
              "      <td>False</td>\n",
              "      <td>False</td>\n",
              "    </tr>\n",
              "  </tbody>\n",
              "</table>\n",
              "<p>30000 rows × 24 columns</p>\n",
              "</div>\n",
              "      <button class=\"colab-df-convert\" onclick=\"convertToInteractive('df-62785c2d-78b0-4c41-8ab6-a4a3c2a8cc65')\"\n",
              "              title=\"Convert this dataframe to an interactive table.\"\n",
              "              style=\"display:none;\">\n",
              "        \n",
              "  <svg xmlns=\"http://www.w3.org/2000/svg\" height=\"24px\"viewBox=\"0 0 24 24\"\n",
              "       width=\"24px\">\n",
              "    <path d=\"M0 0h24v24H0V0z\" fill=\"none\"/>\n",
              "    <path d=\"M18.56 5.44l.94 2.06.94-2.06 2.06-.94-2.06-.94-.94-2.06-.94 2.06-2.06.94zm-11 1L8.5 8.5l.94-2.06 2.06-.94-2.06-.94L8.5 2.5l-.94 2.06-2.06.94zm10 10l.94 2.06.94-2.06 2.06-.94-2.06-.94-.94-2.06-.94 2.06-2.06.94z\"/><path d=\"M17.41 7.96l-1.37-1.37c-.4-.4-.92-.59-1.43-.59-.52 0-1.04.2-1.43.59L10.3 9.45l-7.72 7.72c-.78.78-.78 2.05 0 2.83L4 21.41c.39.39.9.59 1.41.59.51 0 1.02-.2 1.41-.59l7.78-7.78 2.81-2.81c.8-.78.8-2.07 0-2.86zM5.41 20L4 18.59l7.72-7.72 1.47 1.35L5.41 20z\"/>\n",
              "  </svg>\n",
              "      </button>\n",
              "      \n",
              "  <style>\n",
              "    .colab-df-container {\n",
              "      display:flex;\n",
              "      flex-wrap:wrap;\n",
              "      gap: 12px;\n",
              "    }\n",
              "\n",
              "    .colab-df-convert {\n",
              "      background-color: #E8F0FE;\n",
              "      border: none;\n",
              "      border-radius: 50%;\n",
              "      cursor: pointer;\n",
              "      display: none;\n",
              "      fill: #1967D2;\n",
              "      height: 32px;\n",
              "      padding: 0 0 0 0;\n",
              "      width: 32px;\n",
              "    }\n",
              "\n",
              "    .colab-df-convert:hover {\n",
              "      background-color: #E2EBFA;\n",
              "      box-shadow: 0px 1px 2px rgba(60, 64, 67, 0.3), 0px 1px 3px 1px rgba(60, 64, 67, 0.15);\n",
              "      fill: #174EA6;\n",
              "    }\n",
              "\n",
              "    [theme=dark] .colab-df-convert {\n",
              "      background-color: #3B4455;\n",
              "      fill: #D2E3FC;\n",
              "    }\n",
              "\n",
              "    [theme=dark] .colab-df-convert:hover {\n",
              "      background-color: #434B5C;\n",
              "      box-shadow: 0px 1px 3px 1px rgba(0, 0, 0, 0.15);\n",
              "      filter: drop-shadow(0px 1px 2px rgba(0, 0, 0, 0.3));\n",
              "      fill: #FFFFFF;\n",
              "    }\n",
              "  </style>\n",
              "\n",
              "      <script>\n",
              "        const buttonEl =\n",
              "          document.querySelector('#df-62785c2d-78b0-4c41-8ab6-a4a3c2a8cc65 button.colab-df-convert');\n",
              "        buttonEl.style.display =\n",
              "          google.colab.kernel.accessAllowed ? 'block' : 'none';\n",
              "\n",
              "        async function convertToInteractive(key) {\n",
              "          const element = document.querySelector('#df-62785c2d-78b0-4c41-8ab6-a4a3c2a8cc65');\n",
              "          const dataTable =\n",
              "            await google.colab.kernel.invokeFunction('convertToInteractive',\n",
              "                                                     [key], {});\n",
              "          if (!dataTable) return;\n",
              "\n",
              "          const docLinkHtml = 'Like what you see? Visit the ' +\n",
              "            '<a target=\"_blank\" href=https://colab.research.google.com/notebooks/data_table.ipynb>data table notebook</a>'\n",
              "            + ' to learn more about interactive tables.';\n",
              "          element.innerHTML = '';\n",
              "          dataTable['output_type'] = 'display_data';\n",
              "          await google.colab.output.renderOutput(dataTable, element);\n",
              "          const docLink = document.createElement('div');\n",
              "          docLink.innerHTML = docLinkHtml;\n",
              "          element.appendChild(docLink);\n",
              "        }\n",
              "      </script>\n",
              "    </div>\n",
              "  </div>\n",
              "  "
            ]
          },
          "metadata": {},
          "execution_count": 157
        }
      ]
    },
    {
      "cell_type": "markdown",
      "source": [
        "##3._ Limpia los datos eliminando los registros nulos o rellena con la media de la columna"
      ],
      "metadata": {
        "id": "1wrll4bizscr"
      }
    },
    {
      "cell_type": "code",
      "source": [
        "#Revisamos si las diferentes columnas tiene valores nulos\n",
        "df.isnull().any()"
      ],
      "metadata": {
        "colab": {
          "base_uri": "https://localhost:8080/"
        },
        "id": "wZOnVAdbzzwj",
        "outputId": "cfb1fed6-6476-4c3b-b1dd-fae8bc25c672"
      },
      "execution_count": null,
      "outputs": [
        {
          "output_type": "execute_result",
          "data": {
            "text/plain": [
              "X1     False\n",
              "X2      True\n",
              "X3      True\n",
              "X4      True\n",
              "X5      True\n",
              "X6      True\n",
              "X7      True\n",
              "X8      True\n",
              "X9      True\n",
              "X10     True\n",
              "X11     True\n",
              "X12     True\n",
              "X13     True\n",
              "X14     True\n",
              "X15     True\n",
              "X16     True\n",
              "X17     True\n",
              "X18     True\n",
              "X19     True\n",
              "X20     True\n",
              "X21     True\n",
              "X22     True\n",
              "X23     True\n",
              "Y       True\n",
              "dtype: bool"
            ]
          },
          "metadata": {},
          "execution_count": 158
        }
      ]
    },
    {
      "cell_type": "code",
      "source": [
        "df_clean = df.dropna()"
      ],
      "metadata": {
        "id": "3JM7KQy45EtS"
      },
      "execution_count": null,
      "outputs": []
    },
    {
      "cell_type": "code",
      "source": [
        "df_clean.isnull().any()"
      ],
      "metadata": {
        "colab": {
          "base_uri": "https://localhost:8080/"
        },
        "id": "rRhCMd9A-0O6",
        "outputId": "3790200c-4674-48d7-da84-15349d0eb8fd"
      },
      "execution_count": null,
      "outputs": [
        {
          "output_type": "execute_result",
          "data": {
            "text/plain": [
              "X1     False\n",
              "X2     False\n",
              "X3     False\n",
              "X4     False\n",
              "X5     False\n",
              "X6     False\n",
              "X7     False\n",
              "X8     False\n",
              "X9     False\n",
              "X10    False\n",
              "X11    False\n",
              "X12    False\n",
              "X13    False\n",
              "X14    False\n",
              "X15    False\n",
              "X16    False\n",
              "X17    False\n",
              "X18    False\n",
              "X19    False\n",
              "X20    False\n",
              "X21    False\n",
              "X22    False\n",
              "X23    False\n",
              "Y      False\n",
              "dtype: bool"
            ]
          },
          "metadata": {},
          "execution_count": 160
        }
      ]
    },
    {
      "cell_type": "markdown",
      "source": [
        "##4._Calcula la estadistica descriptiva con describe(), y explica las medidas de tendencia central y dispersión"
      ],
      "metadata": {
        "id": "NtYOJpVDz0P8"
      }
    },
    {
      "cell_type": "code",
      "source": [
        "df_clean.describe()"
      ],
      "metadata": {
        "colab": {
          "base_uri": "https://localhost:8080/",
          "height": 394
        },
        "id": "SIs332fT0Ag0",
        "outputId": "2d37451a-bcfa-4a74-b2a3-ea33ff634dd3"
      },
      "execution_count": null,
      "outputs": [
        {
          "output_type": "execute_result",
          "data": {
            "text/plain": [
              "                   X1            X2            X3            X4            X5  \\\n",
              "count    29958.000000  29958.000000  29958.000000  29958.000000  29958.000000   \n",
              "mean    167555.900928      1.604012      1.853094      1.551739     35.483443   \n",
              "std     129737.299088      0.489070      0.790471      0.521952      9.214319   \n",
              "min      10000.000000      1.000000      0.000000      0.000000     21.000000   \n",
              "25%      50000.000000      1.000000      1.000000      1.000000     28.000000   \n",
              "50%     140000.000000      2.000000      2.000000      2.000000     34.000000   \n",
              "75%     240000.000000      2.000000      2.000000      2.000000     41.000000   \n",
              "max    1000000.000000      2.000000      6.000000      3.000000     79.000000   \n",
              "\n",
              "                 X6            X7            X8            X9           X10  \\\n",
              "count  29958.000000  29958.000000  29958.000000  29958.000000  29958.000000   \n",
              "mean      -0.017124     -0.134021     -0.166767     -0.221110     -0.266807   \n",
              "std        1.123989      1.197171      1.196026      1.168419      1.132307   \n",
              "min       -2.000000     -2.000000     -2.000000     -2.000000     -2.000000   \n",
              "25%       -1.000000     -1.000000     -1.000000     -1.000000     -1.000000   \n",
              "50%        0.000000      0.000000      0.000000      0.000000      0.000000   \n",
              "75%        0.000000      0.000000      0.000000      0.000000      0.000000   \n",
              "max        8.000000      8.000000      8.000000      8.000000      8.000000   \n",
              "\n",
              "       ...            X15            X16            X17            X18  \\\n",
              "count  ...   29958.000000   29958.000000   29958.000000   29958.000000   \n",
              "mean   ...   43279.335370   40328.984578   38889.925763    5664.614460   \n",
              "std    ...   64364.684347   60826.219326   59582.883301   16568.823518   \n",
              "min    ... -170000.000000  -81334.000000 -339603.000000       0.000000   \n",
              "25%    ...    2327.500000    1762.250000    1256.000000    1000.000000   \n",
              "50%    ...   19037.500000   18104.500000   17067.500000    2100.000000   \n",
              "75%    ...   54551.250000   50220.750000   49234.750000    5007.000000   \n",
              "max    ...  891586.000000  927171.000000  961664.000000  873552.000000   \n",
              "\n",
              "                X19            X20            X21            X22  \\\n",
              "count  2.995800e+04   29958.000000   29958.000000   29958.000000   \n",
              "mean   5.925715e+03    5228.429969    4829.873556    4801.481574   \n",
              "std    2.305598e+04   17617.338167   15676.205514   15285.552652   \n",
              "min    0.000000e+00       0.000000       0.000000       0.000000   \n",
              "25%    8.352500e+02     390.000000     296.250000     253.250000   \n",
              "50%    2.009000e+03    1800.000000    1500.000000    1500.000000   \n",
              "75%    5.000000e+03    4511.500000    4014.750000    4040.000000   \n",
              "max    1.684259e+06  896040.000000  621000.000000  426529.000000   \n",
              "\n",
              "                 X23             Y  \n",
              "count   29958.000000  29958.000000  \n",
              "mean     5220.708025      0.221143  \n",
              "std     17788.983767      0.415023  \n",
              "min         0.000000      0.000000  \n",
              "25%       118.000000      0.000000  \n",
              "50%      1500.000000      0.000000  \n",
              "75%      4000.000000      0.000000  \n",
              "max    528666.000000      1.000000  \n",
              "\n",
              "[8 rows x 24 columns]"
            ],
            "text/html": [
              "\n",
              "  <div id=\"df-bce7b8b9-453d-42fd-b27c-0d105d32e911\">\n",
              "    <div class=\"colab-df-container\">\n",
              "      <div>\n",
              "<style scoped>\n",
              "    .dataframe tbody tr th:only-of-type {\n",
              "        vertical-align: middle;\n",
              "    }\n",
              "\n",
              "    .dataframe tbody tr th {\n",
              "        vertical-align: top;\n",
              "    }\n",
              "\n",
              "    .dataframe thead th {\n",
              "        text-align: right;\n",
              "    }\n",
              "</style>\n",
              "<table border=\"1\" class=\"dataframe\">\n",
              "  <thead>\n",
              "    <tr style=\"text-align: right;\">\n",
              "      <th></th>\n",
              "      <th>X1</th>\n",
              "      <th>X2</th>\n",
              "      <th>X3</th>\n",
              "      <th>X4</th>\n",
              "      <th>X5</th>\n",
              "      <th>X6</th>\n",
              "      <th>X7</th>\n",
              "      <th>X8</th>\n",
              "      <th>X9</th>\n",
              "      <th>X10</th>\n",
              "      <th>...</th>\n",
              "      <th>X15</th>\n",
              "      <th>X16</th>\n",
              "      <th>X17</th>\n",
              "      <th>X18</th>\n",
              "      <th>X19</th>\n",
              "      <th>X20</th>\n",
              "      <th>X21</th>\n",
              "      <th>X22</th>\n",
              "      <th>X23</th>\n",
              "      <th>Y</th>\n",
              "    </tr>\n",
              "  </thead>\n",
              "  <tbody>\n",
              "    <tr>\n",
              "      <th>count</th>\n",
              "      <td>29958.000000</td>\n",
              "      <td>29958.000000</td>\n",
              "      <td>29958.000000</td>\n",
              "      <td>29958.000000</td>\n",
              "      <td>29958.000000</td>\n",
              "      <td>29958.000000</td>\n",
              "      <td>29958.000000</td>\n",
              "      <td>29958.000000</td>\n",
              "      <td>29958.000000</td>\n",
              "      <td>29958.000000</td>\n",
              "      <td>...</td>\n",
              "      <td>29958.000000</td>\n",
              "      <td>29958.000000</td>\n",
              "      <td>29958.000000</td>\n",
              "      <td>29958.000000</td>\n",
              "      <td>2.995800e+04</td>\n",
              "      <td>29958.000000</td>\n",
              "      <td>29958.000000</td>\n",
              "      <td>29958.000000</td>\n",
              "      <td>29958.000000</td>\n",
              "      <td>29958.000000</td>\n",
              "    </tr>\n",
              "    <tr>\n",
              "      <th>mean</th>\n",
              "      <td>167555.900928</td>\n",
              "      <td>1.604012</td>\n",
              "      <td>1.853094</td>\n",
              "      <td>1.551739</td>\n",
              "      <td>35.483443</td>\n",
              "      <td>-0.017124</td>\n",
              "      <td>-0.134021</td>\n",
              "      <td>-0.166767</td>\n",
              "      <td>-0.221110</td>\n",
              "      <td>-0.266807</td>\n",
              "      <td>...</td>\n",
              "      <td>43279.335370</td>\n",
              "      <td>40328.984578</td>\n",
              "      <td>38889.925763</td>\n",
              "      <td>5664.614460</td>\n",
              "      <td>5.925715e+03</td>\n",
              "      <td>5228.429969</td>\n",
              "      <td>4829.873556</td>\n",
              "      <td>4801.481574</td>\n",
              "      <td>5220.708025</td>\n",
              "      <td>0.221143</td>\n",
              "    </tr>\n",
              "    <tr>\n",
              "      <th>std</th>\n",
              "      <td>129737.299088</td>\n",
              "      <td>0.489070</td>\n",
              "      <td>0.790471</td>\n",
              "      <td>0.521952</td>\n",
              "      <td>9.214319</td>\n",
              "      <td>1.123989</td>\n",
              "      <td>1.197171</td>\n",
              "      <td>1.196026</td>\n",
              "      <td>1.168419</td>\n",
              "      <td>1.132307</td>\n",
              "      <td>...</td>\n",
              "      <td>64364.684347</td>\n",
              "      <td>60826.219326</td>\n",
              "      <td>59582.883301</td>\n",
              "      <td>16568.823518</td>\n",
              "      <td>2.305598e+04</td>\n",
              "      <td>17617.338167</td>\n",
              "      <td>15676.205514</td>\n",
              "      <td>15285.552652</td>\n",
              "      <td>17788.983767</td>\n",
              "      <td>0.415023</td>\n",
              "    </tr>\n",
              "    <tr>\n",
              "      <th>min</th>\n",
              "      <td>10000.000000</td>\n",
              "      <td>1.000000</td>\n",
              "      <td>0.000000</td>\n",
              "      <td>0.000000</td>\n",
              "      <td>21.000000</td>\n",
              "      <td>-2.000000</td>\n",
              "      <td>-2.000000</td>\n",
              "      <td>-2.000000</td>\n",
              "      <td>-2.000000</td>\n",
              "      <td>-2.000000</td>\n",
              "      <td>...</td>\n",
              "      <td>-170000.000000</td>\n",
              "      <td>-81334.000000</td>\n",
              "      <td>-339603.000000</td>\n",
              "      <td>0.000000</td>\n",
              "      <td>0.000000e+00</td>\n",
              "      <td>0.000000</td>\n",
              "      <td>0.000000</td>\n",
              "      <td>0.000000</td>\n",
              "      <td>0.000000</td>\n",
              "      <td>0.000000</td>\n",
              "    </tr>\n",
              "    <tr>\n",
              "      <th>25%</th>\n",
              "      <td>50000.000000</td>\n",
              "      <td>1.000000</td>\n",
              "      <td>1.000000</td>\n",
              "      <td>1.000000</td>\n",
              "      <td>28.000000</td>\n",
              "      <td>-1.000000</td>\n",
              "      <td>-1.000000</td>\n",
              "      <td>-1.000000</td>\n",
              "      <td>-1.000000</td>\n",
              "      <td>-1.000000</td>\n",
              "      <td>...</td>\n",
              "      <td>2327.500000</td>\n",
              "      <td>1762.250000</td>\n",
              "      <td>1256.000000</td>\n",
              "      <td>1000.000000</td>\n",
              "      <td>8.352500e+02</td>\n",
              "      <td>390.000000</td>\n",
              "      <td>296.250000</td>\n",
              "      <td>253.250000</td>\n",
              "      <td>118.000000</td>\n",
              "      <td>0.000000</td>\n",
              "    </tr>\n",
              "    <tr>\n",
              "      <th>50%</th>\n",
              "      <td>140000.000000</td>\n",
              "      <td>2.000000</td>\n",
              "      <td>2.000000</td>\n",
              "      <td>2.000000</td>\n",
              "      <td>34.000000</td>\n",
              "      <td>0.000000</td>\n",
              "      <td>0.000000</td>\n",
              "      <td>0.000000</td>\n",
              "      <td>0.000000</td>\n",
              "      <td>0.000000</td>\n",
              "      <td>...</td>\n",
              "      <td>19037.500000</td>\n",
              "      <td>18104.500000</td>\n",
              "      <td>17067.500000</td>\n",
              "      <td>2100.000000</td>\n",
              "      <td>2.009000e+03</td>\n",
              "      <td>1800.000000</td>\n",
              "      <td>1500.000000</td>\n",
              "      <td>1500.000000</td>\n",
              "      <td>1500.000000</td>\n",
              "      <td>0.000000</td>\n",
              "    </tr>\n",
              "    <tr>\n",
              "      <th>75%</th>\n",
              "      <td>240000.000000</td>\n",
              "      <td>2.000000</td>\n",
              "      <td>2.000000</td>\n",
              "      <td>2.000000</td>\n",
              "      <td>41.000000</td>\n",
              "      <td>0.000000</td>\n",
              "      <td>0.000000</td>\n",
              "      <td>0.000000</td>\n",
              "      <td>0.000000</td>\n",
              "      <td>0.000000</td>\n",
              "      <td>...</td>\n",
              "      <td>54551.250000</td>\n",
              "      <td>50220.750000</td>\n",
              "      <td>49234.750000</td>\n",
              "      <td>5007.000000</td>\n",
              "      <td>5.000000e+03</td>\n",
              "      <td>4511.500000</td>\n",
              "      <td>4014.750000</td>\n",
              "      <td>4040.000000</td>\n",
              "      <td>4000.000000</td>\n",
              "      <td>0.000000</td>\n",
              "    </tr>\n",
              "    <tr>\n",
              "      <th>max</th>\n",
              "      <td>1000000.000000</td>\n",
              "      <td>2.000000</td>\n",
              "      <td>6.000000</td>\n",
              "      <td>3.000000</td>\n",
              "      <td>79.000000</td>\n",
              "      <td>8.000000</td>\n",
              "      <td>8.000000</td>\n",
              "      <td>8.000000</td>\n",
              "      <td>8.000000</td>\n",
              "      <td>8.000000</td>\n",
              "      <td>...</td>\n",
              "      <td>891586.000000</td>\n",
              "      <td>927171.000000</td>\n",
              "      <td>961664.000000</td>\n",
              "      <td>873552.000000</td>\n",
              "      <td>1.684259e+06</td>\n",
              "      <td>896040.000000</td>\n",
              "      <td>621000.000000</td>\n",
              "      <td>426529.000000</td>\n",
              "      <td>528666.000000</td>\n",
              "      <td>1.000000</td>\n",
              "    </tr>\n",
              "  </tbody>\n",
              "</table>\n",
              "<p>8 rows × 24 columns</p>\n",
              "</div>\n",
              "      <button class=\"colab-df-convert\" onclick=\"convertToInteractive('df-bce7b8b9-453d-42fd-b27c-0d105d32e911')\"\n",
              "              title=\"Convert this dataframe to an interactive table.\"\n",
              "              style=\"display:none;\">\n",
              "        \n",
              "  <svg xmlns=\"http://www.w3.org/2000/svg\" height=\"24px\"viewBox=\"0 0 24 24\"\n",
              "       width=\"24px\">\n",
              "    <path d=\"M0 0h24v24H0V0z\" fill=\"none\"/>\n",
              "    <path d=\"M18.56 5.44l.94 2.06.94-2.06 2.06-.94-2.06-.94-.94-2.06-.94 2.06-2.06.94zm-11 1L8.5 8.5l.94-2.06 2.06-.94-2.06-.94L8.5 2.5l-.94 2.06-2.06.94zm10 10l.94 2.06.94-2.06 2.06-.94-2.06-.94-.94-2.06-.94 2.06-2.06.94z\"/><path d=\"M17.41 7.96l-1.37-1.37c-.4-.4-.92-.59-1.43-.59-.52 0-1.04.2-1.43.59L10.3 9.45l-7.72 7.72c-.78.78-.78 2.05 0 2.83L4 21.41c.39.39.9.59 1.41.59.51 0 1.02-.2 1.41-.59l7.78-7.78 2.81-2.81c.8-.78.8-2.07 0-2.86zM5.41 20L4 18.59l7.72-7.72 1.47 1.35L5.41 20z\"/>\n",
              "  </svg>\n",
              "      </button>\n",
              "      \n",
              "  <style>\n",
              "    .colab-df-container {\n",
              "      display:flex;\n",
              "      flex-wrap:wrap;\n",
              "      gap: 12px;\n",
              "    }\n",
              "\n",
              "    .colab-df-convert {\n",
              "      background-color: #E8F0FE;\n",
              "      border: none;\n",
              "      border-radius: 50%;\n",
              "      cursor: pointer;\n",
              "      display: none;\n",
              "      fill: #1967D2;\n",
              "      height: 32px;\n",
              "      padding: 0 0 0 0;\n",
              "      width: 32px;\n",
              "    }\n",
              "\n",
              "    .colab-df-convert:hover {\n",
              "      background-color: #E2EBFA;\n",
              "      box-shadow: 0px 1px 2px rgba(60, 64, 67, 0.3), 0px 1px 3px 1px rgba(60, 64, 67, 0.15);\n",
              "      fill: #174EA6;\n",
              "    }\n",
              "\n",
              "    [theme=dark] .colab-df-convert {\n",
              "      background-color: #3B4455;\n",
              "      fill: #D2E3FC;\n",
              "    }\n",
              "\n",
              "    [theme=dark] .colab-df-convert:hover {\n",
              "      background-color: #434B5C;\n",
              "      box-shadow: 0px 1px 3px 1px rgba(0, 0, 0, 0.15);\n",
              "      filter: drop-shadow(0px 1px 2px rgba(0, 0, 0, 0.3));\n",
              "      fill: #FFFFFF;\n",
              "    }\n",
              "  </style>\n",
              "\n",
              "      <script>\n",
              "        const buttonEl =\n",
              "          document.querySelector('#df-bce7b8b9-453d-42fd-b27c-0d105d32e911 button.colab-df-convert');\n",
              "        buttonEl.style.display =\n",
              "          google.colab.kernel.accessAllowed ? 'block' : 'none';\n",
              "\n",
              "        async function convertToInteractive(key) {\n",
              "          const element = document.querySelector('#df-bce7b8b9-453d-42fd-b27c-0d105d32e911');\n",
              "          const dataTable =\n",
              "            await google.colab.kernel.invokeFunction('convertToInteractive',\n",
              "                                                     [key], {});\n",
              "          if (!dataTable) return;\n",
              "\n",
              "          const docLinkHtml = 'Like what you see? Visit the ' +\n",
              "            '<a target=\"_blank\" href=https://colab.research.google.com/notebooks/data_table.ipynb>data table notebook</a>'\n",
              "            + ' to learn more about interactive tables.';\n",
              "          element.innerHTML = '';\n",
              "          dataTable['output_type'] = 'display_data';\n",
              "          await google.colab.output.renderOutput(dataTable, element);\n",
              "          const docLink = document.createElement('div');\n",
              "          docLink.innerHTML = docLinkHtml;\n",
              "          element.appendChild(docLink);\n",
              "        }\n",
              "      </script>\n",
              "    </div>\n",
              "  </div>\n",
              "  "
            ]
          },
          "metadata": {},
          "execution_count": 161
        }
      ]
    },
    {
      "cell_type": "markdown",
      "source": [
        "Count nos indica la cuenta de las observaciones, meen indica el promedio de los elementos que integran la columna. La desviación estandar nos indica  la variación o disperción del conjunto de datos que integran la columna. Min, es el valor minimo encontrado en la columna, Max, es el valor maximo encontrado en la columna de datos. Los cuartiles basicamente nos permiten dividir o separar la muestra en cuatro partes iguales. Entre cuartil y cuartil se delimita un 25%.. El cuartil de 25%, nos indica que el 25% de los datos de la columna se encuentran por debajo de 50000, el cualtil de 50%, se encuentra localizado en el valor de 140000, lo que nos indica que el 50% de los datos esta por debajo de 140000, el cuartil de 75%, nos indica que el 75% de los datos de la columna se encuentran por arriba de ese valor.  "
      ],
      "metadata": {
        "id": "BQHbqlZF_b_C"
      }
    },
    {
      "cell_type": "markdown",
      "source": [
        "##5._Realiza el conteo de las variables categóricas"
      ],
      "metadata": {
        "id": "yJxS20NG0A70"
      }
    },
    {
      "cell_type": "code",
      "source": [
        "df_clean['X2'].value_counts()"
      ],
      "metadata": {
        "colab": {
          "base_uri": "https://localhost:8080/"
        },
        "id": "1K_RXZF70Hcc",
        "outputId": "88361aa3-5947-450b-88df-b0343aab6004"
      },
      "execution_count": null,
      "outputs": [
        {
          "output_type": "execute_result",
          "data": {
            "text/plain": [
              "2.0    18095\n",
              "1.0    11863\n",
              "Name: X2, dtype: int64"
            ]
          },
          "metadata": {},
          "execution_count": 162
        }
      ]
    },
    {
      "cell_type": "code",
      "source": [
        "df_clean['X3'].value_counts()"
      ],
      "metadata": {
        "colab": {
          "base_uri": "https://localhost:8080/"
        },
        "id": "-LkqysnZiWRC",
        "outputId": "07307fbc-f934-4aff-ef16-7f6affdb01b3"
      },
      "execution_count": 191,
      "outputs": [
        {
          "output_type": "execute_result",
          "data": {
            "text/plain": [
              "2.0    14009\n",
              "1.0    10572\n",
              "3.0     4909\n",
              "5.0      280\n",
              "4.0      123\n",
              "6.0       51\n",
              "0.0       14\n",
              "Name: X3, dtype: int64"
            ]
          },
          "metadata": {},
          "execution_count": 191
        }
      ]
    },
    {
      "cell_type": "code",
      "source": [
        "df_clean['X4'].value_counts()"
      ],
      "metadata": {
        "colab": {
          "base_uri": "https://localhost:8080/"
        },
        "id": "mvXP_yUuiaVK",
        "outputId": "e55bfa01-9539-4ce0-ebfe-063d19dcc8fe"
      },
      "execution_count": null,
      "outputs": [
        {
          "output_type": "execute_result",
          "data": {
            "text/plain": [
              "2.0    15939\n",
              "1.0    13643\n",
              "3.0      322\n",
              "0.0       54\n",
              "Name: X4, dtype: int64"
            ]
          },
          "metadata": {},
          "execution_count": 164
        }
      ]
    },
    {
      "cell_type": "code",
      "source": [
        "df_clean['X5'].value_counts()"
      ],
      "metadata": {
        "colab": {
          "base_uri": "https://localhost:8080/"
        },
        "id": "Y2S-mVJ5idFK",
        "outputId": "a0d2cc67-ae23-4e87-f923-1a6438b41f9e"
      },
      "execution_count": null,
      "outputs": [
        {
          "output_type": "execute_result",
          "data": {
            "text/plain": [
              "29.0    1601\n",
              "27.0    1475\n",
              "28.0    1408\n",
              "30.0    1393\n",
              "26.0    1255\n",
              "31.0    1216\n",
              "25.0    1184\n",
              "34.0    1161\n",
              "32.0    1156\n",
              "33.0    1145\n",
              "24.0    1123\n",
              "35.0    1113\n",
              "36.0    1108\n",
              "37.0    1040\n",
              "39.0     954\n",
              "38.0     943\n",
              "23.0     931\n",
              "40.0     868\n",
              "41.0     820\n",
              "42.0     794\n",
              "44.0     700\n",
              "43.0     669\n",
              "45.0     617\n",
              "46.0     569\n",
              "22.0     559\n",
              "47.0     498\n",
              "48.0     466\n",
              "49.0     450\n",
              "50.0     411\n",
              "51.0     339\n",
              "53.0     325\n",
              "52.0     304\n",
              "54.0     246\n",
              "55.0     208\n",
              "56.0     177\n",
              "58.0     122\n",
              "57.0     122\n",
              "59.0      83\n",
              "60.0      67\n",
              "21.0      67\n",
              "61.0      56\n",
              "62.0      44\n",
              "64.0      31\n",
              "63.0      31\n",
              "66.0      25\n",
              "65.0      24\n",
              "67.0      16\n",
              "69.0      15\n",
              "70.0      10\n",
              "68.0       5\n",
              "73.0       4\n",
              "72.0       3\n",
              "71.0       3\n",
              "75.0       2\n",
              "79.0       1\n",
              "74.0       1\n",
              "Name: X5, dtype: int64"
            ]
          },
          "metadata": {},
          "execution_count": 165
        }
      ]
    },
    {
      "cell_type": "markdown",
      "source": [
        "##6._Escala los datos, si lo consideras necesario"
      ],
      "metadata": {
        "id": "tOgAArwt0H6M"
      }
    },
    {
      "cell_type": "code",
      "source": [
        "from sklearn.preprocessing import MinMaxScaler\n",
        "\n",
        "scaler = MinMaxScaler()\n",
        "df_scaled = scaler.fit_transform(df_clean)\n",
        "df_scaled"
      ],
      "metadata": {
        "colab": {
          "base_uri": "https://localhost:8080/"
        },
        "id": "6lzCaBOH0N30",
        "outputId": "65494c83-9a87-4aa4-9743-a288b2b02aa1"
      },
      "execution_count": null,
      "outputs": [
        {
          "output_type": "execute_result",
          "data": {
            "text/plain": [
              "array([[0.01010101, 1.        , 0.33333333, ..., 0.        , 0.        ,\n",
              "        1.        ],\n",
              "       [0.11111111, 1.        , 0.33333333, ..., 0.        , 0.00378311,\n",
              "        1.        ],\n",
              "       [0.08080808, 1.        , 0.33333333, ..., 0.00234451, 0.00945777,\n",
              "        0.        ],\n",
              "       ...,\n",
              "       [0.02020202, 0.        , 0.33333333, ..., 0.00468901, 0.00586382,\n",
              "        1.        ],\n",
              "       [0.07070707, 0.        , 0.5       , ..., 0.12417444, 0.00341236,\n",
              "        1.        ],\n",
              "       [0.04040404, 0.        , 0.33333333, ..., 0.00234451, 0.00189155,\n",
              "        1.        ]])"
            ]
          },
          "metadata": {},
          "execution_count": 166
        }
      ]
    },
    {
      "cell_type": "code",
      "source": [
        "df_scaled.shape"
      ],
      "metadata": {
        "colab": {
          "base_uri": "https://localhost:8080/"
        },
        "id": "3wsA0vZNuL5w",
        "outputId": "94960df1-78e8-403f-d73e-80cca68e08ca"
      },
      "execution_count": null,
      "outputs": [
        {
          "output_type": "execute_result",
          "data": {
            "text/plain": [
              "(29958, 24)"
            ]
          },
          "metadata": {},
          "execution_count": 167
        }
      ]
    },
    {
      "cell_type": "markdown",
      "source": [
        "##7._Reduce las dimensiones con PCA, si consideras necesario\n",
        "\n",
        "\n",
        "1.   Indica la varianza de los datos explicada por cada componente seleccionado. Para actividades de exploración de los dato la varianza > 70%.\n",
        "2.   Indica la importancia de las variables en cada componente\n",
        "\n"
      ],
      "metadata": {
        "id": "cUw5wuH30OIE"
      }
    },
    {
      "cell_type": "code",
      "source": [
        "import numpy as np\n",
        "import matplotlib.pyplot as plt\n",
        "from sklearn import datasets\n",
        "from sklearn.decomposition import PCA\n",
        "import pandas as pd\n",
        "from sklearn.preprocessing import StandardScaler\n",
        "\n",
        "X = df_scaled[:,0:22]\n",
        "y = df_scaled[:,23]\n",
        "pca = PCA(n_components=5) # Solo se estiman 2 componentes principales.\n",
        "X_new = pca.fit_transform(X)"
      ],
      "metadata": {
        "id": "NVN8vC4M0z3k"
      },
      "execution_count": null,
      "outputs": []
    },
    {
      "cell_type": "code",
      "source": [
        "fig, axes = plt.subplots(1,2)\n",
        "axes[0].scatter(X[:,1], X[:,2], c=y)\n",
        "axes[0].set_xlabel('x1')\n",
        "axes[0].set_ylabel('x2')\n",
        "axes[0].set_title('Before PCA')\n",
        "axes[1].scatter(X_new[:,0], X_new[:,1], c=y)\n",
        "axes[1].set_xlabel('PC1')\n",
        "axes[1].set_ylabel('PC2')\n",
        "axes[1].set_title('After PCA')\n",
        "plt.show()"
      ],
      "metadata": {
        "colab": {
          "base_uri": "https://localhost:8080/",
          "height": 295
        },
        "id": "XNxQXiIRt9rR",
        "outputId": "c346dc5e-781b-474f-950a-25b30b6fc7b5"
      },
      "execution_count": null,
      "outputs": [
        {
          "output_type": "display_data",
          "data": {
            "text/plain": [
              "<Figure size 432x288 with 2 Axes>"
            ],
            "image/png": "[encoded data removed]"
          },
          "metadata": {
            "needs_background": "light"
          }
        }
      ]
    },
    {
      "cell_type": "code",
      "source": [
        "print(pca.explained_variance_ratio_)"
      ],
      "metadata": {
        "colab": {
          "base_uri": "https://localhost:8080/"
        },
        "id": "kquagGaeuwDP",
        "outputId": "9e8b073b-ecc0-41f5-e1bb-71e4e74f3dd6"
      },
      "execution_count": null,
      "outputs": [
        {
          "output_type": "stream",
          "name": "stdout",
          "text": [
            "[0.55431122 0.14394135 0.09414729 0.0552026  0.03848222]\n"
          ]
        }
      ]
    },
    {
      "cell_type": "code",
      "source": [
        "np.cov(X_new.T)\n"
      ],
      "metadata": {
        "colab": {
          "base_uri": "https://localhost:8080/"
        },
        "id": "8-6FM6MuwTOZ",
        "outputId": "819231dd-701e-46ec-ea8d-8a32e636a365"
      },
      "execution_count": null,
      "outputs": [
        {
          "output_type": "execute_result",
          "data": {
            "text/plain": [
              "array([[ 2.39859379e-01,  1.48242217e-19, -1.58619172e-18,\n",
              "        -1.46759795e-18,  1.09421287e-18],\n",
              "       [ 1.48242217e-19,  6.22857348e-02,  5.40713487e-18,\n",
              "        -8.80188164e-19, -1.22299829e-19],\n",
              "       [-1.58619172e-18,  5.40713487e-18,  4.07390482e-02,\n",
              "        -8.91306330e-19,  3.22426822e-18],\n",
              "       [-1.46759795e-18, -8.80188164e-19, -8.91306330e-19,\n",
              "         2.38870528e-02,  1.06827048e-17],\n",
              "       [ 1.09421287e-18, -1.22299829e-19,  3.22426822e-18,\n",
              "         1.06827048e-17,  1.66518771e-02]])"
            ]
          },
          "metadata": {},
          "execution_count": 171
        }
      ]
    },
    {
      "cell_type": "code",
      "source": [
        "pca.explained_variance_\n"
      ],
      "metadata": {
        "colab": {
          "base_uri": "https://localhost:8080/"
        },
        "id": "Y2zUX0rQu5_3",
        "outputId": "de21e0ca-53d3-459f-889a-f7bd14e05519"
      },
      "execution_count": null,
      "outputs": [
        {
          "output_type": "execute_result",
          "data": {
            "text/plain": [
              "array([0.23985938, 0.06228573, 0.04073905, 0.02388705, 0.01665188])"
            ]
          },
          "metadata": {},
          "execution_count": 172
        }
      ]
    },
    {
      "cell_type": "code",
      "source": [
        "print(abs( pca.components_ ))"
      ],
      "metadata": {
        "colab": {
          "base_uri": "https://localhost:8080/"
        },
        "id": "Iw0Jc4aawa5W",
        "outputId": "d44435f0-afa8-4ccb-b899-09f1a8527c47"
      },
      "execution_count": null,
      "outputs": [
        {
          "output_type": "stream",
          "name": "stdout",
          "text": [
            "[[8.43876784e-03 9.98288497e-01 2.92534647e-03 1.14599422e-02\n",
            "  3.17804595e-02 1.71701735e-02 2.21783826e-02 2.10504817e-02\n",
            "  1.91202070e-02 1.71783773e-02 1.45729403e-02 5.52173110e-03\n",
            "  5.44634421e-03 2.55394169e-03 3.74727632e-03 3.13548694e-03\n",
            "  2.33461166e-03 3.29164175e-06 2.14882941e-05 3.16734751e-04\n",
            "  7.66386711e-05 7.06100455e-05]\n",
            " [2.08033649e-01 4.44151727e-02 8.92665857e-02 7.75133626e-02\n",
            "  9.28747616e-02 3.22961373e-01 4.02782498e-01 4.16784642e-01\n",
            "  4.11832091e-01 3.91929787e-01 3.76143661e-01 7.08824069e-02\n",
            "  7.89996582e-02 4.48597925e-02 7.35104252e-02 7.35365481e-02\n",
            "  5.46785630e-02 2.68615383e-03 2.48226620e-03 4.05094038e-03\n",
            "  5.34547404e-03 7.97754612e-03]\n",
            " [1.06340641e-01 1.51015070e-02 2.01421851e-01 7.45973129e-01\n",
            "  6.05913397e-01 3.72563160e-02 4.61406550e-02 4.38651217e-02\n",
            "  4.52123232e-02 4.10472553e-02 3.98730698e-02 5.39887755e-02\n",
            "  5.61872830e-02 3.19064886e-02 5.04197207e-02 4.98964000e-02\n",
            "  3.63696622e-02 3.63555978e-03 2.18665997e-03 3.56119196e-03\n",
            "  4.62518034e-03 5.42350759e-03]\n",
            " [6.38198448e-01 5.37581303e-03 3.79439363e-01 1.00256342e-01\n",
            "  2.65938751e-03 2.42899138e-02 5.55782965e-03 1.01806971e-02\n",
            "  3.24426752e-02 5.29425382e-02 6.53800873e-02 2.95568792e-01\n",
            "  3.11456856e-01 1.75600683e-01 2.86733588e-01 2.84131561e-01\n",
            "  2.10909839e-01 3.13969268e-02 1.83509277e-02 3.27128708e-02\n",
            "  3.89716617e-02 5.69516457e-02]\n",
            " [2.27133348e-02 2.05698706e-02 5.45494588e-01 6.05887985e-01\n",
            "  5.34067538e-01 2.32365925e-02 2.98820566e-02 3.54879066e-02\n",
            "  3.59250169e-02 3.60930986e-02 3.32042810e-02 1.02190548e-01\n",
            "  1.05214669e-01 5.65188711e-02 8.64223242e-02 8.12033091e-02\n",
            "  6.04448564e-02 7.57584721e-03 3.98434756e-03 8.03279871e-03\n",
            "  7.19219300e-03 1.29161527e-02]]\n"
          ]
        }
      ]
    },
    {
      "cell_type": "markdown",
      "source": [
        "Podemos observar en la variable de relación de varianza explicada, con solo dos componentes principales cubrimos alrededor del 70% de la información de relevancia, la cual nos permitirá realizar una exploración de los datos de una forma más relevante. Para el componente principal #1, la variable de edad es la que tiene mayor relevancia. En el componente principal #2, encontramos que la variable de mayor relevancia es el historial de pagos. Los datos obtenidos del componente principal #3, nos indican que la variable de mayor relevancia es el estado civil. El, componte principal #4, nos indica que la cantidad de crédito solicitado es la variable de mayor relevancia, y por último, pero no menos importante el componente principal #5 nos indica que el estado civil es la variable de mayor relevancia. Podemos observar que el estado civil se encuentra repetido, en dos componentes principales. También observamos que el 70% de la información de relevancia se encuentra contenida en el componente principal 1 y 2, en los cuales las variables relevantes son la edad y el historial de crédito. Lo cual suena lógico al momento de solicitar algún tipo de crédito."
      ],
      "metadata": {
        "id": "0Y1A5UjFZQxN"
      }
    },
    {
      "cell_type": "markdown",
      "source": [
        "##8._Elabora los histogramas de los atributos para visualizar su distribución."
      ],
      "metadata": {
        "id": "iNC5KMIx00q8"
      }
    },
    {
      "cell_type": "code",
      "source": [
        "import pandas as pd\n",
        "import matplotlib.pyplot as plt\n",
        "df_clean.hist(column='X2')"
      ],
      "metadata": {
        "colab": {
          "base_uri": "https://localhost:8080/",
          "height": 316
        },
        "id": "xRZbe0lw08p0",
        "outputId": "88063801-f48e-41ab-d656-9f98fa4f7adf"
      },
      "execution_count": null,
      "outputs": [
        {
          "output_type": "execute_result",
          "data": {
            "text/plain": [
              "array([[<matplotlib.axes._subplots.AxesSubplot object at 0x7f8116069450>]],\n",
              "      dtype=object)"
            ]
          },
          "metadata": {},
          "execution_count": 174
        },
        {
          "output_type": "display_data",
          "data": {
            "text/plain": [
              "<Figure size 432x288 with 1 Axes>"
            ],
            "image/png": "[encoded data removed]"
          },
          "metadata": {
            "needs_background": "light"
          }
        }
      ]
    },
    {
      "cell_type": "code",
      "source": [
        "df_to_hist=df_clean.drop(['X10','X11','X12','X13','X14','X15','X16','X17','X18','X19','X20','X21','X22','X23','Y'], axis=1)\n",
        "df_to_hist.hist(figsize=(15,30),layout=(9,3))\n"
      ],
      "metadata": {
        "colab": {
          "base_uri": "https://localhost:8080/",
          "height": 1000
        },
        "id": "mUrSyt_opHbx",
        "outputId": "d54bd905-8016-4d8e-ca06-a5afcda220e0"
      },
      "execution_count": null,
      "outputs": [
        {
          "output_type": "execute_result",
          "data": {
            "text/plain": [
              "array([[<matplotlib.axes._subplots.AxesSubplot object at 0x7f8115831dd0>,\n",
              "        <matplotlib.axes._subplots.AxesSubplot object at 0x7f81157ed3d0>,\n",
              "        <matplotlib.axes._subplots.AxesSubplot object at 0x7f8115822790>],\n",
              "       [<matplotlib.axes._subplots.AxesSubplot object at 0x7f81157dac90>,\n",
              "        <matplotlib.axes._subplots.AxesSubplot object at 0x7f8115792f90>,\n",
              "        <matplotlib.axes._subplots.AxesSubplot object at 0x7f81157534d0>],\n",
              "       [<matplotlib.axes._subplots.AxesSubplot object at 0x7f81157099d0>,\n",
              "        <matplotlib.axes._subplots.AxesSubplot object at 0x7f81156c3ed0>,\n",
              "        <matplotlib.axes._subplots.AxesSubplot object at 0x7f81156df7d0>],\n",
              "       [<matplotlib.axes._subplots.AxesSubplot object at 0x7f8115697e10>,\n",
              "        <matplotlib.axes._subplots.AxesSubplot object at 0x7f81155f3e10>,\n",
              "        <matplotlib.axes._subplots.AxesSubplot object at 0x7f81155b4350>],\n",
              "       [<matplotlib.axes._subplots.AxesSubplot object at 0x7f81155e9850>,\n",
              "        <matplotlib.axes._subplots.AxesSubplot object at 0x7f81155a2d50>,\n",
              "        <matplotlib.axes._subplots.AxesSubplot object at 0x7f8115565290>],\n",
              "       [<matplotlib.axes._subplots.AxesSubplot object at 0x7f811551a790>,\n",
              "        <matplotlib.axes._subplots.AxesSubplot object at 0x7f81154d4c90>,\n",
              "        <matplotlib.axes._subplots.AxesSubplot object at 0x7f81154961d0>],\n",
              "       [<matplotlib.axes._subplots.AxesSubplot object at 0x7f811544f6d0>,\n",
              "        <matplotlib.axes._subplots.AxesSubplot object at 0x7f8115405bd0>,\n",
              "        <matplotlib.axes._subplots.AxesSubplot object at 0x7f81153c5110>],\n",
              "       [<matplotlib.axes._subplots.AxesSubplot object at 0x7f811537d610>,\n",
              "        <matplotlib.axes._subplots.AxesSubplot object at 0x7f8115333b10>,\n",
              "        <matplotlib.axes._subplots.AxesSubplot object at 0x7f81152f4050>],\n",
              "       [<matplotlib.axes._subplots.AxesSubplot object at 0x7f81152ac550>,\n",
              "        <matplotlib.axes._subplots.AxesSubplot object at 0x7f81152e3a50>,\n",
              "        <matplotlib.axes._subplots.AxesSubplot object at 0x7f811529cf50>]],\n",
              "      dtype=object)"
            ]
          },
          "metadata": {},
          "execution_count": 175
        },
        {
          "output_type": "display_data",
          "data": {
            "text/plain": [
              "<Figure size 1080x2160 with 27 Axes>"
            ],
            "image/png": "[encoded data removed]"
          },
          "metadata": {
            "needs_background": "light"
          }
        }
      ]
    },
    {
      "cell_type": "markdown",
      "source": [
        "##9._Realiza la visualización de los datos usando por lo menos 3 gráficos que consideres adecuados: plot scatter, jointplot, boxplot, areaplot, pie chart, pairplot, bar chart, etc."
      ],
      "metadata": {
        "id": "swrFbhCn0828"
      }
    },
    {
      "cell_type": "code",
      "source": [
        "df_clean['X2'].value_counts()\n",
        "\n",
        "Genero = ['Masculino','Femenino']\n",
        "datos = [11863, 18095]\n",
        "\n",
        "fig = plt.figure(figsize =(10, 7))\n",
        "plt.pie(datos, labels = Genero)\n",
        "# show plot\n",
        "plt.show()"
      ],
      "metadata": {
        "colab": {
          "base_uri": "https://localhost:8080/",
          "height": 411
        },
        "id": "PAbtJI5d1Pa7",
        "outputId": "eaf474dd-e8a5-4273-cb6c-03ea9bfb3fdc"
      },
      "execution_count": 193,
      "outputs": [
        {
          "output_type": "display_data",
          "data": {
            "text/plain": [
              "<Figure size 720x504 with 1 Axes>"
            ],
            "image/png": "[encoded data removed]"
          },
          "metadata": {}
        }
      ]
    },
    {
      "cell_type": "code",
      "source": [
        "df_clean.plot.scatter(x='X1', y='X2', title= \"Scatter plot between two columns of a multi-column DataFrame\");\n",
        "\n",
        "plt.show(block=True);"
      ],
      "metadata": {
        "colab": {
          "base_uri": "https://localhost:8080/",
          "height": 295
        },
        "id": "Jlp7ymD3KcMX",
        "outputId": "cbf54975-200b-40ac-8802-31c368681d2c"
      },
      "execution_count": null,
      "outputs": [
        {
          "output_type": "display_data",
          "data": {
            "text/plain": [
              "<Figure size 432x288 with 1 Axes>"
            ],
            "image/png": "[encoded data removed]"
          },
          "metadata": {
            "needs_background": "light"
          }
        }
      ]
    },
    {
      "cell_type": "code",
      "source": [
        "df_clean.boxplot(by ='X4', column =['X1'], grid = False)"
      ],
      "metadata": {
        "id": "c9wNRYMXOD6p",
        "colab": {
          "base_uri": "https://localhost:8080/",
          "height": 373
        },
        "outputId": "46a6af69-850b-4fd8-b675-9f40d5aa8d95"
      },
      "execution_count": 194,
      "outputs": [
        {
          "output_type": "stream",
          "name": "stderr",
          "text": [
            "/usr/local/lib/python3.7/dist-packages/matplotlib/cbook/__init__.py:1376: VisibleDeprecationWarning: Creating an ndarray from ragged nested sequences (which is a list-or-tuple of lists-or-tuples-or ndarrays with different lengths or shapes) is deprecated. If you meant to do this, you must specify 'dtype=object' when creating the ndarray.\n",
            "  X = np.atleast_1d(X.T if isinstance(X, np.ndarray) else np.asarray(X))\n"
          ]
        },
        {
          "output_type": "execute_result",
          "data": {
            "text/plain": [
              "<matplotlib.axes._subplots.AxesSubplot at 0x7f8114ffed10>"
            ]
          },
          "metadata": {},
          "execution_count": 194
        },
        {
          "output_type": "display_data",
          "data": {
            "text/plain": [
              "<Figure size 432x288 with 1 Axes>"
            ],
            "image/png": "[encoded data removed]"
          },
          "metadata": {
            "needs_background": "light"
          }
        }
      ]
    },
    {
      "cell_type": "markdown",
      "source": [
        "##10._Interpreta y explica cada uno de los graficos indicando cuál es la información más relevante que podría ayudar en el proceso de toma de decisiones.\n",
        "\n",
        "\n",
        "*   La gráfica de pastel representa la distribución proporcional de los datos, en nuestro caso del total de solicitudes de crédito, esta nos muestra que más del 50% de las solicitudes de crédito son realizadas por personas del género femenino, dato curioso.\n",
        "\n",
        "*   La gráfica de dispersión, nos muestra los valores de dos variables para un conjunto de datos, para nuestro caso partículas las variables que se muestran o comparan son la cantidad de monto solicitado con respecto al género. Podemos observar en la gráfica que las cantidades de dinero solicitadas entre el género masculino y femenino son muy similares. También observamos un dato fuera de rango en donde el género femenino realiza la solicitud de un crédito mayor.\n",
        "\n",
        "*   La gráfica de cajas y bigotes nos permite representar datos numéricos a través de cuartiles. Podemos observar rápidamente valores de mediana, y sus respectivos cuartiles, así como datos atípicos. En nuestro caso observamos que para los diferentes estados civiles se presentan bastantes datos atípicos. Las categorías de soltero y casado presentan mayores datos atípicos, la categoría de otro estado civil presenta la menor cantidad de datos atípicos. Observamos también que el estado civil que solicita mayor monto de crédito es el de casado, en comparación con otro estado civil.\n",
        "\n",
        "Como conclusión general podemos mencionar que el procesamiento de la información, el análisis de los datos y la visualización de los mismos da la pauta para llevar a cabo una mejor toma de decisiones, y a la parte de fundamental para dentro del entrenamiento de los diferentes modelos de aprendizaje máquina o redes neuronales artificiales.\n",
        "\n"
      ],
      "metadata": {
        "id": "MZTLwrYO1PtD"
      }
    }
  ]
}